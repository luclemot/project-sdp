{
 "cells": [
  {
   "cell_type": "markdown",
   "metadata": {},
   "source": [
    "# Libraries"
   ]
  },
  {
   "cell_type": "markdown",
   "metadata": {},
   "source": [
    "https://www.gurobi.com/documentation/9.5/refman/py_python_api_overview.html"
   ]
  },
  {
   "cell_type": "code",
   "execution_count": 14,
   "metadata": {},
   "outputs": [],
   "source": [
    "# Libraries\n",
    "import gurobipy as grb\n",
    "from gurobipy import GRB"
   ]
  },
  {
   "cell_type": "markdown",
   "metadata": {},
   "source": [
    "# Model"
   ]
  },
  {
   "cell_type": "markdown",
   "metadata": {},
   "source": [
    "https://www.gurobi.com/documentation/9.5/refman/py_model.html#pythonclass:Model"
   ]
  },
  {
   "cell_type": "code",
   "execution_count": 15,
   "metadata": {},
   "outputs": [],
   "source": [
    " # Create a model\n",
    "model = grb.Model(\"Model\")"
   ]
  },
  {
   "cell_type": "markdown",
   "metadata": {},
   "source": [
    "# Decision variables"
   ]
  },
  {
   "cell_type": "markdown",
   "metadata": {},
   "source": [
    "https://www.gurobi.com/documentation/9.5/refman/py_model_addvar.html#pythonmethod:Model.addVar\n",
    "https://www.gurobi.com/documentation/9.5/refman/py_model_addvars.html#pythonmethod:Model.addVars\n",
    "https://www.gurobi.com/documentation/9.5/refman/py_model_addmvar.html#pythonmethod:Model.addMVar"
   ]
  },
  {
   "cell_type": "code",
   "execution_count": 16,
   "metadata": {},
   "outputs": [],
   "source": [
    "# Add decision variables\n",
    "# - One integer which will be associated to its decimal decomposition\n",
    "# NB: 4 decimal digits number\n",
    "M = model.addVar(vtype=GRB.INTEGER, name=\"M\")\n",
    "D = model.addVars([i for i in range(4)], vtype=GRB.INTEGER, lb=0, ub=9, name=\"D\")\n",
    "# - Two integers which will be associated to their binary decomposition\n",
    "# NB: 10 binary digits number\n",
    "N = model.addVars([i for i in range(1, 3)], vtype=GRB.INTEGER, name=\"N\")\n",
    "B = model.addVars([(i, j) for i in range(1, 3) for j in range(10)], vtype=GRB.BINARY, name=\"B\")"
   ]
  },
  {
   "cell_type": "code",
   "execution_count": 17,
   "metadata": {},
   "outputs": [
    {
     "data": {
      "text/plain": [
       "{(1, 0): <gurobi.Var *Awaiting Model Update*>,\n",
       " (1, 1): <gurobi.Var *Awaiting Model Update*>,\n",
       " (1, 2): <gurobi.Var *Awaiting Model Update*>,\n",
       " (1, 3): <gurobi.Var *Awaiting Model Update*>,\n",
       " (1, 4): <gurobi.Var *Awaiting Model Update*>,\n",
       " (1, 5): <gurobi.Var *Awaiting Model Update*>,\n",
       " (1, 6): <gurobi.Var *Awaiting Model Update*>,\n",
       " (1, 7): <gurobi.Var *Awaiting Model Update*>,\n",
       " (1, 8): <gurobi.Var *Awaiting Model Update*>,\n",
       " (1, 9): <gurobi.Var *Awaiting Model Update*>,\n",
       " (2, 0): <gurobi.Var *Awaiting Model Update*>,\n",
       " (2, 1): <gurobi.Var *Awaiting Model Update*>,\n",
       " (2, 2): <gurobi.Var *Awaiting Model Update*>,\n",
       " (2, 3): <gurobi.Var *Awaiting Model Update*>,\n",
       " (2, 4): <gurobi.Var *Awaiting Model Update*>,\n",
       " (2, 5): <gurobi.Var *Awaiting Model Update*>,\n",
       " (2, 6): <gurobi.Var *Awaiting Model Update*>,\n",
       " (2, 7): <gurobi.Var *Awaiting Model Update*>,\n",
       " (2, 8): <gurobi.Var *Awaiting Model Update*>,\n",
       " (2, 9): <gurobi.Var *Awaiting Model Update*>}"
      ]
     },
     "execution_count": 17,
     "metadata": {},
     "output_type": "execute_result"
    }
   ],
   "source": [
    "B"
   ]
  },
  {
   "cell_type": "markdown",
   "metadata": {},
   "source": [
    "# Constraints"
   ]
  },
  {
   "cell_type": "markdown",
   "metadata": {},
   "source": [
    "https://www.gurobi.com/documentation/9.5/refman/py_model_addconstr.html#pythonmethod:Model.addConstr\n",
    "https://www.gurobi.com/documentation/9.5/refman/py_model_addconstrs.html#pythonmethod:Model.addConstrs"
   ]
  },
  {
   "cell_type": "code",
   "execution_count": 4,
   "metadata": {},
   "outputs": [
    {
     "data": {
      "text/plain": [
       "<gurobi.Constr *Awaiting Model Update*>"
      ]
     },
     "execution_count": 4,
     "metadata": {},
     "output_type": "execute_result"
    }
   ],
   "source": [
    "# Add constraints\n",
    "\n",
    "# - M must be equal to its decimal decomposition\n",
    "model.addConstr(M == grb.quicksum(D[i]*(10**i) for i in range(4)), name=f\"MVsDecimalDecomposition\")\n",
    "\n",
    "# - The sum of digits of the decimal decomposition must be equal to 12\n",
    "model.addConstr(grb.quicksum(D[i] for i in range(4)) == 12, name=f\"SumDigits\")\n",
    "\n",
    "# - The digits of the decimal decomposition must be increasing (reading from left to right)\n",
    "# NB: strict inequalities cannot be implemented using < or >, must use <= and >= and +1\n",
    "for i in range(3):\n",
    "    model.addConstr(D[i+1] + 1 <= D[i], name=f\"IncreasingDigits[{i}]\")\n",
    "# or\n",
    "# model.addConstrs((D[i+1] + 1 <= D[i] for i in range(3)), name=f\"IncreasingDigits\")\n",
    "\n",
    "# - N numbers must be associated to their binary decompositions\n",
    "for i in range(1, 3):\n",
    "    model.addConstr(N[i] == grb.quicksum(B[i, j]*(2**j) for j in range(10)), name=f\"NVsBinaryDecomposition[{i}]\")\n",
    "\n",
    "# - The number of non-zero digits in the binary decompositions must be between 2 and 6 (both included)\n",
    "for i in range(1, 3):\n",
    "    model.addConstr(grb.quicksum(B[i, j] for j in range(10)) >= 2, name=f\"NbNonZeroDigitsLB[{i}]\")\n",
    "    model.addConstr(grb.quicksum(B[i, j] for j in range(10)) <= 6, name=f\"NbNonZeroDigitsUB[{i}]\")\n",
    "\n",
    "# - The sum of the numbers N must be equal to M\n",
    "model.addConstr(N[1] + N[2] == M, name=f\"Sum\")\n",
    "\n",
    "# - The second binary number N_2 must be larger or equal to the first N_1\n",
    "model.addConstr(N[2] >= N[1], name=f\"Order\")"
   ]
  },
  {
   "cell_type": "markdown",
   "metadata": {},
   "source": [
    "# Linear expressions"
   ]
  },
  {
   "cell_type": "markdown",
   "metadata": {},
   "source": [
    "https://www.gurobi.com/documentation/9.5/refman/py_lex.html#pythonclass:LinExpr"
   ]
  },
  {
   "cell_type": "code",
   "execution_count": 5,
   "metadata": {},
   "outputs": [],
   "source": [
    "# Define linear expression\n",
    "total_sum = N[1] + N[2] + M"
   ]
  },
  {
   "cell_type": "markdown",
   "metadata": {},
   "source": [
    "# Objective function"
   ]
  },
  {
   "cell_type": "markdown",
   "metadata": {},
   "source": [
    "https://www.gurobi.com/documentation/9.5/refman/py_model_setobjective.html#pythonmethod:Model.setObjective\n",
    "https://www.gurobi.com/documentation/9.5/refman/py_model_setobjectiven.html#pythonmethod:Model.setObjectiveN"
   ]
  },
  {
   "cell_type": "code",
   "execution_count": 6,
   "metadata": {},
   "outputs": [],
   "source": [
    "# Add objective function\n",
    "# i.e. maximize the difference N_2 - N_1\n",
    "model.setObjective(N[2] - N[1], GRB.MAXIMIZE)\n",
    "\n",
    "# Add multi-objective function\n",
    "# i.e. minimize the sum M + N_1 + N_2 and then maximize the difference N_2 - N_1\n",
    "# model.ModelSense = GRB.MINIMIZE\n",
    "# model.setObjectiveN(total_sum, 0, 2)\n",
    "# model.setObjectiveN(N[1] - N[2], 1, 1)"
   ]
  },
  {
   "cell_type": "markdown",
   "metadata": {},
   "source": [
    "# Solving"
   ]
  },
  {
   "cell_type": "markdown",
   "metadata": {},
   "source": [
    "https://www.gurobi.com/documentation/9.5/refman/py_model_optimize.html"
   ]
  },
  {
   "cell_type": "code",
   "execution_count": 7,
   "metadata": {},
   "outputs": [],
   "source": [
    "# Update model\n",
    "model.update()"
   ]
  },
  {
   "cell_type": "code",
   "execution_count": 8,
   "metadata": {},
   "outputs": [
    {
     "name": "stdout",
     "output_type": "stream",
     "text": [
      "Maximize\n",
      "  -1.0 N[1] + N[2]\n",
      "Subject To\n",
      "  MVsDecimalDecomposition: M + -1.0 D[0] + -10.0 D[1] + -100.0 D[2] + -1000.0 D[3] = 0\n",
      "  SumDigits: D[0] + D[1] + D[2] + D[3] = 12\n",
      "  IncreasingDigits[0]: -1.0 D[0] + D[1] <= -1\n",
      "  IncreasingDigits[1]: -1.0 D[1] + D[2] <= -1\n",
      "  IncreasingDigits[2]: -1.0 D[2] + D[3] <= -1\n",
      "NVsBinaryDecomposition[1]: N[1] + -1.0 B[1,0] + -2.0 B[1,1] + -4.0 B[1,2] + -8.0 B[1,3]\n",
      "+ -16.0 B[1,4] + -32.0 B[1,5] + -64.0 B[1,6] + -128.0 B[1,7] + -256.0 B[1,8] + -512.0\n",
      " B[1,9] = 0\n",
      "NVsBinaryDecomposition[2]: N[2] + -1.0 B[2,0] + -2.0 B[2,1] + -4.0 B[2,2] + -8.0 B[2,3]\n",
      "+ -16.0 B[2,4] + -32.0 B[2,5] + -64.0 B[2,6] + -128.0 B[2,7] + -256.0 B[2,8] + -512.0\n",
      " B[2,9] = 0\n",
      "NbNonZeroDigitsLB[1]: B[1,0] + B[1,1] + B[1,2] + B[1,3] + B[1,4] + B[1,5] + B[1,6] +\n",
      " B[1,7] + B[1,8] + B[1,9] >= 2\n",
      "NbNonZeroDigitsUB[1]: B[1,0] + B[1,1] + B[1,2] + B[1,3] + B[1,4] + B[1,5] + B[1,6] +\n",
      " B[1,7] + B[1,8] + B[1,9] <= 6\n",
      "NbNonZeroDigitsLB[2]: B[2,0] + B[2,1] + B[2,2] + B[2,3] + B[2,4] + B[2,5] + B[2,6] +\n",
      " B[2,7] + B[2,8] + B[2,9] >= 2\n",
      "NbNonZeroDigitsUB[2]: B[2,0] + B[2,1] + B[2,2] + B[2,3] + B[2,4] + B[2,5] + B[2,6] +\n",
      " B[2,7] + B[2,8] + B[2,9] <= 6\n",
      "  Sum: -1.0 M + N[1] + N[2] = 0\n",
      "  Order: -1.0 N[1] + N[2] >= 0\n",
      "Bounds\n",
      "  -0 <= D[0] <= 9\n",
      "  -0 <= D[1] <= 9\n",
      "  -0 <= D[2] <= 9\n",
      "  -0 <= D[3] <= 9\n",
      "Binaries\n",
      "['B[1,0]', 'B[1,1]', 'B[1,2]', 'B[1,3]', 'B[1,4]', 'B[1,5]', 'B[1,6]', 'B[1,7]',\n",
      "'B[1,8]', 'B[1,9]', 'B[2,0]', 'B[2,1]', 'B[2,2]', 'B[2,3]', 'B[2,4]', 'B[2,5]',\n",
      " 'B[2,6]', 'B[2,7]', 'B[2,8]', 'B[2,9]']\n",
      "General Integers\n",
      "  ['M', 'D[0]', 'D[1]', 'D[2]', 'D[3]', 'N[1]', 'N[2]']\n"
     ]
    }
   ],
   "source": [
    "# Display model\n",
    "model.display()"
   ]
  },
  {
   "cell_type": "code",
   "execution_count": 9,
   "metadata": {},
   "outputs": [
    {
     "name": "stdout",
     "output_type": "stream",
     "text": [
      "Gurobi Optimizer version 10.0.0 build v10.0.0rc2 (mac64[x86])\n",
      "\n",
      "CPU model: Intel(R) Core(TM) i5-5350U CPU @ 1.80GHz\n",
      "Thread count: 2 physical cores, 4 logical processors, using up to 4 threads\n",
      "\n",
      "Optimize a model with 13 rows, 27 columns and 82 nonzeros\n",
      "Model fingerprint: 0x206db896\n",
      "Variable types: 0 continuous, 27 integer (20 binary)\n",
      "Coefficient statistics:\n",
      "  Matrix range     [1e+00, 1e+03]\n",
      "  Objective range  [1e+00, 1e+00]\n",
      "  Bounds range     [1e+00, 9e+00]\n",
      "  RHS range        [1e+00, 1e+01]\n",
      "Presolve removed 2 rows and 3 columns\n",
      "Presolve time: 0.01s\n",
      "Presolved: 11 rows, 24 columns, 76 nonzeros\n",
      "Variable types: 0 continuous, 24 integer (20 binary)\n",
      "Found heuristic solution: objective 89.0000000\n",
      "Found heuristic solution: objective 123.0000000\n",
      "\n",
      "Root relaxation: objective 8.169403e+02, 9 iterations, 0.00 seconds (0.00 work units)\n",
      "\n",
      "    Nodes    |    Current Node    |     Objective Bounds      |     Work\n",
      " Expl Unexpl |  Obj  Depth IntInf | Incumbent    BestBd   Gap | It/Node Time\n",
      "\n",
      "     0     0  816.94030    0    5  123.00000  816.94030   564%     -    0s\n",
      "H    0     0                     596.0000000  816.94030  37.1%     -    0s\n",
      "H    0     0                     780.0000000  816.94030  4.74%     -    0s\n",
      "     0     0  816.94030    0    5  780.00000  816.94030  4.74%     -    0s\n",
      "\n",
      "Explored 1 nodes (9 simplex iterations) in 0.08 seconds (0.00 work units)\n",
      "Thread count was 4 (of 4 available processors)\n",
      "\n",
      "Solution count 4: 780 596 123 89 \n",
      "\n",
      "Optimal solution found (tolerance 1.00e-04)\n",
      "Best objective 7.800000000000e+02, best bound 7.800000000000e+02, gap 0.0000%\n"
     ]
    }
   ],
   "source": [
    "# Solving\n",
    "# model.params.outputflag = 0 # Mute\n",
    "# model.setParam('TimeLimit', 30) # Time limit in seconds\n",
    "model.optimize()"
   ]
  },
  {
   "cell_type": "code",
   "execution_count": 10,
   "metadata": {},
   "outputs": [
    {
     "name": "stdout",
     "output_type": "stream",
     "text": [
      "True False False\n"
     ]
    }
   ],
   "source": [
    "# Get optimization status\n",
    "print(model.Status == GRB.OPTIMAL, model.Status == GRB.TIME_LIMIT, model.Status == GRB.INFEASIBLE)"
   ]
  },
  {
   "cell_type": "markdown",
   "metadata": {},
   "source": [
    "# Results"
   ]
  },
  {
   "cell_type": "code",
   "execution_count": 11,
   "metadata": {},
   "outputs": [
    {
     "name": "stdout",
     "output_type": "stream",
     "text": [
      "780.0\n"
     ]
    }
   ],
   "source": [
    "# Get objective value\n",
    "objective_value = model.objVal\n",
    "print(objective_value)"
   ]
  },
  {
   "cell_type": "markdown",
   "metadata": {},
   "source": [
    "https://www.gurobi.com/documentation/9.5/refman/py_model_getvarbyname.html"
   ]
  },
  {
   "cell_type": "code",
   "execution_count": 12,
   "metadata": {},
   "outputs": [
    {
     "name": "stdout",
     "output_type": "stream",
     "text": [
      "M=1236.0, N_1=228.0, N_2=1008.0, B_(1,0)=-0.0, B_(2,0)=-0.0\n"
     ]
    }
   ],
   "source": [
    "# Get decision variables values\n",
    "print(f\"M={M.x}, N_1={N[1].x}, N_2={N[2].x}, B_(1,0)={B[1, 0].x}, B_(2,0)={B[2, 0].x}\")\n",
    "# or\n",
    "# print(f\"M={model.getVarByName('M').x}, \\\n",
    "#     N_1={model.getVarByName('N[1]').x}, N_2={model.getVarByName('N[2]').x}, \\\n",
    "#     B_(1,0)={model.getVarByName('B[1,0]').x}, B_(2,0)={model.getVarByName('B[2,0]').x}\")"
   ]
  },
  {
   "cell_type": "code",
   "execution_count": 13,
   "metadata": {},
   "outputs": [
    {
     "name": "stdout",
     "output_type": "stream",
     "text": [
      "2472.0\n"
     ]
    }
   ],
   "source": [
    "# Get linear expression values\n",
    "print(total_sum.getValue())"
   ]
  },
  {
   "cell_type": "code",
   "execution_count": null,
   "metadata": {},
   "outputs": [],
   "source": []
  }
 ],
 "metadata": {
  "kernelspec": {
   "display_name": "Python 3",
   "language": "python",
   "name": "python3"
  },
  "language_info": {
   "codemirror_mode": {
    "name": "ipython",
    "version": 3
   },
   "file_extension": ".py",
   "mimetype": "text/x-python",
   "name": "python",
   "nbconvert_exporter": "python",
   "pygments_lexer": "ipython3",
   "version": "3.8.5"
  },
  "vscode": {
   "interpreter": {
    "hash": "aee8b7b246df8f9039afb4144a1f6fd8d2ca17a180786b69acc140d282b71a49"
   }
  }
 },
 "nbformat": 4,
 "nbformat_minor": 2
}
