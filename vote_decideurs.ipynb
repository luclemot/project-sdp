{
 "cells": [
  {
   "cell_type": "code",
   "execution_count": 1,
   "metadata": {},
   "outputs": [],
   "source": [
    "import numpy as np\n",
    "import pandas as pd\n",
    "import matplotlib.pyplot as plt\n",
    "from matplotlib import cm\n",
    "from matplotlib.ticker import LinearLocator\n",
    "import random\n",
    "                                                       "
   ]
  },
  {
   "cell_type": "markdown",
   "metadata": {},
   "source": [
    "## Ranking des critères\n",
    "\n",
    "Les trois critères de décision vont être hiérarchisés pour chacun des 10 décideurs présents à l'assemblée pour décider du futur planning."
   ]
  },
  {
   "cell_type": "code",
   "execution_count": 95,
   "metadata": {},
   "outputs": [],
   "source": [
    "def pref_aleatoire(liste_employes):\n",
    "    dict_emp = {}\n",
    "    for employe in liste_employes:\n",
    "        liste_criteres = ['Benefice','projets max','longueur max']\n",
    "        random.shuffle(liste_criteres)\n",
    "        dict_emp[employe]= liste_criteres\n",
    "    return dict_emp\n",
    "        \n",
    "    "
   ]
  },
  {
   "cell_type": "code",
   "execution_count": 96,
   "metadata": {},
   "outputs": [],
   "source": [
    "# On fixe le choix des décideurs au premier random effectué\n",
    "decideurs = ['Alice','Bob','Charlie','Dan','Erin','Frank','Meco','Lulu','Faufau','Tango','Thomas']\n",
    "#dico_preference = pref_aleatoire(decideurs)\n",
    "#dico_preference"
   ]
  },
  {
   "cell_type": "code",
   "execution_count": 97,
   "metadata": {},
   "outputs": [],
   "source": [
    "dico_preference = {'Alice': ['longueur max', 'projets max', 'Benefice'],\n",
    " 'Bob': ['longueur max', 'projets max', 'Benefice'],\n",
    " 'Charlie': ['Benefice', 'projets max', 'longueur max'],\n",
    " 'Dan': ['longueur max', 'Benefice', 'projets max'],\n",
    " 'Erin': ['projets max', 'Benefice', 'longueur max'],\n",
    " 'Frank': ['Benefice', 'longueur max', 'projets max'],\n",
    " 'Meco': ['longueur max', 'projets max', 'Benefice'],\n",
    " 'Lulu': ['projets max', 'Benefice', 'longueur max'],\n",
    " 'Faufau': ['projets max', 'Benefice', 'longueur max'],\n",
    " 'Tango': ['projets max', 'Benefice', 'longueur max'],\n",
    " 'Thomas': ['longueur max', 'projets max', 'Benefice']}"
   ]
  },
  {
   "cell_type": "code",
   "execution_count": 98,
   "metadata": {},
   "outputs": [],
   "source": [
    "# Choix de la taille des instances\n",
    "\n",
    "taille = \"small\"\n",
    "#taille = \"medium\"\n",
    "#taille = \"large\"\n"
   ]
  },
  {
   "cell_type": "code",
   "execution_count": 85,
   "metadata": {},
   "outputs": [
    {
     "data": {
      "text/html": [
       "<div>\n",
       "<style scoped>\n",
       "    .dataframe tbody tr th:only-of-type {\n",
       "        vertical-align: middle;\n",
       "    }\n",
       "\n",
       "    .dataframe tbody tr th {\n",
       "        vertical-align: top;\n",
       "    }\n",
       "\n",
       "    .dataframe thead th {\n",
       "        text-align: right;\n",
       "    }\n",
       "</style>\n",
       "<table border=\"1\" class=\"dataframe\">\n",
       "  <thead>\n",
       "    <tr style=\"text-align: right;\">\n",
       "      <th></th>\n",
       "      <th>Benefice</th>\n",
       "      <th>longueur max</th>\n",
       "      <th>projets max</th>\n",
       "    </tr>\n",
       "  </thead>\n",
       "  <tbody>\n",
       "    <tr>\n",
       "      <th>0</th>\n",
       "      <td>65</td>\n",
       "      <td>4</td>\n",
       "      <td>4</td>\n",
       "    </tr>\n",
       "    <tr>\n",
       "      <th>1</th>\n",
       "      <td>65</td>\n",
       "      <td>4</td>\n",
       "      <td>3</td>\n",
       "    </tr>\n",
       "    <tr>\n",
       "      <th>2</th>\n",
       "      <td>65</td>\n",
       "      <td>4</td>\n",
       "      <td>2</td>\n",
       "    </tr>\n",
       "    <tr>\n",
       "      <th>3</th>\n",
       "      <td>65</td>\n",
       "      <td>4</td>\n",
       "      <td>1</td>\n",
       "    </tr>\n",
       "    <tr>\n",
       "      <th>4</th>\n",
       "      <td>55</td>\n",
       "      <td>3</td>\n",
       "      <td>1</td>\n",
       "    </tr>\n",
       "    <tr>\n",
       "      <th>8</th>\n",
       "      <td>40</td>\n",
       "      <td>2</td>\n",
       "      <td>1</td>\n",
       "    </tr>\n",
       "    <tr>\n",
       "      <th>12</th>\n",
       "      <td>20</td>\n",
       "      <td>1</td>\n",
       "      <td>1</td>\n",
       "    </tr>\n",
       "  </tbody>\n",
       "</table>\n",
       "</div>"
      ],
      "text/plain": [
       "    Benefice  longueur max  projets max\n",
       "0         65             4            4\n",
       "1         65             4            3\n",
       "2         65             4            2\n",
       "3         65             4            1\n",
       "4         55             3            1\n",
       "8         40             2            1\n",
       "12        20             1            1"
      ]
     },
     "execution_count": 85,
     "metadata": {},
     "output_type": "execute_result"
    }
   ],
   "source": [
    "# path = \"/Users/macoco/Desktop/CS/3A/SDP/projet_sdp/project-sdp/results/final\"\n",
    "path = \"results/final\"\n",
    "\n",
    "df = pd.read_excel(path+'/'+taille+'/res.xlsx')\n",
    "#header=[0,1],index_col=[0]\n",
    "#df = df.iloc[2:]\n",
    "df = df.drop(columns=['Unnamed: 0'])\n",
    "df = df.drop_duplicates()\n",
    "df"
   ]
  },
  {
   "cell_type": "code",
   "execution_count": 86,
   "metadata": {},
   "outputs": [
    {
     "data": {
      "text/html": [
       "<div>\n",
       "<style scoped>\n",
       "    .dataframe tbody tr th:only-of-type {\n",
       "        vertical-align: middle;\n",
       "    }\n",
       "\n",
       "    .dataframe tbody tr th {\n",
       "        vertical-align: top;\n",
       "    }\n",
       "\n",
       "    .dataframe thead th {\n",
       "        text-align: right;\n",
       "    }\n",
       "</style>\n",
       "<table border=\"1\" class=\"dataframe\">\n",
       "  <thead>\n",
       "    <tr style=\"text-align: right;\">\n",
       "      <th></th>\n",
       "      <th>Benefice</th>\n",
       "      <th>longueur max</th>\n",
       "      <th>projets max</th>\n",
       "    </tr>\n",
       "  </thead>\n",
       "  <tbody>\n",
       "    <tr>\n",
       "      <th>3</th>\n",
       "      <td>65</td>\n",
       "      <td>4</td>\n",
       "      <td>1</td>\n",
       "    </tr>\n",
       "    <tr>\n",
       "      <th>4</th>\n",
       "      <td>55</td>\n",
       "      <td>3</td>\n",
       "      <td>1</td>\n",
       "    </tr>\n",
       "    <tr>\n",
       "      <th>8</th>\n",
       "      <td>40</td>\n",
       "      <td>2</td>\n",
       "      <td>1</td>\n",
       "    </tr>\n",
       "    <tr>\n",
       "      <th>12</th>\n",
       "      <td>20</td>\n",
       "      <td>1</td>\n",
       "      <td>1</td>\n",
       "    </tr>\n",
       "  </tbody>\n",
       "</table>\n",
       "</div>"
      ],
      "text/plain": [
       "    Benefice  longueur max  projets max\n",
       "3         65             4            1\n",
       "4         55             3            1\n",
       "8         40             2            1\n",
       "12        20             1            1"
      ]
     },
     "execution_count": 86,
     "metadata": {},
     "output_type": "execute_result"
    }
   ],
   "source": [
    "#Dropping dominated solutions : \n",
    "\n",
    "#Small\n",
    "df = df.drop(df.index[0:3], axis=0)\n",
    "df\n",
    "\n",
    "#Medium\n",
    "#df = df.drop(df.index[0:13], axis=0)\n",
    "\n",
    "#Large\n",
    "#df = df.drop(df.index[0:23], axis=0)\n",
    "#df = df.drop([792], axis=0)\n"
   ]
  },
  {
   "cell_type": "code",
   "execution_count": 87,
   "metadata": {},
   "outputs": [
    {
     "data": {
      "text/plain": [
       "[3, 4, 8, 12]"
      ]
     },
     "execution_count": 87,
     "metadata": {},
     "output_type": "execute_result"
    }
   ],
   "source": [
    "initial_candidates = df.index.values.tolist()\n",
    "initial_candidates"
   ]
  },
  {
   "cell_type": "code",
   "execution_count": 88,
   "metadata": {},
   "outputs": [
    {
     "data": {
      "text/plain": [
       "{3: 0, 4: 0, 8: 0, 12: 0}"
      ]
     },
     "execution_count": 88,
     "metadata": {},
     "output_type": "execute_result"
    }
   ],
   "source": [
    "dict_initial_candidates = {}\n",
    "for i in initial_candidates :\n",
    "    dict_initial_candidates[i]=0\n",
    "dict_initial_candidates"
   ]
  },
  {
   "cell_type": "code",
   "execution_count": 89,
   "metadata": {},
   "outputs": [
    {
     "data": {
      "text/plain": [
       "[{12: 1, 8: 2, 4: 3, 3: 4},\n",
       " {12: 1, 8: 2, 4: 3, 3: 4},\n",
       " {3: 1, 4: 2, 8: 3, 12: 4},\n",
       " {12: 1, 8: 2, 4: 3, 3: 4},\n",
       " {3: 1, 4: 2, 8: 3, 12: 4},\n",
       " {3: 1, 4: 2, 8: 3, 12: 4},\n",
       " {12: 1, 8: 2, 4: 3, 3: 4},\n",
       " {3: 1, 4: 2, 8: 3, 12: 4},\n",
       " {3: 1, 4: 2, 8: 3, 12: 4},\n",
       " {3: 1, 4: 2, 8: 3, 12: 4},\n",
       " {12: 1, 8: 2, 4: 3, 3: 4}]"
      ]
     },
     "execution_count": 89,
     "metadata": {},
     "output_type": "execute_result"
    }
   ],
   "source": [
    "votes = []\n",
    "for decideur in decideurs :\n",
    "    dico_vote={}\n",
    "    \n",
    "    tf_0 = 'Benefice'!=dico_preference[decideur][0]\n",
    "    tf_1 = 'Benefice'!=dico_preference[decideur][1]\n",
    "    tf_2 = 'Benefice'!=dico_preference[decideur][2]\n",
    "    df_ranked = df.sort_values([dico_preference[decideur][0],\n",
    "                                dico_preference[decideur][1],\n",
    "                                dico_preference[decideur][2]],ascending=[tf_0,tf_1,tf_2])\n",
    "    #dico_ranking[decideur]=df_ranked.index.values.tolist()\n",
    "    candidates = df_ranked.index.values.tolist()\n",
    "    dict_initial_candidates[candidates[0]]+=1\n",
    "    for i in range(len(candidates)) : \n",
    "        dico_vote[candidates[i]]=i+1\n",
    "    votes.append(dico_vote)\n",
    "    \n",
    "votes\n",
    "\n",
    "    \n",
    "    "
   ]
  },
  {
   "cell_type": "code",
   "execution_count": 90,
   "metadata": {},
   "outputs": [
    {
     "data": {
      "text/plain": [
       "{3: 6, 4: 0, 8: 0, 12: 5}"
      ]
     },
     "execution_count": 90,
     "metadata": {},
     "output_type": "execute_result"
    }
   ],
   "source": [
    "dict_initial_candidates"
   ]
  },
  {
   "cell_type": "markdown",
   "metadata": {},
   "source": [
    "## Choix des systèmes de vote"
   ]
  },
  {
   "cell_type": "markdown",
   "metadata": {},
   "source": [
    "### Gagnant de Condorcet"
   ]
  },
  {
   "cell_type": "code",
   "execution_count": 93,
   "metadata": {},
   "outputs": [
    {
     "name": "stdout",
     "output_type": "stream",
     "text": [
      "[3]\n",
      "   Benefice  longueur max  projets max\n",
      "3        65             4            1\n"
     ]
    }
   ],
   "source": [
    "import condorcet\n",
    "\n",
    "evaluator = condorcet.CondorcetEvaluator(candidates=candidates, votes=votes)\n",
    "winner, rest_of_table = evaluator.get_n_winners(1)\n",
    "print(winner)\n",
    "print(df.loc[winner])\n"
   ]
  },
  {
   "cell_type": "code",
   "execution_count": 94,
   "metadata": {},
   "outputs": [
    {
     "data": {
      "text/plain": [
       "{8: {'wins': [12], 'losses': [4]},\n",
       " 12: {'wins': [], 'losses': [8, 4]},\n",
       " 4: {'wins': [12, 8], 'losses': []}}"
      ]
     },
     "execution_count": 94,
     "metadata": {},
     "output_type": "execute_result"
    }
   ],
   "source": [
    "rest_of_table"
   ]
  },
  {
   "cell_type": "markdown",
   "metadata": {},
   "source": [
    "### Results Condorcet : \n",
    "\n",
    "**small** : planning **3** est le gagnant de Condorcet \\\n",
    "**medium** : planning **13** est le gagnant de Condorcet \\\n",
    "**large** : planning **23** est le gagnant de Condorcet\n"
   ]
  },
  {
   "cell_type": "markdown",
   "metadata": {},
   "source": [
    "### Positional Scoring Rules (Borda)"
   ]
  },
  {
   "cell_type": "code",
   "execution_count": 73,
   "metadata": {},
   "outputs": [
    {
     "name": "stdout",
     "output_type": "stream",
     "text": [
      "3\n",
      "{3: 26, 4: 27, 8: 28, 12: 29}\n"
     ]
    }
   ],
   "source": [
    "score_borda = {}\n",
    "for candidate in initial_candidates :\n",
    "    score_candidate = 0\n",
    "    for dico in votes :\n",
    "        score_candidate += dico[candidate]\n",
    "    score_borda[candidate]=score_candidate\n",
    "\n",
    "score_borda\n",
    "\n",
    "print(min(score_borda, key=score_borda.get))\n",
    "print(score_borda)\n",
    "        "
   ]
  },
  {
   "cell_type": "markdown",
   "metadata": {},
   "source": [
    "### Results Borda : \n",
    "\n",
    "**small** : planning **3** est le gagnant de Borda \\\n",
    "**medium** : planning **13** est le gagnant de Borda \\\n",
    "**large** : planning **23** est le gagnant de Borda\n"
   ]
  },
  {
   "cell_type": "markdown",
   "metadata": {},
   "source": [
    "### Plurality with instant Run-off"
   ]
  },
  {
   "cell_type": "code",
   "execution_count": 74,
   "metadata": {},
   "outputs": [],
   "source": [
    "import pyrankvote\n",
    "from pyrankvote import Candidate, Ballot\n",
    "\n",
    "candidates_instant_run_off = []\n",
    "for i in initial_candidates:\n",
    "    candidates_instant_run_off.append(Candidate(str(i)))\n",
    "    \n",
    "liste_votes_decideurs = []\n",
    "for decideur in decideurs :\n",
    "    vote_pyrank = []\n",
    "\n",
    "    tf_0 = 'Benefice'!=dico_preference[decideur][0]\n",
    "    tf_1 = 'Benefice'!=dico_preference[decideur][1]\n",
    "    tf_2 = 'Benefice'!=dico_preference[decideur][2]\n",
    "    df_ranked = df.sort_values([dico_preference[decideur][0],\n",
    "                                dico_preference[decideur][1],\n",
    "                                dico_preference[decideur][2]],ascending=[tf_0,tf_1,tf_2])\n",
    "    #dico_ranking[decideur]=df_ranked.index.values.tolist()\n",
    "    candidates = df_ranked.index.values.tolist()\n",
    "    for i in candidates : \n",
    "        vote_pyrank.append(Candidate(str(i)))\n",
    "\n",
    "    liste_votes_decideurs.append(vote_pyrank)\n",
    "\n",
    "ballots = []\n",
    "for liste in liste_votes_decideurs :\n",
    "    ballots.append(Ballot(ranked_candidates=liste))"
   ]
  },
  {
   "cell_type": "code",
   "execution_count": 75,
   "metadata": {},
   "outputs": [
    {
     "name": "stdout",
     "output_type": "stream",
     "text": [
      "FINAL RESULT\n",
      "  Candidate    Votes  Status\n",
      "-----------  -------  --------\n",
      "          3        6  Elected\n",
      "         12        5  Rejected\n",
      "          4        0  Rejected\n",
      "          8        0  Rejected\n",
      "\n"
     ]
    }
   ],
   "source": [
    "# You can use your own Candidate and Ballot objects as long as they implement the same properties and methods\n",
    "election_result = pyrankvote.instant_runoff_voting(candidates_instant_run_off, ballots)\n",
    "\n",
    "winners = election_result.get_winners()\n",
    "\n",
    "print(election_result)"
   ]
  },
  {
   "cell_type": "markdown",
   "metadata": {},
   "source": [
    "### Results Plurality with instant run-off : \n",
    "\n",
    "**small** : le planning **3** est vainqueur au premier tour \\\n",
    "**medium** : le planning **13** est vainqueur au premier tour \\\n",
    "**large** : planning **23** est le gagnant de Borda\n"
   ]
  },
  {
   "cell_type": "markdown",
   "metadata": {},
   "source": [
    "Plusieurs itération du système de décision"
   ]
  },
  {
   "cell_type": "code",
   "execution_count": 57,
   "metadata": {},
   "outputs": [],
   "source": [
    "def iteration_votes(taille):\n",
    "    ## CHARGEMENT DES DECIDEURS\n",
    "    decideurs = ['Alice','Bob','Charlie','Dan','Erin','Frank','Meco','Lulu','Faufau','Tango','Thomas']\n",
    "    dico_preference = pref_aleatoire(decideurs)\n",
    "    df = pd.read_excel('results/final/'+taille+'/res.xlsx')\n",
    "    df = df.drop(columns=['Unnamed: 0'])\n",
    "    df = df.drop_duplicates()\n",
    "    initial_candidates = df.index.values.tolist()\n",
    "    dict_initial_candidates = {}\n",
    "    for i in initial_candidates :\n",
    "        dict_initial_candidates[i]=0\n",
    "\n",
    "    ## PROCESSUS DE PREFERENCE PAR LEADER\n",
    "    votes = []\n",
    "    for decideur in decideurs :\n",
    "        dico_vote={}\n",
    "        \n",
    "        tf_0 = 'Benefice'!=dico_preference[decideur][0]\n",
    "        tf_1 = 'Benefice'!=dico_preference[decideur][1]\n",
    "        tf_2 = 'Benefice'!=dico_preference[decideur][2]\n",
    "        df_ranked = df.sort_values([dico_preference[decideur][0],\n",
    "                                    dico_preference[decideur][1],\n",
    "                                    dico_preference[decideur][2]],ascending=[tf_0,tf_1,tf_2])\n",
    "        candidates = df_ranked.index.values.tolist()\n",
    "        dict_initial_candidates[candidates[0]]+=1\n",
    "        for i in range(len(candidates)) : \n",
    "            dico_vote[candidates[i]]=i+1\n",
    "        votes.append(dico_vote)\n",
    "\n",
    "    ## VOTE DE CONDORCET\n",
    "    evaluator = condorcet.CondorcetEvaluator(candidates=candidates, votes=votes)\n",
    "    winner_condorcet, rest_of_table = evaluator.get_n_winners(1)\n",
    "\n",
    "    ## VOTE DE BORDA\n",
    "    score_borda = {}\n",
    "    for candidate in initial_candidates :\n",
    "        score_candidate = 0\n",
    "        for dico in votes :\n",
    "            score_candidate += dico[candidate]\n",
    "        score_borda[candidate]=score_candidate\n",
    "    winner_borda = min(score_borda, key=score_borda.get)\n",
    "\n",
    "    ## VOTE AVEC RUN-OFF\n",
    "    candidates_instant_run_off = []\n",
    "    for i in initial_candidates:\n",
    "        candidates_instant_run_off.append(Candidate(str(i)))\n",
    "        \n",
    "    liste_votes_decideurs = []\n",
    "    for decideur in decideurs :\n",
    "        vote_pyrank = []\n",
    "\n",
    "        tf_0 = 'Benefice'!=dico_preference[decideur][0]\n",
    "        tf_1 = 'Benefice'!=dico_preference[decideur][1]\n",
    "        tf_2 = 'Benefice'!=dico_preference[decideur][2]\n",
    "        df_ranked = df.sort_values([dico_preference[decideur][0],\n",
    "                                    dico_preference[decideur][1],\n",
    "                                    dico_preference[decideur][2]],ascending=[tf_0,tf_1,tf_2])\n",
    "        candidates = df_ranked.index.values.tolist()\n",
    "        for i in candidates : \n",
    "            vote_pyrank.append(Candidate(str(i)))\n",
    "\n",
    "        liste_votes_decideurs.append(vote_pyrank)\n",
    "\n",
    "    ballots = []\n",
    "    for liste in liste_votes_decideurs :\n",
    "        ballots.append(Ballot(ranked_candidates=liste))\n",
    "\n",
    "\n",
    "    election_result = pyrankvote.instant_runoff_voting(candidates_instant_run_off, ballots)\n",
    "    winners_runoff = election_result.get_winners()\n",
    "\n",
    "    return [winner_condorcet, winner_borda, winners_runoff]\n",
    "    "
   ]
  },
  {
   "cell_type": "code",
   "execution_count": 58,
   "metadata": {},
   "outputs": [
    {
     "name": "stdout",
     "output_type": "stream",
     "text": [
      "{'Condorcet': [[280], [13], [280], [280], [280], [280], [13], [280], [13], [280]], 'Borda': [13, 13, 280, 280, 13, 13, 13, 13, 13, 13], 'Runoff': [[<Candidate('280')>], [<Candidate('13')>], [<Candidate('280')>], [<Candidate('280')>], [<Candidate('280')>], [<Candidate('280')>], [<Candidate('13')>], [<Candidate('280')>], [<Candidate('13')>], [<Candidate('280')>]]}\n"
     ]
    }
   ],
   "source": [
    "res = {'Condorcet': [], 'Borda': [], 'Runoff':[]}\n",
    "\n",
    "for _ in range(10):\n",
    "    iteration = iteration_votes(taille)\n",
    "    res['Condorcet'].append(iteration[0])\n",
    "    res['Borda'].append(iteration[1])\n",
    "    res['Runoff'].append(iteration[2])\n",
    "\n",
    "print(res)\n",
    "## traitement stat, peut être faire un mapping ?"
   ]
  },
  {
   "cell_type": "markdown",
   "metadata": {},
   "source": [
    "# Scores des objectifs :\n",
    "\n",
    "3: Bénéfice = 65 ; longueur_max = 4 ; projet_max = 1 \\\n",
    "13 : Bénéfice = 413 ; longueur_max = 21 ; projet_max = 1 \\\n",
    "23 : Bénéfice = 817 ; longueur_max = 35 ; projet_max = 1"
   ]
  },
  {
   "cell_type": "code",
   "execution_count": null,
   "metadata": {},
   "outputs": [],
   "source": []
  }
 ],
 "metadata": {
  "kernelspec": {
   "display_name": "Python 3",
   "language": "python",
   "name": "python3"
  },
  "language_info": {
   "codemirror_mode": {
    "name": "ipython",
    "version": 3
   },
   "file_extension": ".py",
   "mimetype": "text/x-python",
   "name": "python",
   "nbconvert_exporter": "python",
   "pygments_lexer": "ipython3",
   "version": "3.8.5"
  },
  "vscode": {
   "interpreter": {
    "hash": "aee8b7b246df8f9039afb4144a1f6fd8d2ca17a180786b69acc140d282b71a49"
   }
  }
 },
 "nbformat": 4,
 "nbformat_minor": 4
}
