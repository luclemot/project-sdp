{
 "cells": [
  {
   "cell_type": "code",
   "execution_count": 30,
   "metadata": {},
   "outputs": [],
   "source": [
    "import numpy as np\n",
    "import pandas as pd\n",
    "from itertools import product\n",
    "import matplotlib.pyplot as plt\n",
    "from matplotlib import cm\n",
    "from matplotlib.ticker import LinearLocator\n",
    "\n",
    "import gurobipy as grb\n",
    "from gurobipy import GRB"
   ]
  },
  {
   "cell_type": "markdown",
   "metadata": {},
   "source": [
    "# Input Problem Parameters"
   ]
  },
  {
   "cell_type": "markdown",
   "metadata": {},
   "source": [
    "## Import du problème"
   ]
  },
  {
   "cell_type": "code",
   "execution_count": 31,
   "metadata": {},
   "outputs": [
    {
     "ename": "ModuleNotFoundError",
     "evalue": "No module named '_tkinter'",
     "output_type": "error",
     "traceback": [
      "\u001b[0;31m---------------------------------------------------------------------------\u001b[0m",
      "\u001b[0;31mModuleNotFoundError\u001b[0m                       Traceback (most recent call last)",
      "Cell \u001b[0;32mIn[31], line 8\u001b[0m\n\u001b[1;32m      6\u001b[0m \u001b[39mfrom\u001b[39;00m \u001b[39mdefine_nums\u001b[39;00m \u001b[39mimport\u001b[39;00m define_nums\n\u001b[1;32m      7\u001b[0m \u001b[39mfrom\u001b[39;00m \u001b[39mdomination_3D\u001b[39;00m \u001b[39mimport\u001b[39;00m liste_dominants, graph_dominant\n\u001b[0;32m----> 8\u001b[0m \u001b[39mfrom\u001b[39;00m \u001b[39mshow_planning\u001b[39;00m \u001b[39mimport\u001b[39;00m show_planning\n\u001b[1;32m     10\u001b[0m \u001b[39m#import extract_parameters\u001b[39;00m\n",
      "File \u001b[0;32m~/Desktop/Cours mention/SDP/Projet/project-sdp/utils/show_planning.py:1\u001b[0m\n\u001b[0;32m----> 1\u001b[0m \u001b[39mfrom\u001b[39;00m \u001b[39mtkinter\u001b[39;00m \u001b[39mimport\u001b[39;00m \u001b[39m*\u001b[39m\n\u001b[1;32m      2\u001b[0m \u001b[39mfrom\u001b[39;00m \u001b[39mpandastable\u001b[39;00m \u001b[39mimport\u001b[39;00m Table\n\u001b[1;32m      5\u001b[0m \u001b[39m# gurobi_results should be a DATAFRAME of the result of the Gurobi Optimization of the parameters\u001b[39;00m\n\u001b[1;32m      6\u001b[0m \u001b[39m# 1 row = the name + the day + the project + the qualif\u001b[39;00m\n\u001b[1;32m      7\u001b[0m \n\u001b[0;32m   (...)\u001b[0m\n\u001b[1;32m     12\u001b[0m \u001b[39m#                                   'Job2', 'B'], ['Faustine', 0, 'Job1', 'B']]\u001b[39;00m\n\u001b[1;32m     13\u001b[0m \u001b[39m# df = pd.DataFrame(lst, columns=['Nom', 'Jour', 'Projet', 'Qualification'])\u001b[39;00m\n",
      "File \u001b[0;32m/usr/local/Cellar/python@3.10/3.10.8/Frameworks/Python.framework/Versions/3.10/lib/python3.10/tkinter/__init__.py:37\u001b[0m\n\u001b[1;32m     34\u001b[0m \u001b[39mimport\u001b[39;00m \u001b[39msys\u001b[39;00m\n\u001b[1;32m     35\u001b[0m \u001b[39mimport\u001b[39;00m \u001b[39mtypes\u001b[39;00m\n\u001b[0;32m---> 37\u001b[0m \u001b[39mimport\u001b[39;00m \u001b[39m_tkinter\u001b[39;00m \u001b[39m# If this fails your Python may not be configured for Tk\u001b[39;00m\n\u001b[1;32m     38\u001b[0m TclError \u001b[39m=\u001b[39m _tkinter\u001b[39m.\u001b[39mTclError\n\u001b[1;32m     39\u001b[0m \u001b[39mfrom\u001b[39;00m \u001b[39mtkinter\u001b[39;00m\u001b[39m.\u001b[39;00m\u001b[39mconstants\u001b[39;00m \u001b[39mimport\u001b[39;00m \u001b[39m*\u001b[39m\n",
      "\u001b[0;31mModuleNotFoundError\u001b[0m: No module named '_tkinter'"
     ]
    }
   ],
   "source": [
    "import sys\n",
    "sys.path.append(\"utils\")  # path contains python_file.py\n",
    "\n",
    "#import define_nums\n",
    "from extract_parameters import extract_parameters\n",
    "from define_nums import define_nums\n",
    "from domination_3D import liste_dominants, graph_dominant\n",
    "from show_planning import show_planning\n",
    "\n",
    "#import extract_parameters"
   ]
  },
  {
   "cell_type": "code",
   "execution_count": 32,
   "metadata": {},
   "outputs": [],
   "source": [
    "#from utils.extract_parameters import extract_parameters\n",
    "\n",
    "################################\n",
    "######## TO DO #################\n",
    "################################\n",
    "\n",
    "# choose taille among: \"small\", \"medium\", \"large\"\n",
    "taille = \"small\""
   ]
  },
  {
   "cell_type": "code",
   "execution_count": 33,
   "metadata": {},
   "outputs": [],
   "source": [
    "################################\n",
    "######## DO NOT CHANGE #########\n",
    "################################\n",
    "map_employe_indice, map_job_indice, map_qualif_indice, conge, qualif, d, p, b, besoin = extract_parameters(taille)"
   ]
  },
  {
   "cell_type": "code",
   "execution_count": 34,
   "metadata": {},
   "outputs": [
    {
     "name": "stdout",
     "output_type": "stream",
     "text": [
      "conge :  [[1, 1, 1, 1, 1], [0, 1, 1, 1, 1], [1, 0, 1, 1, 1]]\n",
      "qualif :  [[1, 1, 0], [1, 1, 0], [1, 0, 1]]\n",
      "date livraison :  [3, 3, 4, 3, 5]\n",
      "pénalité :  [3, 3, 3, 3, 3]\n",
      "bénéfice :  [20, 15, 15, 20, 10]\n",
      "besoin :  [[1, 1, 1, 0, 0], [1, 2, 0, 2, 0], [1, 0, 2, 1, 2]]\n"
     ]
    }
   ],
   "source": [
    "print(\"conge : \",conge)\n",
    "print(\"qualif : \",qualif)\n",
    "print(\"date livraison : \",d)\n",
    "print(\"pénalité : \",p)\n",
    "print(\"bénéfice : \",b)\n",
    "print(\"besoin : \",besoin)"
   ]
  },
  {
   "cell_type": "markdown",
   "metadata": {},
   "source": [
    "## Définissons les paramètres"
   ]
  },
  {
   "cell_type": "code",
   "execution_count": 35,
   "metadata": {},
   "outputs": [],
   "source": [
    "#from utils.define_nums import define_nums\n",
    "\n",
    "nombre_employes, horizon, nombre_qualifs, nombre_projets = define_nums(conge, qualif, d, p, b, besoin)"
   ]
  },
  {
   "cell_type": "code",
   "execution_count": 36,
   "metadata": {},
   "outputs": [
    {
     "name": "stdout",
     "output_type": "stream",
     "text": [
      "nombre_employes :  3\n",
      "horizon :  5\n",
      "nombre_qualifs :  3\n",
      "nombre_projets :  5\n"
     ]
    }
   ],
   "source": [
    "print(\"nombre_employes : \",nombre_employes)\n",
    "print(\"horizon : \",horizon)\n",
    "print(\"nombre_qualifs : \",nombre_qualifs)\n",
    "print(\"nombre_projets : \",nombre_projets)"
   ]
  },
  {
   "cell_type": "code",
   "execution_count": 37,
   "metadata": {},
   "outputs": [],
   "source": [
    "## u_j, le projet j est réalisé\n",
    "u_shape = nombre_projets\n",
    "\n",
    "## x_i_j_k_n, l'employé k travaille sur le projet j avec la qualif i\n",
    "## au jour n\n",
    "x_shape = [(i,j,k, n) for i in range(nombre_qualifs) for j in range(nombre_projets) for k in range(nombre_employes) for n in range(horizon)]\n",
    "\n",
    "## t_k_j, l'employé k travaille sur le projet j\n",
    "t_shape = [(i,j) for i in range(nombre_employes) for j in range(nombre_projets)]\n",
    "\n",
    "## begin_j, la date de début effective\n",
    "begin_shape = nombre_projets\n",
    "\n",
    "## end_j, la date de fin effective = date de livraison du projet j\n",
    "end_shape = nombre_projets\n",
    "\n",
    "## delay_j, le nombre de jours de retard par projet j\n",
    "delay_shape = nombre_projets\n",
    "\n",
    "## longueur_j, la longueur du projet j\n",
    "longueur_shape = nombre_projets\n",
    "\n",
    "## projet_par_employe_k, le nombre de projet par employe\n",
    "projet_par_employe_shape = nombre_employes\n",
    "\n",
    "# majorant pour la contrainte de couverture\n",
    "maj = max([besoin[i][j] for j in range(nombre_projets) for i in range(nombre_qualifs)]) + 1\n",
    "\n",
    "# si le projet j est travaillé au jour n\n",
    "job_in_process_shape = [(j, n) for j in range(nombre_projets) for n in range(horizon)]"
   ]
  },
  {
   "cell_type": "markdown",
   "metadata": {},
   "source": [
    "# Model deployment"
   ]
  },
  {
   "cell_type": "markdown",
   "metadata": {},
   "source": [
    "## Add the variables"
   ]
  },
  {
   "cell_type": "code",
   "execution_count": 38,
   "metadata": {},
   "outputs": [],
   "source": [
    "model = grb.Model(\"Planning\")\n",
    "\n",
    "# L'affectation du planning, la variable clé\n",
    "x = model.addVars(x_shape, vtype=GRB.BINARY, name=\"x\")\n",
    "\n",
    "## Les dates de fin des projets\n",
    "dateFin = model.addVars(end_shape, lb = 0, ub = horizon, name = \"dateFin\")\n",
    "\n",
    "## Les dates de début des projets\n",
    "dateDebut = model.addVars(begin_shape, lb = 0, ub = horizon, name = \"dateDebut\")\n",
    "\n",
    "## Le nombre de jours de delai\n",
    "delay = model.addVars(delay_shape, lb = 0, ub = horizon, name = \"delay\")\n",
    "\n",
    "## Les longueurs des projets\n",
    "longueur = model.addVars(longueur_shape, lb = 0, ub = horizon, name = \"longueur\")\n",
    "\n",
    "## Nombre de projet par employé\n",
    "projet_par_employe = model.addVars(projet_par_employe_shape, lb = 0, ub = nombre_projets, name = \"projet_par_employe\")\n",
    "\n",
    "## L'affectation sur un projet d'un employé\n",
    "affectation = model.addVars(t_shape, vtype = GRB.BINARY, name = \"affectation\")\n",
    "\n",
    "## La réalisation ou non d'un projet\n",
    "u = model.addVars(u_shape, vtype = GRB.BINARY, name=\"u\")\n",
    "\n",
    "## Verification du projet\n",
    "job_in_process = model.addVars(job_in_process_shape, vtype = GRB.BINARY, name = \"job_in_process\")"
   ]
  },
  {
   "cell_type": "code",
   "execution_count": 39,
   "metadata": {},
   "outputs": [],
   "source": [
    "# Update le modele pour confirmer la création des variables\n",
    "model.update()\n"
   ]
  },
  {
   "cell_type": "markdown",
   "metadata": {},
   "source": [
    "## Add constraints"
   ]
  },
  {
   "cell_type": "code",
   "execution_count": 40,
   "metadata": {},
   "outputs": [],
   "source": [
    "for i in range(nombre_qualifs):\n",
    "    for j in range(nombre_projets):\n",
    "        for k in range(nombre_employes):\n",
    "            for n in range(horizon):\n",
    "                ## La qualification du personnel\n",
    "                model.addConstr( x[i,j,k,n] <= qualif[i][k], name=\"QualificationPersonnel[{0}{1}{2}{3}]\".format(i,j,k,n))\n",
    "                model.addConstr( x[i,j,k,n] <= (besoin[i][j] >=1), name = \"BesoinQualifPersonnel[{0}{1}{2}{3}]\".format(i,j,k,n))\n",
    "                ## Contraintes des congés\n",
    "                model.addConstr( x[i,j,k,n] <= conge[k][n], name=f\"CongesPersonnel[{i}{j}{k}{n}]\")\n",
    "        \n",
    "        ## Contrainte d'unicité de réalisation d'un projet\n",
    "        model.addConstr(grb.quicksum(grb.quicksum(x[i,j,k,n] for n in range(horizon)) for k in range(nombre_employes)) == besoin[i][j]*u[j], name=f\"UniciteRealisation[{i}{j}]\")\n",
    "\n",
    "        ## Couverture des qualifications\n",
    "        # model.addConstr( grb.quicksum(grb.quicksum(x[i,j,k,n] for n in range(horizon)) for k in range(nombre_employes)) - besoin[i][j] >= maj*(1-u[j]), name=f\"CouvertureQualificationsInf[{i}{j}]\") \n",
    "\n",
    "\n",
    "## Unicité de l'affectation quotidienne\n",
    "for k in range(nombre_employes):\n",
    "    for n in range(horizon):\n",
    "        model.addConstr(grb.quicksum(grb.quicksum(x[i,j,k,n] for j in range(nombre_projets)) for i in range(nombre_qualifs)) <= 1, name=f\"UniciteAffectation[{k}{n}]\")\n",
    "\n",
    "        \n",
    "for j in range(nombre_projets):\n",
    "    for n in range(horizon):\n",
    "        model.addConstrs(((job_in_process[j,n] >= x[i,j,k,n]) for i in range(nombre_qualifs) for k in range(nombre_employes)), name=f\"ContrainteJobInProcess[{j}{n}]\")\n",
    "    # start date\n",
    "    model.addConstrs(((dateDebut[j] <= job_in_process[j,n]*n) for n in range(horizon)), name = f\"ContrainteDateDebut[{j}]\")\n",
    "\n",
    "    # end date\n",
    "    model.addConstrs(((job_in_process[j,n]*n <= dateFin[j]) for n in range(horizon)), name=f\"FinProjet[{j}]\")\n",
    "\n",
    "    ## longueur\n",
    "    model.addConstr(longueur[j] == dateFin[j] - dateDebut[j], name=f\"LongueurProjet[{j}]\")\n",
    "\n",
    "    ## delay\n",
    "    model.addConstr(delay[j] >= dateFin[j] - (d[j] - 1), name=f\"DelaiProjet_difference[{j}]\")    \n",
    "\n",
    "## projet_par_employe\n",
    "for k in range(nombre_employes):\n",
    "    model.addConstr(projet_par_employe[k] == grb.quicksum( affectation[k,j] for j in range(nombre_projets)), name=f\"FinProjet[{j}]\")\n",
    "    \n",
    "    \n",
    "## Contrainte de l'affectation à un projet selon les jours de travail\n",
    "for k in range(nombre_employes):\n",
    "    for j in range(nombre_projets):\n",
    "        model.addConstr(affectation[k,j] <= grb.quicksum(grb.quicksum(x[i,j,k,n] for i in range(nombre_qualifs)) for n in range(horizon)), name=f\"AffectationProjetQuicksum[{k}{j}]\")    "
   ]
  },
  {
   "cell_type": "markdown",
   "metadata": {},
   "source": [
    "## Fonctions objectif"
   ]
  },
  {
   "cell_type": "code",
   "execution_count": 41,
   "metadata": {},
   "outputs": [],
   "source": [
    "## bénéfice total\n",
    "benefice_tot = grb.quicksum( (b[j]*u[j] - delay[j]*p[j]) for j in range(nombre_projets) )\n",
    "\n",
    "## Lignes pour optimiser le modèles\n",
    "## sur le bénéfice total seulement\n",
    "\n",
    "# model.ModelSense = GRB.MAXIMIZE\n",
    "# model.setObjective(benefice_tot)\n",
    "# model.ModelSense = GRB.MAXIMIZE"
   ]
  },
  {
   "cell_type": "code",
   "execution_count": 42,
   "metadata": {},
   "outputs": [
    {
     "data": {
      "text/plain": [
       "{0: <gurobi.Constr *Awaiting Model Update*>,\n",
       " 1: <gurobi.Constr *Awaiting Model Update*>,\n",
       " 2: <gurobi.Constr *Awaiting Model Update*>,\n",
       " 3: <gurobi.Constr *Awaiting Model Update*>,\n",
       " 4: <gurobi.Constr *Awaiting Model Update*>}"
      ]
     },
     "execution_count": 42,
     "metadata": {},
     "output_type": "execute_result"
    }
   ],
   "source": [
    "# Lignes pour optimiser le problème suivant\n",
    "## les trois fonctions objectif voulues\n",
    "\n",
    "# Nombre de projet maximum par personne\n",
    "projet_max = model.addVar(lb= 0, ub=nombre_projets, name=\"projet_max\")\n",
    "model.addConstrs(projet_max>=projet_par_employe[k] for k in range(nombre_employes))\n",
    "\n",
    "# Compacité des projets\n",
    "longueur_max = model.addVar(lb = 0, ub=horizon, name=\"longueur_max\")\n",
    "model.addConstrs(longueur_max>=longueur[j] for j in range(nombre_projets))"
   ]
  },
  {
   "cell_type": "code",
   "execution_count": 43,
   "metadata": {},
   "outputs": [],
   "source": [
    "model.update()"
   ]
  },
  {
   "cell_type": "code",
   "execution_count": 44,
   "metadata": {},
   "outputs": [
    {
     "data": {
      "text/plain": [
       "'\\nfor l in range(horizon-1, 0 , -1):\\n    for p in range(nombre_projets-1, 0, -1):\\n        # contrainte sur la longueur des projets\\n        model.addConstr(longueur_max<=l)\\n        # contrainte sur le nombre de projets\\n        model.addConstr(projet_max<=p)\\n\\n        model.ModelSense = GRB.MAXIMIZE\\n        model.setObjective(benefice_tot)\\n        model.optimize()\\n\\n        res.loc[len(res)] = [model.objVal, int(longueur_max.x), int(projet_max.x)]\\n        \\n        model.reset(1)'"
      ]
     },
     "execution_count": 44,
     "metadata": {},
     "output_type": "execute_result"
    }
   ],
   "source": [
    "res = pd.DataFrame(columns = [\"Benefice\", \"longueur max\", \"projets max\"])\n",
    "\n",
    "for l in range(horizon-1, 0 , -1):\n",
    "    for p in range(nombre_projets-1, 0, -1):\n",
    "        # contrainte sur la longueur des projets\n",
    "        model.addConstr(longueur_max<=l)\n",
    "        # contrainte sur le nombre de projets\n",
    "        model.addConstr(projet_max<=p)\n",
    "\n",
    "        model.ModelSense = GRB.MAXIMIZE\n",
    "        model.setObjective(benefice_tot)\n",
    "        model.optimize()\n",
    "\n",
    "        res.loc[len(res)] = [model.objVal, int(longueur_max.x), int(projet_max.x)]\n",
    "        \n",
    "        model.reset(1)"
   ]
  },
  {
   "cell_type": "code",
   "execution_count": 45,
   "metadata": {},
   "outputs": [
    {
     "data": {
      "text/html": [
       "<div>\n",
       "<style scoped>\n",
       "    .dataframe tbody tr th:only-of-type {\n",
       "        vertical-align: middle;\n",
       "    }\n",
       "\n",
       "    .dataframe tbody tr th {\n",
       "        vertical-align: top;\n",
       "    }\n",
       "\n",
       "    .dataframe thead th {\n",
       "        text-align: right;\n",
       "    }\n",
       "</style>\n",
       "<table border=\"1\" class=\"dataframe\">\n",
       "  <thead>\n",
       "    <tr style=\"text-align: right;\">\n",
       "      <th></th>\n",
       "      <th>Benefice</th>\n",
       "      <th>longueur max</th>\n",
       "      <th>projets max</th>\n",
       "    </tr>\n",
       "  </thead>\n",
       "  <tbody>\n",
       "  </tbody>\n",
       "</table>\n",
       "</div>"
      ],
      "text/plain": [
       "Empty DataFrame\n",
       "Columns: [Benefice, longueur max, projets max]\n",
       "Index: []"
      ]
     },
     "execution_count": 45,
     "metadata": {},
     "output_type": "execute_result"
    }
   ],
   "source": [
    "res"
   ]
  },
  {
   "cell_type": "markdown",
   "metadata": {},
   "source": [
    "# Model optimisation"
   ]
  },
  {
   "cell_type": "code",
   "execution_count": 46,
   "metadata": {},
   "outputs": [
    {
     "ename": "TypeError",
     "evalue": "Cannot cast array data from dtype('O') to dtype('float64') according to the rule 'safe'",
     "output_type": "error",
     "traceback": [
      "\u001b[0;31m---------------------------------------------------------------------------\u001b[0m",
      "\u001b[0;31mTypeError\u001b[0m                                 Traceback (most recent call last)",
      "Cell \u001b[0;32mIn[46], line 13\u001b[0m\n\u001b[1;32m     10\u001b[0m Z \u001b[39m=\u001b[39m np\u001b[39m.\u001b[39marray(res[\u001b[39m\"\u001b[39m\u001b[39mBenefice\u001b[39m\u001b[39m\"\u001b[39m])\n\u001b[1;32m     12\u001b[0m \u001b[39m# Plot the surface.\u001b[39;00m\n\u001b[0;32m---> 13\u001b[0m surf \u001b[39m=\u001b[39m ax\u001b[39m.\u001b[39;49mplot_trisurf(X, Y, Z, cmap \u001b[39m=\u001b[39;49m \u001b[39m'\u001b[39;49m\u001b[39mSpectral\u001b[39;49m\u001b[39m'\u001b[39;49m)\n\u001b[1;32m     15\u001b[0m \u001b[39m# Add a color bar which maps values to colors.\u001b[39;00m\n\u001b[1;32m     16\u001b[0m fig\u001b[39m.\u001b[39mcolorbar(surf, pad\u001b[39m=\u001b[39m\u001b[39m0.2\u001b[39m)\n",
      "File \u001b[0;32m/usr/local/lib/python3.10/site-packages/mpl_toolkits/mplot3d/axes3d.py:1770\u001b[0m, in \u001b[0;36mAxes3D.plot_trisurf\u001b[0;34m(self, color, norm, vmin, vmax, lightsource, *args, **kwargs)\u001b[0m\n\u001b[1;32m   1766\u001b[0m cmap \u001b[39m=\u001b[39m kwargs\u001b[39m.\u001b[39mget(\u001b[39m'\u001b[39m\u001b[39mcmap\u001b[39m\u001b[39m'\u001b[39m, \u001b[39mNone\u001b[39;00m)\n\u001b[1;32m   1767\u001b[0m shade \u001b[39m=\u001b[39m kwargs\u001b[39m.\u001b[39mpop(\u001b[39m'\u001b[39m\u001b[39mshade\u001b[39m\u001b[39m'\u001b[39m, cmap \u001b[39mis\u001b[39;00m \u001b[39mNone\u001b[39;00m)\n\u001b[1;32m   1769\u001b[0m tri, args, kwargs \u001b[39m=\u001b[39m \\\n\u001b[0;32m-> 1770\u001b[0m     Triangulation\u001b[39m.\u001b[39;49mget_from_args_and_kwargs(\u001b[39m*\u001b[39;49margs, \u001b[39m*\u001b[39;49m\u001b[39m*\u001b[39;49mkwargs)\n\u001b[1;32m   1771\u001b[0m \u001b[39mtry\u001b[39;00m:\n\u001b[1;32m   1772\u001b[0m     z \u001b[39m=\u001b[39m kwargs\u001b[39m.\u001b[39mpop(\u001b[39m'\u001b[39m\u001b[39mZ\u001b[39m\u001b[39m'\u001b[39m)\n",
      "File \u001b[0;32m/usr/local/lib/python3.10/site-packages/matplotlib/tri/triangulation.py:161\u001b[0m, in \u001b[0;36mTriangulation.get_from_args_and_kwargs\u001b[0;34m(*args, **kwargs)\u001b[0m\n\u001b[1;32m    158\u001b[0m \u001b[39melse\u001b[39;00m:\n\u001b[1;32m    159\u001b[0m     x, y, triangles, mask, args, kwargs \u001b[39m=\u001b[39m \\\n\u001b[1;32m    160\u001b[0m         Triangulation\u001b[39m.\u001b[39m_extract_triangulation_params(args, kwargs)\n\u001b[0;32m--> 161\u001b[0m     triangulation \u001b[39m=\u001b[39m Triangulation(x, y, triangles, mask)\n\u001b[1;32m    162\u001b[0m \u001b[39mreturn\u001b[39;00m triangulation, args, kwargs\n",
      "File \u001b[0;32m/usr/local/lib/python3.10/site-packages/matplotlib/tri/triangulation.py:58\u001b[0m, in \u001b[0;36mTriangulation.__init__\u001b[0;34m(self, x, y, triangles, mask)\u001b[0m\n\u001b[1;32m     53\u001b[0m \u001b[39mself\u001b[39m\u001b[39m.\u001b[39mis_delaunay \u001b[39m=\u001b[39m \u001b[39mFalse\u001b[39;00m\n\u001b[1;32m     55\u001b[0m \u001b[39mif\u001b[39;00m triangles \u001b[39mis\u001b[39;00m \u001b[39mNone\u001b[39;00m:\n\u001b[1;32m     56\u001b[0m     \u001b[39m# No triangulation specified, so use matplotlib._qhull to obtain\u001b[39;00m\n\u001b[1;32m     57\u001b[0m     \u001b[39m# Delaunay triangulation.\u001b[39;00m\n\u001b[0;32m---> 58\u001b[0m     \u001b[39mself\u001b[39m\u001b[39m.\u001b[39mtriangles, \u001b[39mself\u001b[39m\u001b[39m.\u001b[39m_neighbors \u001b[39m=\u001b[39m _qhull\u001b[39m.\u001b[39;49mdelaunay(x, y)\n\u001b[1;32m     59\u001b[0m     \u001b[39mself\u001b[39m\u001b[39m.\u001b[39mis_delaunay \u001b[39m=\u001b[39m \u001b[39mTrue\u001b[39;00m\n\u001b[1;32m     60\u001b[0m \u001b[39melse\u001b[39;00m:\n\u001b[1;32m     61\u001b[0m     \u001b[39m# Triangulation specified. Copy, since we may correct triangle\u001b[39;00m\n\u001b[1;32m     62\u001b[0m     \u001b[39m# orientation.\u001b[39;00m\n",
      "\u001b[0;31mTypeError\u001b[0m: Cannot cast array data from dtype('O') to dtype('float64') according to the rule 'safe'"
     ]
    },
    {
     "data": {
      "image/png": "[encoded data removed]",
      "text/plain": [
       "<Figure size 640x480 with 1 Axes>"
      ]
     },
     "metadata": {},
     "output_type": "display_data"
    }
   ],
   "source": [
    "from mpl_toolkits.axes_grid1 import make_axes_locatable\n",
    "\n",
    "fig, ax = plt.subplots(subplot_kw={\"projection\": \"3d\"})\n",
    "\n",
    "X, Y = np.meshgrid(res[\"projets max\"], res[\"longueur max\"])\n",
    "Z = res[\"Benefice\"]\n",
    "\n",
    "X = np.array(res[\"projets max\"])\n",
    "Y = np.array(res[\"longueur max\"])\n",
    "Z = np.array(res[\"Benefice\"])\n",
    "\n",
    "# Plot the surface.\n",
    "surf = ax.plot_trisurf(X, Y, Z, cmap = 'Spectral')\n",
    "\n",
    "# Add a color bar which maps values to colors.\n",
    "fig.colorbar(surf, pad=0.2)\n",
    "\n",
    "ax.set_xlabel('projets max')\n",
    "ax.set_ylabel('longueur max')\n",
    "ax.set_zlabel('bénéfice')\n",
    "\n",
    "fig.set_size_inches(7, 5)\n",
    "\n",
    "if taille == \"small\":\n",
    "    plt.savefig(\"results/sys_preference/small.png\")\n",
    "elif taille==\"medium\":\n",
    "    plt.savefig(\"results/sys_preference/medium.png\")\n",
    "else:\n",
    "    plt.savefig(\"results/sys_preference/large.png\")\n",
    "\n",
    "plt.show()"
   ]
  },
  {
   "cell_type": "code",
   "execution_count": null,
   "metadata": {},
   "outputs": [
    {
     "data": {
      "image/png": "[encoded data removed]",
      "text/plain": [
       "<Figure size 640x480 with 1 Axes>"
      ]
     },
     "metadata": {},
     "output_type": "display_data"
    }
   ],
   "source": [
    "X = np.array(res[\"longueur max\"])\n",
    "Y = np.array(res[\"projets max\"])\n",
    "Z = np.array(res[\"Benefice\"])\n",
    "\n",
    "#longueur/projet\n",
    "plt.scatter(X,Y,label=\"longueur/projet\", marker='+')\n",
    "plt.title(\"longueur/projet\")\n",
    "plt.savefig(\"results/dominant/Domination longueur_max projet_max\"+taille)\n",
    "plt.show()"
   ]
  },
  {
   "cell_type": "code",
   "execution_count": null,
   "metadata": {},
   "outputs": [
    {
     "data": {
      "image/png": "[encoded data removed]",
      "text/plain": [
       "<Figure size 640x480 with 2 Axes>"
      ]
     },
     "metadata": {},
     "output_type": "display_data"
    }
   ],
   "source": [
    "#longueur/benefice\n",
    "plt.scatter(X,Z,label=\"longueur/benefice\", marker = '+', c=Y)\n",
    "plt.colorbar()\n",
    "plt.title(\"longueur/benefice\")\n",
    "plt.savefig(\"results/dominant/Domination longueur_max bénéfice\"+taille)\n",
    "plt.show()"
   ]
  },
  {
   "cell_type": "code",
   "execution_count": null,
   "metadata": {},
   "outputs": [
    {
     "data": {
      "image/png": "[encoded data removed]",
      "text/plain": [
       "<Figure size 640x480 with 1 Axes>"
      ]
     },
     "metadata": {},
     "output_type": "display_data"
    }
   ],
   "source": [
    "#projet/benefice\n",
    "plt.scatter(Y,Z,label=\"projet/benefice\", marker = '+')\n",
    "plt.title(\"projet/benefice\")\n",
    "plt.savefig(\"results/dominant/Domination projet_max bénéfice\"+taille)\n",
    "plt.show()"
   ]
  },
  {
   "cell_type": "markdown",
   "metadata": {},
   "source": []
  },
  {
   "cell_type": "code",
   "execution_count": null,
   "metadata": {},
   "outputs": [],
   "source": [
    "# Verify model formulation\n",
    "\n",
    "#nom = \"results/\"+taille+\".lp\"\n",
    "#model.write(nom)\n",
    "\n",
    "# Run optimization engine\n",
    "\n",
    "# model.optimize()"
   ]
  },
  {
   "cell_type": "code",
   "execution_count": null,
   "metadata": {},
   "outputs": [],
   "source": [
    "## Print the values of all variables\n",
    "# for v in model.getVars():\n",
    "#     print(f\"{v.VarName} = {v.X}\")\n",
    "\n",
    "# Pour voir quels sont les projets faits\n",
    "# for j in range(nombre_projets):\n",
    "#     v = model.getVarByName(f\"u[{j}]\")\n",
    "#     if int(v.x) == 1:\n",
    "#         print(f\"la tâche {j} est faite\")\n",
    "#     else:\n",
    "#         print(f\"la tâche {j} n'est pas faite\")"
   ]
  },
  {
   "cell_type": "code",
   "execution_count": 47,
   "metadata": {},
   "outputs": [
    {
     "name": "stdout",
     "output_type": "stream",
     "text": [
      "Discarded solution information including additional information\n",
      "Gurobi Optimizer version 10.0.0 build v10.0.0rc2 (mac64[x86])\n",
      "\n",
      "CPU model: Intel(R) Core(TM) i5-8257U CPU @ 1.40GHz\n",
      "Thread count: 4 physical cores, 8 logical processors, using up to 8 threads\n",
      "\n",
      "Optimize a model with 1018 rows, 295 columns and 1976 nonzeros\n",
      "Model fingerprint: 0xc4fc42a7\n",
      "Variable types: 25 continuous, 270 integer (270 binary)\n",
      "Coefficient statistics:\n",
      "  Matrix range     [1e+00, 4e+00]\n",
      "  Objective range  [3e+00, 2e+01]\n",
      "  Bounds range     [1e+00, 5e+00]\n",
      "  RHS range        [1e+00, 4e+00]\n",
      "Found heuristic solution: objective -0.0000000\n",
      "Presolve removed 966 rows and 190 columns\n",
      "Presolve time: 0.00s\n",
      "Presolved: 52 rows, 105 columns, 270 nonzeros\n",
      "Variable types: 0 continuous, 105 integer (102 binary)\n",
      "Found heuristic solution: objective 20.0000000\n",
      "\n",
      "Root relaxation: objective 7.200000e+01, 79 iterations, 0.00 seconds (0.00 work units)\n",
      "\n",
      "    Nodes    |    Current Node    |     Objective Bounds      |     Work\n",
      " Expl Unexpl |  Obj  Depth IntInf | Incumbent    BestBd   Gap | It/Node Time\n",
      "\n",
      "     0     0   72.00000    0   16   20.00000   72.00000   260%     -    0s\n",
      "H    0     0                      62.0000000   72.00000  16.1%     -    0s\n",
      "     0     0   67.00000    0   16   62.00000   67.00000  8.06%     -    0s\n",
      "H    0     0                      64.0000000   66.72222  4.25%     -    0s\n",
      "H    0     0                      65.0000000   66.72222  2.65%     -    0s\n",
      "     0     0   66.72222    0   36   65.00000   66.72222  2.65%     -    0s\n",
      "\n",
      "Cutting planes:\n",
      "  Gomory: 3\n",
      "  Cover: 1\n",
      "  Implied bound: 1\n",
      "  Clique: 2\n",
      "  RLT: 2\n",
      "  Relax-and-lift: 1\n",
      "\n",
      "Explored 1 nodes (170 simplex iterations) in 0.06 seconds (0.00 work units)\n",
      "Thread count was 8 (of 8 available processors)\n",
      "\n",
      "Solution count 5: 65 64 62 ... -0\n",
      "\n",
      "Optimal solution found (tolerance 1.00e-04)\n",
      "Best objective 6.500000000000e+01, best bound 6.500000000000e+01, gap 0.0000%\n"
     ]
    }
   ],
   "source": [
    "model.reset(1)\n",
    "model.update()\n",
    "\n",
    "model.addConstr(longueur_max<=4)\n",
    "# contrainte sur le nombre de projets\n",
    "model.addConstr(projet_max==1)\n",
    "\n",
    "model.ModelSense = GRB.MAXIMIZE\n",
    "model.setObjective(benefice_tot)\n",
    "model.optimize()"
   ]
  },
  {
   "cell_type": "code",
   "execution_count": 48,
   "metadata": {},
   "outputs": [],
   "source": [
    "# Edt des employés et le détail de la réalisation de chaque tâche (de façon ordonnée)\n",
    "schedules = []\n",
    "tasks_performances = []\n",
    "for i in range(nombre_qualifs):\n",
    "    for j in range(nombre_projets):\n",
    "        for k in range(nombre_employes):\n",
    "            for n in range(horizon):\n",
    "                v = model.getVarByName(f\"x[{i},{j},{k},{n}]\")\n",
    "                if int(v.x) == 1:\n",
    "                    schedules.append((map_employe_indice[k], n+1, map_job_indice[j], map_qualif_indice[i]))\n",
    "                    tasks_performances.append((map_job_indice[j], map_qualif_indice[i], map_employe_indice[k], n+1))\n",
    "\n",
    "schedules.sort()\n",
    "\n",
    "tasks_performances.sort()\n",
    "\n",
    "# Dates de début et de fin des tâches réalisees \n",
    "# (à n'étudier que lorsque longueur_max est mis en objectif, sinon les \n",
    "# variables dateDebut et dateFin ne sont pas assez contraintes pour prendre exactement le sens souhaité)\n",
    "\n",
    "# for j in range(nombre_projets):\n",
    "#     v = model.getVarByName(f\"u[{j}]\")\n",
    "#     v1 = model.getVarByName(f\"dateDebut[{j}]\")\n",
    "#     v2 = model.getVarByName(f\"dateFin[{j}]\")\n",
    "#     if int(v.x) == 1:\n",
    "#         print(f\"la tâche {j} commence à la date {int(1+v1.x)} et finit à la date {int(1+v2.x)}\")"
   ]
  },
  {
   "cell_type": "code",
   "execution_count": 49,
   "metadata": {},
   "outputs": [
    {
     "data": {
      "text/plain": [
       "[('Emma', 1, 'Job4', 'C'),\n",
       " ('Emma', 3, 'Job1', 'C'),\n",
       " ('Emma', 4, 'Job3', 'C'),\n",
       " ('Emma', 5, 'Job5', 'C'),\n",
       " ('Liam', 2, 'Job4', 'B'),\n",
       " ('Liam', 3, 'Job1', 'A'),\n",
       " ('Liam', 4, 'Job3', 'A'),\n",
       " ('Olivia', 1, 'Job4', 'B'),\n",
       " ('Olivia', 2, 'Job1', 'B'),\n",
       " ('Olivia', 4, 'Job3', 'C'),\n",
       " ('Olivia', 5, 'Job5', 'C')]"
      ]
     },
     "execution_count": 49,
     "metadata": {},
     "output_type": "execute_result"
    }
   ],
   "source": [
    "schedules"
   ]
  },
  {
   "cell_type": "code",
   "execution_count": 50,
   "metadata": {},
   "outputs": [
    {
     "data": {
      "text/html": [
       "<div>\n",
       "<style scoped>\n",
       "    .dataframe tbody tr th:only-of-type {\n",
       "        vertical-align: middle;\n",
       "    }\n",
       "\n",
       "    .dataframe tbody tr th {\n",
       "        vertical-align: top;\n",
       "    }\n",
       "\n",
       "    .dataframe thead tr th {\n",
       "        text-align: left;\n",
       "    }\n",
       "\n",
       "    .dataframe thead tr:last-of-type th {\n",
       "        text-align: right;\n",
       "    }\n",
       "</style>\n",
       "<table border=\"1\" class=\"dataframe\">\n",
       "  <thead>\n",
       "    <tr>\n",
       "      <th></th>\n",
       "      <th colspan=\"5\" halign=\"left\">Affectation</th>\n",
       "    </tr>\n",
       "    <tr>\n",
       "      <th>Jour</th>\n",
       "      <th>1</th>\n",
       "      <th>2</th>\n",
       "      <th>3</th>\n",
       "      <th>4</th>\n",
       "      <th>5</th>\n",
       "    </tr>\n",
       "    <tr>\n",
       "      <th>Nom</th>\n",
       "      <th></th>\n",
       "      <th></th>\n",
       "      <th></th>\n",
       "      <th></th>\n",
       "      <th></th>\n",
       "    </tr>\n",
       "  </thead>\n",
       "  <tbody>\n",
       "    <tr>\n",
       "      <th>Emma</th>\n",
       "      <td>[Job4, C]</td>\n",
       "      <td>0</td>\n",
       "      <td>[Job1, C]</td>\n",
       "      <td>[Job3, C]</td>\n",
       "      <td>[Job5, C]</td>\n",
       "    </tr>\n",
       "    <tr>\n",
       "      <th>Liam</th>\n",
       "      <td>0</td>\n",
       "      <td>[Job4, B]</td>\n",
       "      <td>[Job1, A]</td>\n",
       "      <td>[Job3, A]</td>\n",
       "      <td>0</td>\n",
       "    </tr>\n",
       "    <tr>\n",
       "      <th>Olivia</th>\n",
       "      <td>[Job4, B]</td>\n",
       "      <td>[Job1, B]</td>\n",
       "      <td>0</td>\n",
       "      <td>[Job3, C]</td>\n",
       "      <td>[Job5, C]</td>\n",
       "    </tr>\n",
       "  </tbody>\n",
       "</table>\n",
       "</div>"
      ],
      "text/plain": [
       "       Affectation                                            \n",
       "Jour             1          2          3          4          5\n",
       "Nom                                                           \n",
       "Emma     [Job4, C]          0  [Job1, C]  [Job3, C]  [Job5, C]\n",
       "Liam             0  [Job4, B]  [Job1, A]  [Job3, A]          0\n",
       "Olivia   [Job4, B]  [Job1, B]          0  [Job3, C]  [Job5, C]"
      ]
     },
     "execution_count": 50,
     "metadata": {},
     "output_type": "execute_result"
    }
   ],
   "source": [
    "# Cette partie n'est pas finie\n",
    "df = pd.DataFrame(schedules, columns=['Nom', 'Jour', 'Projet', 'Qualification'])\n",
    "\n",
    "df['Affectation'] = df[['Projet', 'Qualification']].values.tolist()\n",
    "\n",
    "df = df.pivot(index=['Nom'], \n",
    "                    columns=['Jour'],\n",
    "                    values=['Affectation'])\n",
    "\n",
    "df.fillna(0, inplace=True)\n",
    "df"
   ]
  },
  {
   "cell_type": "markdown",
   "metadata": {},
   "source": []
  },
  {
   "cell_type": "code",
   "execution_count": 51,
   "metadata": {},
   "outputs": [
    {
     "ename": "NameError",
     "evalue": "name 'show_planning' is not defined",
     "output_type": "error",
     "traceback": [
      "\u001b[0;31m---------------------------------------------------------------------------\u001b[0m",
      "\u001b[0;31mNameError\u001b[0m                                 Traceback (most recent call last)",
      "Cell \u001b[0;32mIn[51], line 4\u001b[0m\n\u001b[1;32m      1\u001b[0m \u001b[39m#from utils.show_planning import show_planning\u001b[39;00m\n\u001b[1;32m      3\u001b[0m df \u001b[39m=\u001b[39m pd\u001b[39m.\u001b[39mDataFrame(schedules, columns\u001b[39m=\u001b[39m[\u001b[39m'\u001b[39m\u001b[39mNom\u001b[39m\u001b[39m'\u001b[39m, \u001b[39m'\u001b[39m\u001b[39mJour\u001b[39m\u001b[39m'\u001b[39m, \u001b[39m'\u001b[39m\u001b[39mProjet\u001b[39m\u001b[39m'\u001b[39m, \u001b[39m'\u001b[39m\u001b[39mQualification\u001b[39m\u001b[39m'\u001b[39m])\n\u001b[0;32m----> 4\u001b[0m show_planning(df)\n",
      "\u001b[0;31mNameError\u001b[0m: name 'show_planning' is not defined"
     ]
    }
   ],
   "source": [
    "#from utils.show_planning import show_planning\n",
    "\n",
    "df = pd.DataFrame(schedules, columns=['Nom', 'Jour', 'Projet', 'Qualification'])\n",
    "show_planning(df)"
   ]
  },
  {
   "cell_type": "code",
   "execution_count": null,
   "metadata": {},
   "outputs": [],
   "source": [
    "## Avec seulement le bénéfice à optimiser\n",
    "## Commenter lors de la recherche de solutions non dominées\n",
    "\n",
    "# if taille == \"small\":\n",
    "#     df.to_json(r'results/benefice/small_benefice.json')\n",
    "# elif taille==\"medium\":\n",
    "#     df.to_json(r'results/benefice/medium_benefice.json')\n",
    "# else:\n",
    "#     df.to_json(r'results/benefice/large_benefice.json')"
   ]
  },
  {
   "cell_type": "code",
   "execution_count": null,
   "metadata": {},
   "outputs": [
    {
     "data": {
      "text/plain": [
       "20.0"
      ]
     },
     "execution_count": 25,
     "metadata": {},
     "output_type": "execute_result"
    }
   ],
   "source": [
    "model.objVal"
   ]
  },
  {
   "cell_type": "code",
   "execution_count": null,
   "metadata": {},
   "outputs": [],
   "source": [
    "####################\n",
    "#### RESULTS #######\n",
    "####################\n",
    "\n",
    "\n",
    "## Bénéfice totale (small) = 65\n",
    "## Bénéfice totale (medium) = 413\n",
    "## Bénéfice totale (large) = 817"
   ]
  }
 ],
 "metadata": {
  "kernelspec": {
   "display_name": "Python 3",
   "language": "python",
   "name": "python3"
  },
  "language_info": {
   "codemirror_mode": {
    "name": "ipython",
    "version": 3
   },
   "file_extension": ".py",
   "mimetype": "text/x-python",
   "name": "python",
   "nbconvert_exporter": "python",
   "pygments_lexer": "ipython3",
   "version": "3.8.5"
  },
  "vscode": {
   "interpreter": {
    "hash": "d353b0c5e377b70cf8d68715abfc75cf273a5427d1952db2f540f22618aa254a"
   }
  }
 },
 "nbformat": 4,
 "nbformat_minor": 2
}
