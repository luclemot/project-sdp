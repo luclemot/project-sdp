{
 "cells": [
  {
   "cell_type": "code",
   "execution_count": 148,
   "metadata": {},
   "outputs": [],
   "source": [
    "import numpy as np\n",
    "import pandas as pd\n",
    "from itertools import product\n",
    "import matplotlib.pyplot as plt\n",
    "from matplotlib import cm\n",
    "from matplotlib.ticker import LinearLocator\n",
    "\n",
    "import gurobipy as grb\n",
    "from gurobipy import GRB"
   ]
  },
  {
   "cell_type": "markdown",
   "metadata": {},
   "source": [
    "# Input Problem Parameters"
   ]
  },
  {
   "attachments": {},
   "cell_type": "markdown",
   "metadata": {},
   "source": [
    "## Import du problème"
   ]
  },
  {
   "cell_type": "code",
   "execution_count": 149,
   "metadata": {},
   "outputs": [],
   "source": [
    "from utils.extract_parameters import extract_parameters\n",
    "\n",
    "################################\n",
    "######## TO DO #################\n",
    "################################\n",
    "\n",
    "# choose taille among: \"small\", \"medium\", \"large\"\n",
    "taille = \"large\""
   ]
  },
  {
   "cell_type": "code",
   "execution_count": 150,
   "metadata": {},
   "outputs": [],
   "source": [
    "################################\n",
    "######## DO NOT CHANGE #########\n",
    "################################\n",
    "map_employe_indice, map_job_indice, map_qualif_indice, conge, qualif, d, p, b, besoin = extract_parameters(taille)"
   ]
  },
  {
   "cell_type": "code",
   "execution_count": 151,
   "metadata": {},
   "outputs": [
    {
     "name": "stdout",
     "output_type": "stream",
     "text": [
      "conge :  [[0, 0, 0, 0, 0, 1, 1, 1, 1, 1, 1, 1, 1, 1, 1, 1, 1, 1, 1, 1, 1, 1, 1, 1, 1, 1, 1, 1, 1, 1, 1, 1, 1, 1, 1, 1], [1, 1, 1, 1, 1, 0, 0, 0, 0, 0, 1, 1, 1, 1, 1, 1, 1, 1, 1, 1, 1, 1, 1, 1, 1, 1, 1, 1, 1, 1, 1, 1, 1, 1, 1, 1], [1, 1, 1, 1, 1, 1, 1, 1, 1, 1, 1, 1, 1, 1, 1, 1, 1, 1, 1, 1, 0, 0, 0, 0, 0, 1, 1, 1, 1, 1, 1, 1, 1, 1, 1, 1], [1, 1, 1, 1, 1, 1, 1, 1, 1, 1, 1, 1, 1, 1, 1, 1, 1, 1, 1, 1, 1, 1, 1, 1, 1, 0, 0, 0, 0, 0, 1, 1, 1, 1, 1, 1], [1, 1, 1, 1, 1, 1, 1, 1, 1, 1, 1, 1, 1, 1, 1, 1, 1, 1, 1, 1, 1, 1, 1, 1, 1, 1, 1, 1, 1, 1, 1, 1, 1, 1, 1, 1], [1, 1, 1, 1, 1, 1, 1, 1, 1, 1, 1, 1, 1, 1, 1, 1, 1, 1, 1, 1, 1, 1, 1, 1, 1, 1, 1, 1, 1, 1, 0, 0, 0, 1, 1, 1]]\n",
      "qualif :  [[1, 1, 0, 0, 0, 0], [1, 0, 1, 0, 0, 0], [1, 0, 0, 1, 0, 0], [0, 1, 0, 1, 0, 0], [0, 1, 0, 0, 1, 0], [0, 0, 0, 0, 1, 1], [0, 0, 0, 1, 1, 1], [0, 0, 1, 1, 0, 0], [0, 0, 0, 0, 1, 0], [0, 0, 0, 0, 1, 1]]\n",
      "date livraison :  [26, 20, 32, 32, 26, 30, 26, 36, 18, 18, 22, 26, 18, 12, 28, 26, 12, 14, 14, 16, 18, 14, 32, 18, 30]\n",
      "pénalité :  [3, 3, 3, 3, 3, 3, 3, 3, 3, 3, 3, 3, 3, 3, 3, 3, 3, 3, 3, 3, 3, 3, 3, 3, 3]\n",
      "bénéfice :  [15, 80, 20, 20, 40, 20, 20, 20, 80, 25, 30, 20, 25, 60, 50, 50, 45, 40, 50, 30, 30, 70, 50, 50, 80]\n",
      "besoin :  [[4, 0, 0, 0, 0, 0, 0, 0, 0, 0, 4, 0, 0, 0, 0, 0, 0, 0, 0, 4, 6, 0, 0, 0, 0], [4, 0, 0, 0, 0, 0, 0, 0, 0, 0, 2, 0, 0, 0, 0, 0, 0, 0, 0, 0, 0, 3, 3, 3, 0], [0, 7, 4, 8, 0, 0, 0, 0, 0, 0, 1, 0, 0, 0, 0, 0, 0, 0, 0, 1, 0, 4, 0, 0, 5], [0, 0, 0, 0, 4, 5, 5, 5, 0, 0, 4, 0, 0, 0, 0, 0, 0, 0, 0, 0, 0, 8, 0, 0, 5], [0, 0, 0, 0, 5, 5, 0, 0, 3, 4, 0, 0, 0, 0, 0, 0, 0, 0, 0, 0, 0, 0, 4, 0, 0], [0, 5, 0, 0, 0, 1, 0, 0, 6, 0, 0, 6, 6, 0, 0, 0, 0, 0, 0, 0, 0, 0, 0, 0, 0], [0, 0, 0, 0, 0, 0, 5, 0, 0, 3, 0, 0, 2, 4, 4, 4, 0, 0, 0, 0, 0, 0, 0, 0, 8], [0, 8, 0, 0, 0, 0, 0, 5, 0, 2, 0, 0, 1, 4, 0, 0, 6, 0, 0, 0, 0, 0, 7, 0, 0], [0, 0, 5, 0, 0, 0, 0, 0, 8, 0, 0, 0, 0, 0, 6, 0, 3, 4, 0, 0, 0, 0, 0, 4, 0], [0, 0, 0, 4, 0, 0, 3, 2, 0, 0, 0, 0, 0, 0, 4, 4, 0, 8, 10, 0, 0, 0, 0, 0, 0]]\n"
     ]
    }
   ],
   "source": [
    "print(\"conge : \",conge)\n",
    "print(\"qualif : \",qualif)\n",
    "print(\"date livraison : \",d)\n",
    "print(\"pénalité : \",p)\n",
    "print(\"bénéfice : \",b)\n",
    "print(\"besoin : \",besoin)"
   ]
  },
  {
   "cell_type": "markdown",
   "metadata": {},
   "source": [
    "## Définissons les paramètres"
   ]
  },
  {
   "cell_type": "code",
   "execution_count": 152,
   "metadata": {},
   "outputs": [],
   "source": [
    "from utils.define_nums import define_nums\n",
    "\n",
    "nombre_employes, horizon, nombre_qualifs, nombre_projets = define_nums(conge, qualif, d, p, b, besoin)"
   ]
  },
  {
   "cell_type": "code",
   "execution_count": 153,
   "metadata": {},
   "outputs": [
    {
     "name": "stdout",
     "output_type": "stream",
     "text": [
      "nombre_employes :  6\n",
      "horizon :  36\n",
      "nombre_qualifs :  10\n",
      "nombre_projets :  25\n"
     ]
    }
   ],
   "source": [
    "print(\"nombre_employes : \",nombre_employes)\n",
    "print(\"horizon : \",horizon)\n",
    "print(\"nombre_qualifs : \",nombre_qualifs)\n",
    "print(\"nombre_projets : \",nombre_projets)"
   ]
  },
  {
   "cell_type": "code",
   "execution_count": 154,
   "metadata": {},
   "outputs": [],
   "source": [
    "## u_j, le projet j est réalisé\n",
    "u_shape = nombre_projets\n",
    "\n",
    "## x_i_j_k_n, l'employé k travaille sur le projet j avec la qualif i\n",
    "## au jour n\n",
    "x_shape = [(i,j,k, n) for i in range(nombre_qualifs) for j in range(nombre_projets) for k in range(nombre_employes) for n in range(horizon)]\n",
    "\n",
    "## t_k_j, l'employé k travaille sur le projet j\n",
    "t_shape = [(i,j) for i in range(nombre_employes) for j in range(nombre_projets)]\n",
    "\n",
    "## begin_j, la date de début effective\n",
    "begin_shape = nombre_projets\n",
    "\n",
    "## end_j, la date de fin effective = date de livraison du projet j\n",
    "end_shape = nombre_projets\n",
    "\n",
    "## delay_j, le nombre de jours de retard par projet j\n",
    "delay_shape = nombre_projets\n",
    "\n",
    "## longueur_j, la longueur du projet j\n",
    "longueur_shape = nombre_projets\n",
    "\n",
    "## projet_par_employe_k, le nombre de projet par employe\n",
    "projet_par_employe_shape = nombre_employes\n",
    "\n",
    "# majorant pour la contrainte de couverture\n",
    "maj = max([besoin[i][j] for j in range(nombre_projets) for i in range(nombre_qualifs)]) + 1\n",
    "\n",
    "# si le projet j est travaillé au jour n\n",
    "job_in_process_shape = [(j, n) for j in range(nombre_projets) for n in range(horizon)]"
   ]
  },
  {
   "cell_type": "markdown",
   "metadata": {},
   "source": [
    "# Model deployment"
   ]
  },
  {
   "cell_type": "markdown",
   "metadata": {},
   "source": [
    "## Add the variables"
   ]
  },
  {
   "cell_type": "code",
   "execution_count": 155,
   "metadata": {},
   "outputs": [],
   "source": [
    "model = grb.Model(\"Planning\")\n",
    "\n",
    "# L'affectation du planning, la variable clé\n",
    "x = model.addVars(x_shape, vtype=GRB.BINARY, name=\"x\")\n",
    "\n",
    "## Les dates de fin des projets\n",
    "dateFin = model.addVars(end_shape, lb = 0, ub = horizon, name = \"dateFin\")\n",
    "\n",
    "## Les dates de début des projets\n",
    "dateDebut = model.addVars(begin_shape, lb = 0, ub = horizon, name = \"dateDebut\")\n",
    "\n",
    "## Le nombre de jours de delai\n",
    "delay = model.addVars(delay_shape, lb = 0, ub = horizon, name = \"delay\")\n",
    "\n",
    "## Les longueurs des projets\n",
    "longueur = model.addVars(longueur_shape, lb = 0, ub = horizon, name = \"longueur\")\n",
    "\n",
    "## Nombre de projet par employé\n",
    "projet_par_employe = model.addVars(projet_par_employe_shape, lb = 0, ub = nombre_projets, name = \"projet_par_employe\")\n",
    "\n",
    "## L'affectation sur un projet d'un employé\n",
    "affectation = model.addVars(t_shape, vtype = GRB.BINARY, name = \"affectation\")\n",
    "\n",
    "## La réalisation ou non d'un projet\n",
    "u = model.addVars(u_shape, vtype = GRB.BINARY, name=\"u\")\n",
    "\n",
    "## Verification du projet\n",
    "job_in_process = model.addVars(job_in_process_shape, vtype = GRB.BINARY, name = \"job_in_process\")"
   ]
  },
  {
   "cell_type": "code",
   "execution_count": 156,
   "metadata": {},
   "outputs": [],
   "source": [
    "# Update le modele pour confirmer la création des variables\n",
    "model.update()\n"
   ]
  },
  {
   "cell_type": "markdown",
   "metadata": {},
   "source": [
    "## Add constraints"
   ]
  },
  {
   "cell_type": "code",
   "execution_count": 157,
   "metadata": {},
   "outputs": [],
   "source": [
    "for i in range(nombre_qualifs):\n",
    "    for j in range(nombre_projets):\n",
    "        for k in range(nombre_employes):\n",
    "            for n in range(horizon):\n",
    "                ## La qualification du personnel\n",
    "                model.addConstr( x[i,j,k,n] <= qualif[i][k], name=\"QualificationPersonnel[{0}{1}{2}{3}]\".format(i,j,k,n))\n",
    "                model.addConstr( x[i,j,k,n] <= (besoin[i][j] >=1), name = \"BesoinQualifPersonnel[{0}{1}{2}{3}]\".format(i,j,k,n))\n",
    "                ## Contraintes des congés\n",
    "                model.addConstr( x[i,j,k,n] <= conge[k][n], name=f\"CongesPersonnel[{i}{j}{k}{n}]\")\n",
    "        \n",
    "        ## Contrainte d'unicité de réalisation d'un projet\n",
    "        model.addConstr(grb.quicksum(grb.quicksum(x[i,j,k,n] for n in range(horizon)) for k in range(nombre_employes)) == besoin[i][j]*u[j], name=f\"UniciteRealisation[{i}{j}]\")\n",
    "\n",
    "        ## Couverture des qualifications\n",
    "        # model.addConstr( grb.quicksum(grb.quicksum(x[i,j,k,n] for n in range(horizon)) for k in range(nombre_employes)) - besoin[i][j] >= maj*(1-u[j]), name=f\"CouvertureQualificationsInf[{i}{j}]\") \n",
    "\n",
    "\n",
    "## Unicité de l'affectation quotidienne\n",
    "for k in range(nombre_employes):\n",
    "    for n in range(horizon):\n",
    "        model.addConstr(grb.quicksum(grb.quicksum(x[i,j,k,n] for j in range(nombre_projets)) for i in range(nombre_qualifs)) <= 1, name=f\"UniciteAffectation[{k}{n}]\")\n",
    "\n",
    "        \n",
    "for j in range(nombre_projets):\n",
    "    for n in range(horizon):\n",
    "        model.addConstrs(((job_in_process[j,n] >= x[i,j,k,n]) for i in range(nombre_qualifs) for k in range(nombre_employes)), name=f\"ContrainteJobInProcess[{j}{n}]\")\n",
    "    # start date\n",
    "    model.addConstrs(((dateDebut[j] <= job_in_process[j,n]*n) for n in range(horizon)), name = f\"ContrainteDateDebut[{j}]\")\n",
    "\n",
    "    # end date\n",
    "    model.addConstrs(((job_in_process[j,n]*n <= dateFin[j]) for n in range(horizon)), name=f\"FinProjet[{j}]\")\n",
    "\n",
    "    ## longueur\n",
    "    model.addConstr(longueur[j] == dateFin[j] - dateDebut[j], name=f\"LongueurProjet[{j}]\")\n",
    "\n",
    "    ## delay\n",
    "    model.addConstr(delay[j] >= dateFin[j] - (d[j] - 1), name=f\"DelaiProjet_difference[{j}]\")    \n",
    "\n",
    "## projet_par_employe\n",
    "for k in range(nombre_employes):\n",
    "    model.addConstr(projet_par_employe[k] == grb.quicksum( affectation[k,j] for j in range(nombre_projets)), name=f\"FinProjet[{j}]\")\n",
    "    \n",
    "    \n",
    "## Contrainte de l'affectation à un projet selon les jours de travail\n",
    "for k in range(nombre_employes):\n",
    "    for j in range(nombre_projets):\n",
    "        model.addConstr(affectation[k,j] <= grb.quicksum(grb.quicksum(x[i,j,k,n] for i in range(nombre_qualifs)) for n in range(horizon)), name=f\"AffectationProjetQuicksum[{k}{j}]\")    "
   ]
  },
  {
   "cell_type": "markdown",
   "metadata": {},
   "source": [
    "## Fonctions objectif"
   ]
  },
  {
   "cell_type": "code",
   "execution_count": 158,
   "metadata": {},
   "outputs": [],
   "source": [
    "## bénéfice total\n",
    "benefice_tot = grb.quicksum( (b[j]*u[j] - delay[j]*p[j]) for j in range(nombre_projets) )\n",
    "\n",
    "## Lignes pour optimiser le modèles\n",
    "## sur le bénéfice total seulement\n",
    "\n",
    "model.ModelSense = GRB.MAXIMIZE\n",
    "model.setObjective(benefice_tot)\n",
    "model.ModelSense = GRB.MAXIMIZE"
   ]
  },
  {
   "cell_type": "code",
   "execution_count": 159,
   "metadata": {},
   "outputs": [],
   "source": [
    "## Lignes pour optimiser le problème suivant\n",
    "## les trois fonctions objectif voulues\n",
    "\n",
    "# Nombre de projet maximum par personne\n",
    "# projet_max = model.addVar(lb= 0, ub=nombre_projets, name=\"projet_max\")\n",
    "# model.addConstrs(projet_max>=projet_par_employe[k] for k in range(nombre_employes))\n",
    "\n",
    "# Compacité des projets\n",
    "# longueur_max = model.addVar(lb = 0, ub=horizon, name=\"longueur_max\")\n",
    "# model.addConstrs(longueur_max>=longueur[j] for j in range(nombre_projets))"
   ]
  },
  {
   "cell_type": "code",
   "execution_count": 160,
   "metadata": {},
   "outputs": [],
   "source": [
    "# model.update()"
   ]
  },
  {
   "cell_type": "code",
   "execution_count": 161,
   "metadata": {},
   "outputs": [],
   "source": [
    "# res = pd.DataFrame(columns = [\"Benefice\", \"longueur max\", \"projets max\"])\n",
    "\n",
    "# for l in range(horizon-1, 0 , -1):\n",
    "#     for p in range(nombre_projets-1, 0, -1):\n",
    "#         # contrainte sur la longueur des projets\n",
    "#         model.addConstr(longueur_max<=l)\n",
    "#         # contrainte sur le nombre de projets\n",
    "#         model.addConstr(projet_max<=p)\n",
    "\n",
    "#         model.ModelSense = GRB.MAXIMIZE\n",
    "#         model.setObjective(benefice_tot)\n",
    "#         model.ModelSense = GRB.MAXIMIZE\n",
    "#         model.optimize()\n",
    "\n",
    "#         res.loc[len(res)] = [model.objVal, l, p]\n",
    "        \n",
    "        # model.resetParams()\n"
   ]
  },
  {
   "cell_type": "code",
   "execution_count": 162,
   "metadata": {},
   "outputs": [],
   "source": [
    "# res.head()"
   ]
  },
  {
   "cell_type": "markdown",
   "metadata": {},
   "source": [
    "# Model optimisation"
   ]
  },
  {
   "cell_type": "code",
   "execution_count": 163,
   "metadata": {},
   "outputs": [],
   "source": [
    "# fig, ax = plt.subplots(subplot_kw={\"projection\": \"3d\"})\n",
    "\n",
    "# X, Y = np.meshgrid(res[\"projets max\"], res[\"longueur max\"])\n",
    "# Z = res[\"Benefice\"]\n",
    "\n",
    "# X = np.array(res[\"projets max\"])\n",
    "# Y = np.array(res[\"longueur max\"])\n",
    "# Z = np.array(res[\"Benefice\"])\n",
    "\n",
    "# # Plot the surface.\n",
    "# surf = ax.plot_trisurf(X, Y, Z, cmap = 'viridis'\n",
    "#                        #linewidth=0, antialiased=False\n",
    "#                        )\n",
    "\n",
    "# # Add a color bar which maps values to colors.\n",
    "# fig.colorbar(surf, shrink=0.5, aspect=5)\n",
    "\n",
    "# plt.show()"
   ]
  },
  {
   "cell_type": "code",
   "execution_count": 164,
   "metadata": {},
   "outputs": [
    {
     "name": "stdout",
     "output_type": "stream",
     "text": [
      "Gurobi Optimizer version 10.0.0 build v10.0.0rc2 (win64)\n",
      "\n",
      "CPU model: Intel(R) Core(TM) i7-1065G7 CPU @ 1.30GHz, instruction set [SSE2|AVX|AVX2|AVX512]\n",
      "Thread count: 4 physical cores, 8 logical processors, using up to 8 threads\n",
      "\n",
      "Optimize a model with 218472 rows, 55181 columns and 436041 nonzeros\n",
      "Model fingerprint: 0xeb24e986\n",
      "Variable types: 106 continuous, 55075 integer (55075 binary)\n",
      "Coefficient statistics:\n",
      "  Matrix range     [1e+00, 4e+01]\n",
      "  Objective range  [3e+00, 8e+01]\n",
      "  Bounds range     [1e+00, 4e+01]\n",
      "  RHS range        [1e+00, 4e+01]\n",
      "Found heuristic solution: objective -0.0000000\n",
      "Presolve removed 216890 rows and 50863 columns\n",
      "Presolve time: 0.31s\n",
      "Presolved: 1582 rows, 4318 columns, 11015 nonzeros\n",
      "Variable types: 0 continuous, 4318 integer (4294 binary)\n",
      "\n",
      "Root relaxation: objective 8.368416e+02, 3417 iterations, 0.15 seconds (0.07 work units)\n",
      "\n",
      "    Nodes    |    Current Node    |     Objective Bounds      |     Work\n",
      " Expl Unexpl |  Obj  Depth IntInf | Incumbent    BestBd   Gap | It/Node Time\n",
      "\n",
      "     0     0  836.84163    0  282   -0.00000  836.84163      -     -    0s\n",
      "H    0     0                     260.0000000  836.84163   222%     -    0s\n",
      "H    0     0                     645.0000000  833.28743  29.2%     -    0s\n",
      "     0     0  833.28743    0  371  645.00000  833.28743  29.2%     -    0s\n",
      "H    0     0                     648.0000000  833.28743  28.6%     -    0s\n",
      "H    0     0                     788.0000000  833.28743  5.75%     -    1s\n",
      "     0     0  832.83322    0  381  788.00000  832.83322  5.69%     -    1s\n",
      "     0     0  832.83315    0  381  788.00000  832.83315  5.69%     -    1s\n",
      "     0     0  830.40629    0  272  788.00000  830.40629  5.38%     -    1s\n",
      "H    0     0                     794.0000000  829.97657  4.53%     -    1s\n",
      "     0     0  829.97657    0  313  794.00000  829.97657  4.53%     -    1s\n",
      "     0     0  829.92398    0  319  794.00000  829.92398  4.52%     -    1s\n",
      "     0     0  829.92398    0  318  794.00000  829.92398  4.52%     -    1s\n",
      "     0     0  829.17002    0  305  794.00000  829.17002  4.43%     -    2s\n",
      "     0     0  829.15155    0  310  794.00000  829.15155  4.43%     -    2s\n",
      "     0     0  829.14989    0  316  794.00000  829.14989  4.43%     -    2s\n",
      "     0     0  829.03500    0  333  794.00000  829.03500  4.41%     -    2s\n",
      "     0     0  829.00060    0  309  794.00000  829.00060  4.41%     -    2s\n",
      "     0     0  829.00056    0  332  794.00000  829.00056  4.41%     -    2s\n",
      "     0     0  828.73357    0  300  794.00000  828.73357  4.37%     -    2s\n",
      "     0     0  828.66205    0  235  794.00000  828.66205  4.37%     -    2s\n",
      "     0     0  828.65881    0  285  794.00000  828.65881  4.37%     -    2s\n",
      "     0     0  828.65457    0  284  794.00000  828.65457  4.36%     -    2s\n",
      "     0     0  828.65158    0  290  794.00000  828.65158  4.36%     -    2s\n",
      "     0     0  828.65154    0  293  794.00000  828.65154  4.36%     -    2s\n",
      "     0     0  828.61507    0  261  794.00000  828.61507  4.36%     -    2s\n",
      "     0     0  828.61506    0  270  794.00000  828.61506  4.36%     -    2s\n",
      "     0     0  828.47775    0  283  794.00000  828.47775  4.34%     -    2s\n",
      "     0     0  828.47775    0  285  794.00000  828.47775  4.34%     -    2s\n",
      "     0     0  828.46134    0  259  794.00000  828.46134  4.34%     -    2s\n",
      "     0     0  828.45802    0  292  794.00000  828.45802  4.34%     -    2s\n",
      "     0     0  828.44766    0  267  794.00000  828.44766  4.34%     -    2s\n",
      "     0     0  828.44766    0  225  794.00000  828.44766  4.34%     -    2s\n",
      "     0     2  828.44766    0  213  794.00000  828.44766  4.34%     -    2s\n",
      "H   50    38                     808.0000000  825.17751  2.13%   339    4s\n",
      "   184   100  813.37241   14  137  808.00000  824.63606  2.06%   219    5s\n",
      "H  621   229                     817.0000000  820.63597  0.45%   157    8s\n",
      "\n",
      "Cutting planes:\n",
      "  Gomory: 3\n",
      "  Cover: 47\n",
      "  Implied bound: 83\n",
      "  Clique: 20\n",
      "  MIR: 20\n",
      "  StrongCG: 1\n",
      "  Zero half: 28\n",
      "  RLT: 140\n",
      "  Relax-and-lift: 153\n",
      "\n",
      "Explored 924 nodes (123326 simplex iterations) in 8.49 seconds (9.25 work units)\n",
      "Thread count was 8 (of 8 available processors)\n",
      "\n",
      "Solution count 8: 817 808 794 ... -0\n",
      "\n",
      "Optimal solution found (tolerance 1.00e-04)\n",
      "Best objective 8.170000000000e+02, best bound 8.170000000000e+02, gap 0.0000%\n"
     ]
    }
   ],
   "source": [
    "# Verify model formulation\n",
    "\n",
    "#nom = \"results/\"+taille+\".lp\"\n",
    "#model.write(nom)\n",
    "\n",
    "# Run optimization engine\n",
    "\n",
    "model.optimize()"
   ]
  },
  {
   "cell_type": "code",
   "execution_count": 165,
   "metadata": {},
   "outputs": [],
   "source": [
    "## Print the values of all variables\n",
    "# for v in model.getVars():\n",
    "#     print(f\"{v.VarName} = {v.X}\")\n",
    "\n",
    "# Pour voir quels sont les projets faits\n",
    "# for j in range(nombre_projets):\n",
    "#     v = model.getVarByName(f\"u[{j}]\")\n",
    "#     if int(v.x) == 1:\n",
    "#         print(f\"la tâche {j} est faite\")\n",
    "#     else:\n",
    "#         print(f\"la tâche {j} n'est pas faite\")"
   ]
  },
  {
   "cell_type": "code",
   "execution_count": 166,
   "metadata": {},
   "outputs": [],
   "source": [
    "# Edt des employés et le détail de la réalisation de chaque tâche (de façon ordonnée)\n",
    "\n",
    "schedules = []\n",
    "tasks_performances = []\n",
    "for i in range(nombre_qualifs):\n",
    "    for j in range(nombre_projets):\n",
    "        for k in range(nombre_employes):\n",
    "            for n in range(horizon):\n",
    "                v = model.getVarByName(f\"x[{i},{j},{k},{n}]\")\n",
    "                if int(v.x) == 1:\n",
    "                    schedules.append((map_employe_indice[k], n+1, map_job_indice[j], map_qualif_indice[i]))\n",
    "                    tasks_performances.append((map_job_indice[j], map_qualif_indice[i], map_employe_indice[k], n+1))\n",
    "\n",
    "schedules.sort()\n",
    "\n",
    "tasks_performances.sort()\n",
    "\n",
    "# Dates de début et de fin des tâches réalisees \n",
    "# (à n'étudier que lorsque longueur_max est mis en objectif, sinon les \n",
    "# variables dateDebut et dateFin ne sont pas assez contraintes pour prendre exactement le sens souhaité)\n",
    "# for j in range(nombre_projets):\n",
    "#     v = model.getVarByName(f\"u[{j}]\")\n",
    "#     v1 = model.getVarByName(f\"dateDebut[{j}]\")\n",
    "#     v2 = model.getVarByName(f\"dateFin[{j}]\")\n",
    "#     if int(v.x) == 1:\n",
    "#         print(f\"la tâche {j} commence à la date {int(1+v1.x)} et finit à la date {int(1+v2.x)}\")"
   ]
  },
  {
   "cell_type": "code",
   "execution_count": 167,
   "metadata": {},
   "outputs": [],
   "source": [
    "from utils.show_planning import show_planning\n",
    "\n",
    "df = pd.DataFrame(schedules, columns=['Nom', 'Jour', 'Projet', 'Qualification'])\n",
    "show_planning(df)\n",
    "\n",
    "## Avec seulement le bénéfice à optimiser\n",
    "## Commenter lors de la recherche de solutions non dominées\n",
    "df.to_json(r'results/large_benefice.json')"
   ]
  },
  {
   "cell_type": "code",
   "execution_count": 168,
   "metadata": {},
   "outputs": [
    {
     "data": {
      "text/plain": [
       "817.0"
      ]
     },
     "execution_count": 168,
     "metadata": {},
     "output_type": "execute_result"
    }
   ],
   "source": [
    "model.objVal"
   ]
  }
 ],
 "metadata": {
  "kernelspec": {
   "display_name": "base",
   "language": "python",
   "name": "python3"
  },
  "language_info": {
   "codemirror_mode": {
    "name": "ipython",
    "version": 3
   },
   "file_extension": ".py",
   "mimetype": "text/x-python",
   "name": "python",
   "nbconvert_exporter": "python",
   "pygments_lexer": "ipython3",
   "version": "3.8.5"
  },
  "vscode": {
   "interpreter": {
    "hash": "d353b0c5e377b70cf8d68715abfc75cf273a5427d1952db2f540f22618aa254a"
   }
  }
 },
 "nbformat": 4,
 "nbformat_minor": 2
}
