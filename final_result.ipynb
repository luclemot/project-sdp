{
 "cells": [
  {
   "cell_type": "code",
   "execution_count": 12,
   "metadata": {},
   "outputs": [],
   "source": [
    "import numpy as np\n",
    "import pandas as pd\n",
    "from itertools import product\n",
    "import matplotlib.pyplot as plt\n",
    "from matplotlib import cm\n",
    "from matplotlib.ticker import LinearLocator\n",
    "\n",
    "import gurobipy as grb\n",
    "from gurobipy import GRB"
   ]
  },
  {
   "cell_type": "markdown",
   "metadata": {},
   "source": [
    "# Input Problem Parameters"
   ]
  },
  {
   "cell_type": "markdown",
   "metadata": {},
   "source": [
    "## Import du problème"
   ]
  },
  {
   "cell_type": "code",
   "execution_count": 13,
   "metadata": {},
   "outputs": [],
   "source": [
    "from utils.extract_parameters import extract_parameters\n",
    "from utils.define_nums import define_nums\n",
    "from utils.domination_3D import liste_dominants, graph_dominant"
   ]
  },
  {
   "cell_type": "code",
   "execution_count": 14,
   "metadata": {},
   "outputs": [],
   "source": [
    "################################\n",
    "######## TO DO #################\n",
    "################################\n",
    "\n",
    "# choose taille among: \"small\", \"medium\", \"large\"\n",
    "taille = \"large\"\n",
    "\n",
    "## To change according to preference system\n",
    "input_projet_max = 1\n",
    "input_longueur_max = 35"
   ]
  },
  {
   "cell_type": "code",
   "execution_count": 15,
   "metadata": {},
   "outputs": [],
   "source": [
    "################################\n",
    "######## DO NOT CHANGE #########\n",
    "################################\n",
    "map_employe_indice, map_job_indice, map_qualif_indice, conge, qualif, d, p, b, besoin = extract_parameters(taille)\n",
    "nombre_employes, horizon, nombre_qualifs, nombre_projets = define_nums(conge, qualif, d, p, b, besoin)"
   ]
  },
  {
   "cell_type": "markdown",
   "metadata": {},
   "source": [
    "## Définissons les paramètres"
   ]
  },
  {
   "cell_type": "code",
   "execution_count": 16,
   "metadata": {},
   "outputs": [],
   "source": [
    "## u_j, le projet j est réalisé\n",
    "u_shape = nombre_projets\n",
    "\n",
    "## x_i_j_k_n, l'employé k travaille sur le projet j avec la qualif i\n",
    "## au jour n\n",
    "x_shape = [(i,j,k, n) for i in range(nombre_qualifs) for j in range(nombre_projets) for k in range(nombre_employes) for n in range(horizon)]\n",
    "\n",
    "## t_k_j, l'employé k travaille sur le projet j\n",
    "t_shape = [(i,j) for i in range(nombre_employes) for j in range(nombre_projets)]\n",
    "\n",
    "## begin_j, la date de début effective\n",
    "begin_shape = nombre_projets\n",
    "\n",
    "## end_j, la date de fin effective = date de livraison du projet j\n",
    "end_shape = nombre_projets\n",
    "\n",
    "## delay_j, le nombre de jours de retard par projet j\n",
    "delay_shape = nombre_projets\n",
    "\n",
    "## longueur_j, la longueur du projet j\n",
    "longueur_shape = nombre_projets\n",
    "\n",
    "## projet_par_employe_k, le nombre de projet par employe\n",
    "projet_par_employe_shape = nombre_employes\n",
    "\n",
    "# majorant pour la contrainte de couverture\n",
    "maj = max([besoin[i][j] for j in range(nombre_projets) for i in range(nombre_qualifs)]) + 1\n",
    "\n",
    "# si le projet j est travaillé au jour n\n",
    "job_in_process_shape = [(j, n) for j in range(nombre_projets) for n in range(horizon)]"
   ]
  },
  {
   "cell_type": "markdown",
   "metadata": {},
   "source": [
    "# Model deployment"
   ]
  },
  {
   "cell_type": "markdown",
   "metadata": {},
   "source": [
    "## Add the variables"
   ]
  },
  {
   "cell_type": "code",
   "execution_count": 17,
   "metadata": {},
   "outputs": [],
   "source": [
    "model = grb.Model(\"Planning\")\n",
    "\n",
    "# L'affectation du planning, la variable clé\n",
    "x = model.addVars(x_shape, vtype=GRB.BINARY, name=\"x\")\n",
    "\n",
    "## Les dates de fin des projets\n",
    "dateFin = model.addVars(end_shape, lb = 0, ub = horizon, name = \"dateFin\")\n",
    "\n",
    "## Les dates de début des projets\n",
    "dateDebut = model.addVars(begin_shape, lb = 0, ub = horizon, name = \"dateDebut\")\n",
    "\n",
    "## Le nombre de jours de delai\n",
    "delay = model.addVars(delay_shape, lb = 0, ub = horizon, name = \"delay\")\n",
    "\n",
    "## Les longueurs des projets\n",
    "longueur = model.addVars(longueur_shape, lb = 0, ub = horizon, name = \"longueur\")\n",
    "\n",
    "## Nombre de projet par employé\n",
    "projet_par_employe = model.addVars(projet_par_employe_shape, lb = 0, ub = nombre_projets, name = \"projet_par_employe\")\n",
    "\n",
    "## L'affectation sur un projet d'un employé\n",
    "affectation = model.addVars(t_shape, vtype = GRB.BINARY, name = \"affectation\")\n",
    "\n",
    "## La réalisation ou non d'un projet\n",
    "u = model.addVars(u_shape, vtype = GRB.BINARY, name=\"u\")\n",
    "\n",
    "## Verification du projet\n",
    "job_in_process = model.addVars(job_in_process_shape, vtype = GRB.BINARY, name = \"job_in_process\")"
   ]
  },
  {
   "cell_type": "code",
   "execution_count": 18,
   "metadata": {},
   "outputs": [],
   "source": [
    "# Update le modele pour confirmer la création des variables\n",
    "model.update()"
   ]
  },
  {
   "cell_type": "markdown",
   "metadata": {},
   "source": [
    "## Add constraints"
   ]
  },
  {
   "cell_type": "code",
   "execution_count": 19,
   "metadata": {},
   "outputs": [],
   "source": [
    "for i in range(nombre_qualifs):\n",
    "    for j in range(nombre_projets):\n",
    "        for k in range(nombre_employes):\n",
    "            for n in range(horizon):\n",
    "                ## La qualification du personnel\n",
    "                model.addConstr( x[i,j,k,n] <= qualif[i][k], name=\"QualificationPersonnel[{0}{1}{2}{3}]\".format(i,j,k,n))\n",
    "                model.addConstr( x[i,j,k,n] <= (besoin[i][j] >=1), name = \"BesoinQualifPersonnel[{0}{1}{2}{3}]\".format(i,j,k,n))\n",
    "                ## Contraintes des congés\n",
    "                model.addConstr( x[i,j,k,n] <= conge[k][n], name=f\"CongesPersonnel[{i}{j}{k}{n}]\")\n",
    "        \n",
    "        ## Contrainte d'unicité de réalisation d'un projet\n",
    "        model.addConstr(grb.quicksum(grb.quicksum(x[i,j,k,n] for n in range(horizon)) for k in range(nombre_employes)) == besoin[i][j]*u[j], name=f\"UniciteRealisation[{i}{j}]\")\n",
    "\n",
    "## Unicité de l'affectation quotidienne\n",
    "for k in range(nombre_employes):\n",
    "    for n in range(horizon):\n",
    "        model.addConstr(grb.quicksum(grb.quicksum(x[i,j,k,n] for j in range(nombre_projets)) for i in range(nombre_qualifs)) <= 1, name=f\"UniciteAffectation[{k}{n}]\")\n",
    "       \n",
    "for j in range(nombre_projets):\n",
    "    for n in range(horizon):\n",
    "        model.addConstrs(((job_in_process[j,n] >= x[i,j,k,n]) for i in range(nombre_qualifs) for k in range(nombre_employes)), name=f\"ContrainteJobInProcess[{j}{n}]\")\n",
    "    # start date\n",
    "    model.addConstrs(((dateDebut[j] <= job_in_process[j,n]*n) for n in range(horizon)), name = f\"ContrainteDateDebut[{j}]\")\n",
    "\n",
    "    # end date\n",
    "    model.addConstrs(((job_in_process[j,n]*n <= dateFin[j]) for n in range(horizon)), name=f\"FinProjet[{j}]\")\n",
    "\n",
    "    ## longueur\n",
    "    model.addConstr(longueur[j] == dateFin[j] - dateDebut[j], name=f\"LongueurProjet[{j}]\")\n",
    "\n",
    "    ## delay\n",
    "    model.addConstr(delay[j] >= dateFin[j] - (d[j] - 1), name=f\"DelaiProjet_difference[{j}]\")    \n",
    "\n",
    "## projet_par_employe\n",
    "for k in range(nombre_employes):\n",
    "    model.addConstr(projet_par_employe[k] == grb.quicksum( affectation[k,j] for j in range(nombre_projets)), name=f\"FinProjet[{j}]\")\n",
    "    \n",
    "## Contrainte de l'affectation à un projet selon les jours de travail\n",
    "for k in range(nombre_employes):\n",
    "    for j in range(nombre_projets):\n",
    "        model.addConstr(affectation[k,j] <= grb.quicksum(grb.quicksum(x[i,j,k,n] for i in range(nombre_qualifs)) for n in range(horizon)), name=f\"AffectationProjetQuicksum[{k}{j}]\")    "
   ]
  },
  {
   "cell_type": "markdown",
   "metadata": {},
   "source": [
    "## Fonctions d'export"
   ]
  },
  {
   "cell_type": "code",
   "execution_count": 20,
   "metadata": {},
   "outputs": [],
   "source": [
    "# Edt des employés et le détail de la réalisation de chaque tâche (de façon ordonnée)\n",
    "def create_schedule(model):\n",
    "    schedules = []\n",
    "    for i in range(nombre_qualifs):\n",
    "        for j in range(nombre_projets):\n",
    "            for k in range(nombre_employes):\n",
    "                for n in range(horizon):\n",
    "                    v = model.getVarByName(f\"x[{i},{j},{k},{n}]\")\n",
    "                    if int(v.x) == 1:\n",
    "                        schedules.append((map_employe_indice[k], n+1, map_job_indice[j], map_qualif_indice[i]))\n",
    "    schedules.sort()\n",
    "    return(schedules)"
   ]
  },
  {
   "cell_type": "code",
   "execution_count": 21,
   "metadata": {},
   "outputs": [],
   "source": [
    "## Input i: input_longueur_max\n",
    "def create_df(model,i):\n",
    "    schedules = create_schedule(model)\n",
    "    df = pd.DataFrame(schedules, columns=['Nom', 'Jour', 'Projet', 'Qualification'])\n",
    "    df['Affectation'] = df[['Projet', 'Qualification']].values.tolist()\n",
    "\n",
    "    df = df.pivot(index=['Nom'], \n",
    "                        columns=['Jour'],\n",
    "                        values=['Affectation'])\n",
    "\n",
    "    for k in range(nombre_employes):\n",
    "        for n in range(horizon):\n",
    "            name = map_employe_indice[k]\n",
    "            if not conge[k][n]:\n",
    "                try:\n",
    "                    df.loc[(df.index==name),(\"Affectation\",n+1)] = 'En congé'\n",
    "                except:\n",
    "                    continue\n",
    "\n",
    "    df.fillna(\"Non affecté.e\", inplace=True)\n",
    "    df.to_excel(\"results/final/\"+taille+\"/\"+str(i)+\".xlsx\")"
   ]
  },
  {
   "cell_type": "markdown",
   "metadata": {},
   "source": [
    "## Fonctions objectif et optimisation"
   ]
  },
  {
   "cell_type": "code",
   "execution_count": 22,
   "metadata": {},
   "outputs": [
    {
     "name": "stdout",
     "output_type": "stream",
     "text": [
      "Gurobi Optimizer version 10.0.0 build v10.0.0rc2 (win64)\n",
      "\n",
      "CPU model: Intel(R) Core(TM) i7-1065G7 CPU @ 1.30GHz, instruction set [SSE2|AVX|AVX2|AVX512]\n",
      "Thread count: 4 physical cores, 8 logical processors, using up to 8 threads\n",
      "\n",
      "Optimize a model with 67052 rows, 16987 columns and 133596 nonzeros\n",
      "Model fingerprint: 0xa4573b2c\n",
      "Variable types: 67 continuous, 16920 integer (16920 binary)\n",
      "Coefficient statistics:\n",
      "  Matrix range     [1e+00, 2e+01]\n",
      "  Objective range  [3e+00, 7e+01]\n",
      "  Bounds range     [1e+00, 2e+01]\n",
      "  RHS range        [1e+00, 2e+01]\n",
      "Found heuristic solution: objective -0.0000000\n",
      "Presolve removed 66576 rows and 15576 columns\n",
      "Presolve time: 0.06s\n",
      "Presolved: 476 rows, 1411 columns, 3458 nonzeros\n",
      "Variable types: 0 continuous, 1411 integer (1397 binary)\n",
      "\n",
      "Root relaxation: objective 4.285904e+02, 1138 iterations, 0.02 seconds (0.01 work units)\n",
      "\n",
      "    Nodes    |    Current Node    |     Objective Bounds      |     Work\n",
      " Expl Unexpl |  Obj  Depth IntInf | Incumbent    BestBd   Gap | It/Node Time\n",
      "\n",
      "     0     0  428.59042    0  151   -0.00000  428.59042      -     -    0s\n",
      "H    0     0                     377.0000000  428.59042  13.7%     -    0s\n",
      "H    0     0                     386.0000000  428.59042  11.0%     -    0s\n",
      "H    0     0                     409.0000000  424.66057  3.83%     -    0s\n",
      "     0     0  424.66057    0  158  409.00000  424.66057  3.83%     -    0s\n",
      "     0     0  424.61026    0  159  409.00000  424.61026  3.82%     -    0s\n",
      "     0     0  424.60945    0  157  409.00000  424.60945  3.82%     -    0s\n",
      "     0     0  423.87307    0  163  409.00000  423.87307  3.64%     -    0s\n",
      "     0     0  423.84087    0  134  409.00000  423.84087  3.63%     -    0s\n",
      "     0     0  423.83053    0  157  409.00000  423.83053  3.63%     -    0s\n",
      "     0     0  423.73802    0  161  409.00000  423.73802  3.60%     -    0s\n",
      "     0     0  423.17454    0  177  409.00000  423.17454  3.47%     -    0s\n",
      "     0     0  423.15778    0  200  409.00000  423.15778  3.46%     -    0s\n",
      "     0     0  423.15778    0  201  409.00000  423.15778  3.46%     -    0s\n",
      "     0     0  422.80884    0  185  409.00000  422.80884  3.38%     -    0s\n",
      "     0     0  422.72018    0  175  409.00000  422.72018  3.35%     -    0s\n",
      "     0     0  422.69735    0  175  409.00000  422.69735  3.35%     -    0s\n",
      "     0     0  422.59924    0  179  409.00000  422.59924  3.32%     -    0s\n",
      "     0     0  422.19037    0  189  409.00000  422.19037  3.23%     -    0s\n",
      "     0     0  422.18785    0  167  409.00000  422.18785  3.22%     -    0s\n",
      "     0     2  422.18785    0  158  409.00000  422.18785  3.22%     -    0s\n",
      "*  100    70              16     411.0000000  420.02595  2.20%  64.4    0s\n",
      "*  306   106              12     413.0000000  417.41941  1.07%  48.4    1s\n",
      "\n",
      "Cutting planes:\n",
      "  Gomory: 9\n",
      "  Cover: 19\n",
      "  Implied bound: 21\n",
      "  Clique: 20\n",
      "  MIR: 9\n",
      "  Zero half: 3\n",
      "  RLT: 46\n",
      "  Relax-and-lift: 32\n",
      "\n",
      "Explored 483 nodes (22780 simplex iterations) in 1.11 seconds (0.80 work units)\n",
      "Thread count was 8 (of 8 available processors)\n",
      "\n",
      "Solution count 6: 413 411 409 ... -0\n",
      "\n",
      "Optimal solution found (tolerance 1.00e-04)\n",
      "Best objective 4.130000000000e+02, best bound 4.130000000000e+02, gap 0.0000%\n",
      "413.0\n",
      "Discarded solution information\n"
     ]
    },
    {
     "name": "stderr",
     "output_type": "stream",
     "text": [
      "<ipython-input-21-42613d47759d>:21: UserWarning: Pandas requires version '1.4.3' or newer of 'xlsxwriter' (version '1.3.7' currently installed).\n",
      "  df.to_excel(\"results/final/\"+taille+\"/\"+str(i)+\".xlsx\")\n"
     ]
    }
   ],
   "source": [
    "## bénéfice total\n",
    "benefice_tot = grb.quicksum( (b[j]*u[j] - delay[j]*p[j]) for j in range(nombre_projets) )\n",
    "\n",
    "# Nombre de projet maximum par personne\n",
    "projet_max = model.addVar(lb= 0, ub=nombre_projets, name=\"projet_max\")\n",
    "model.addConstrs(projet_max>=projet_par_employe[k] for k in range(nombre_employes))\n",
    "model.addConstr(projet_max==input_projet_max)\n",
    "\n",
    "# Compacité des projets\n",
    "longueur_max = model.addVar(lb = 0, ub=horizon, name=\"longueur_max\")\n",
    "model.addConstrs(longueur_max>=longueur[j] for j in range(nombre_projets))\n",
    "model.addConstr(longueur_max==input_longueur_max)\n",
    "\n",
    "model.ModelSense = GRB.MAXIMIZE\n",
    "model.setObjective(benefice_tot)\n",
    "\n",
    "model.update()\n",
    "\n",
    "model.optimize()\n",
    "\n",
    "create_df(model, input_longueur_max)\n",
    "print(model.objVal)\n",
    "\n",
    "model.reset()"
   ]
  }
 ],
 "metadata": {
  "kernelspec": {
   "display_name": "base",
   "language": "python",
   "name": "python3"
  },
  "language_info": {
   "codemirror_mode": {
    "name": "ipython",
    "version": 3
   },
   "file_extension": ".py",
   "mimetype": "text/x-python",
   "name": "python",
   "nbconvert_exporter": "python",
   "pygments_lexer": "ipython3",
   "version": "3.8.5"
  },
  "vscode": {
   "interpreter": {
    "hash": "d353b0c5e377b70cf8d68715abfc75cf273a5427d1952db2f540f22618aa254a"
   }
  }
 },
 "nbformat": 4,
 "nbformat_minor": 2
}
