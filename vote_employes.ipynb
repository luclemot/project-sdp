{
 "cells": [
  {
   "cell_type": "code",
   "execution_count": 20,
   "metadata": {},
   "outputs": [],
   "source": [
    "import numpy as np\n",
    "import pandas as pd\n",
    "import matplotlib.pyplot as plt\n",
    "from matplotlib import cm\n",
    "from matplotlib.ticker import LinearLocator\n",
    "import random as rd\n",
    "                                                       "
   ]
  },
  {
   "cell_type": "markdown",
   "metadata": {},
   "source": [
    "## Liste des critères\n",
    "**projet_max** : je ne veux pas travailler sur trop de projets différents \\\n",
    "**Benefice** : je veux travailler le plus de jours possible. \\\n",
    "**longueur_max** : je ne veux pas travailler sur un projet trop court (on veut que le plus petit des projets ne soit pas trop petit).\n",
    "\n",
    "On va maintenant créer un ordonnancement de ces critères de préférence pour chaque employé."
   ]
  },
  {
   "cell_type": "code",
   "execution_count": 47,
   "metadata": {},
   "outputs": [],
   "source": [
    "def pref_aleatoire(liste_employes):\n",
    "    dict_emp = {}\n",
    "    for employe in liste_employes:\n",
    "        liste_criteres = ['Benefice','projet_max','longueur_max']\n",
    "        random.shuffle(liste_criteres)\n",
    "        dict_emp[employe]= liste_criteres\n",
    "    return dict_emp\n",
    "        \n",
    "    "
   ]
  },
  {
   "cell_type": "code",
   "execution_count": 48,
   "metadata": {},
   "outputs": [
    {
     "data": {
      "text/plain": [
       "{'bob': ['Benefice', 'projet_max', 'longueur_max'],\n",
       " 'alice': ['longueur_max', 'Benefice', 'projet_max'],\n",
       " 'kameto': ['Benefice', 'projet_max', 'longueur_max'],\n",
       " 'glutonny': ['projet_max', 'Benefice', 'longueur_max']}"
      ]
     },
     "execution_count": 48,
     "metadata": {},
     "output_type": "execute_result"
    }
   ],
   "source": [
    "liste = ['bob','alice','kameto','glutonny']\n",
    "dico = pref_aleatoire(liste)\n",
    "dico"
   ]
  },
  {
   "cell_type": "code",
   "execution_count": 49,
   "metadata": {},
   "outputs": [
    {
     "data": {
      "text/html": [
       "<div>\n",
       "<style scoped>\n",
       "    .dataframe tbody tr th:only-of-type {\n",
       "        vertical-align: middle;\n",
       "    }\n",
       "\n",
       "    .dataframe tbody tr th {\n",
       "        vertical-align: top;\n",
       "    }\n",
       "\n",
       "    .dataframe thead tr th {\n",
       "        text-align: left;\n",
       "    }\n",
       "\n",
       "    .dataframe thead tr:last-of-type th {\n",
       "        text-align: right;\n",
       "    }\n",
       "</style>\n",
       "<table border=\"1\" class=\"dataframe\">\n",
       "  <thead>\n",
       "    <tr>\n",
       "      <th></th>\n",
       "      <th colspan=\"5\" halign=\"left\">Affectation</th>\n",
       "    </tr>\n",
       "    <tr>\n",
       "      <th>Jour</th>\n",
       "      <th>1</th>\n",
       "      <th>2</th>\n",
       "      <th>3</th>\n",
       "      <th>4</th>\n",
       "      <th>5</th>\n",
       "    </tr>\n",
       "    <tr>\n",
       "      <th>Nom</th>\n",
       "      <th></th>\n",
       "      <th></th>\n",
       "      <th></th>\n",
       "      <th></th>\n",
       "      <th></th>\n",
       "    </tr>\n",
       "  </thead>\n",
       "  <tbody>\n",
       "    <tr>\n",
       "      <th>Emma</th>\n",
       "      <td>['Job4', 'C']</td>\n",
       "      <td>En congé</td>\n",
       "      <td>['Job1', 'C']</td>\n",
       "      <td>['Job3', 'C']</td>\n",
       "      <td>['Job5', 'C']</td>\n",
       "    </tr>\n",
       "    <tr>\n",
       "      <th>Liam</th>\n",
       "      <td>En congé</td>\n",
       "      <td>['Job4', 'B']</td>\n",
       "      <td>['Job1', 'A']</td>\n",
       "      <td>['Job3', 'A']</td>\n",
       "      <td>Non affecté.e</td>\n",
       "    </tr>\n",
       "    <tr>\n",
       "      <th>Olivia</th>\n",
       "      <td>['Job4', 'B']</td>\n",
       "      <td>['Job1', 'B']</td>\n",
       "      <td>Non affecté.e</td>\n",
       "      <td>['Job3', 'C']</td>\n",
       "      <td>['Job5', 'C']</td>\n",
       "    </tr>\n",
       "  </tbody>\n",
       "</table>\n",
       "</div>"
      ],
      "text/plain": [
       "          Affectation                                               \\\n",
       "Jour                1              2              3              4   \n",
       "Nom                                                                  \n",
       "Emma    ['Job4', 'C']       En congé  ['Job1', 'C']  ['Job3', 'C']   \n",
       "Liam         En congé  ['Job4', 'B']  ['Job1', 'A']  ['Job3', 'A']   \n",
       "Olivia  ['Job4', 'B']  ['Job1', 'B']  Non affecté.e  ['Job3', 'C']   \n",
       "\n",
       "                       \n",
       "Jour                5  \n",
       "Nom                    \n",
       "Emma    ['Job5', 'C']  \n",
       "Liam    Non affecté.e  \n",
       "Olivia  ['Job5', 'C']  "
      ]
     },
     "execution_count": 49,
     "metadata": {},
     "output_type": "execute_result"
    }
   ],
   "source": [
    "path = \"/Users/macoco/Desktop/CS/3A/SDP/projet_sdp/project-sdp/results/final\"\n",
    "\n",
    "df = pd.read_excel(path+'/small.xlsx',header=[0,1],index_col=[0])\n",
    "#df = df.iloc[2:]\n",
    "df"
   ]
  },
  {
   "cell_type": "code",
   "execution_count": 50,
   "metadata": {},
   "outputs": [
    {
     "data": {
      "text/plain": [
       "['Emma', 'Liam', 'Olivia']"
      ]
     },
     "execution_count": 50,
     "metadata": {},
     "output_type": "execute_result"
    }
   ],
   "source": [
    "liste_employes = list(df.index)\n",
    "liste_employes"
   ]
  },
  {
   "cell_type": "code",
   "execution_count": 51,
   "metadata": {},
   "outputs": [
    {
     "data": {
      "text/plain": [
       "{'Emma': ['longueur_max', 'Benefice', 'projet_max'],\n",
       " 'Liam': ['projet_max', 'Benefice', 'longueur_max'],\n",
       " 'Olivia': ['projet_max', 'longueur_max', 'Benefice']}"
      ]
     },
     "execution_count": 51,
     "metadata": {},
     "output_type": "execute_result"
    }
   ],
   "source": [
    "dico_preference = pref_aleatoire(liste_employes)\n",
    "dico_preference"
   ]
  },
  {
   "cell_type": "code",
   "execution_count": 45,
   "metadata": {},
   "outputs": [
    {
     "data": {
      "text/plain": [
       "Nom\n",
       "Emma    ['Job4', 'C']\n",
       "Name: (Affectation, 1), dtype: object"
      ]
     },
     "execution_count": 45,
     "metadata": {},
     "output_type": "execute_result"
    }
   ],
   "source": [
    "#df.loc[df.index=='Emma'][('Affectation',1)]"
   ]
  },
  {
   "cell_type": "code",
   "execution_count": null,
   "metadata": {},
   "outputs": [],
   "source": [
    "def get_critere(df):\n",
    "     "
   ]
  }
 ],
 "metadata": {
  "kernelspec": {
   "display_name": "Python 3",
   "language": "python",
   "name": "python3"
  },
  "language_info": {
   "codemirror_mode": {
    "name": "ipython",
    "version": 3
   },
   "file_extension": ".py",
   "mimetype": "text/x-python",
   "name": "python",
   "nbconvert_exporter": "python",
   "pygments_lexer": "ipython3",
   "version": "3.8.5"
  }
 },
 "nbformat": 4,
 "nbformat_minor": 4
}
