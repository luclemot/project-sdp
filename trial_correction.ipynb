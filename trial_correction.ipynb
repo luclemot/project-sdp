{
 "cells": [
  {
   "cell_type": "code",
   "execution_count": 327,
   "metadata": {},
   "outputs": [],
   "source": [
    "import numpy as np\n",
    "import pandas as pd\n",
    "from itertools import product\n",
    "\n",
    "import gurobipy as grb\n",
    "from gurobipy import GRB"
   ]
  },
  {
   "cell_type": "markdown",
   "metadata": {},
   "source": [
    "# Input Problem Parameters"
   ]
  },
  {
   "cell_type": "markdown",
   "metadata": {},
   "source": [
    "## Définissons les variables"
   ]
  },
  {
   "cell_type": "code",
   "execution_count": 328,
   "metadata": {},
   "outputs": [],
   "source": [
    "from extract_parameters import extract_parameters\n",
    "\n",
    "################################\n",
    "######## TO DO #################\n",
    "################################\n",
    "\n",
    "# choose taille among: \"small\", \"medium\", \"large\"\n",
    "taille = \"small\""
   ]
  },
  {
   "cell_type": "code",
   "execution_count": 329,
   "metadata": {},
   "outputs": [],
   "source": [
    "################################\n",
    "######## DO NOT CHANGE #########\n",
    "################################\n",
    "conge, qualif, d, p, b, besoin = extract_parameters(taille)"
   ]
  },
  {
   "cell_type": "code",
   "execution_count": 330,
   "metadata": {},
   "outputs": [
    {
     "name": "stdout",
     "output_type": "stream",
     "text": [
      "conge :  [[1, 1, 0, 1, 1], [1, 0, 1, 1, 1], [1, 1, 1, 1, 1]]\n",
      "qualif :  [[0, 1, 1], [0, 1, 1], [1, 0, 1]]\n",
      "date livraison :  [3, 3, 4, 3, 5]\n",
      "pénalité :  [3, 3, 3, 3, 3]\n",
      "bénéfice :  [20, 15, 15, 20, 10]\n",
      "besoin :  [[1, 1, 1, 0, 0], [1, 2, 0, 2, 0], [1, 0, 2, 1, 2]]\n"
     ]
    }
   ],
   "source": [
    "print(\"conge : \",conge)\n",
    "print(\"qualif : \",qualif)\n",
    "print(\"date livraison : \",d)\n",
    "print(\"pénalité : \",p)\n",
    "print(\"bénéfice : \",b)\n",
    "print(\"besoin : \",besoin)"
   ]
  },
  {
   "cell_type": "markdown",
   "metadata": {},
   "source": [
    "-- Correction -- début --\n",
    "\n",
    "NB : ordre des employés inverse par rapport au .json (par ex. indice 2 correspond à Olivia dans l'instance small)\n",
    "NB2 : ordre des qualifications et des projets comme dans le .json\n",
    "NB3 : conge décrit par employé puis par projet si employé dispo ou pas\n",
    "NB4 : qualif décrit par qualif puis par employé si les qualif sont compatibles\n",
    "NB5 : besoin décrit par qualif puis par projet combien de jours sont nécessaires\n",
    "\n",
    "-- Correction -- fin --"
   ]
  },
  {
   "cell_type": "markdown",
   "metadata": {},
   "source": [
    "## Définissons les paramètres"
   ]
  },
  {
   "cell_type": "code",
   "execution_count": 331,
   "metadata": {},
   "outputs": [],
   "source": [
    "from define_nums import define_nums\n",
    "\n",
    "nombre_employes, horizon, nombre_qualif, nombre_projets = define_nums(conge, qualif, d, p, b, besoin)"
   ]
  },
  {
   "cell_type": "code",
   "execution_count": 332,
   "metadata": {},
   "outputs": [
    {
     "name": "stdout",
     "output_type": "stream",
     "text": [
      "nombre_employes :  3\n",
      "horizon :  5\n",
      "nombre_qualif :  3\n",
      "nombre_projets :  5\n"
     ]
    }
   ],
   "source": [
    "print(\"nombre_employes : \",nombre_employes)\n",
    "print(\"horizon : \",horizon)\n",
    "print(\"nombre_qualif : \",nombre_qualif)\n",
    "print(\"nombre_projets : \",nombre_projets)"
   ]
  },
  {
   "cell_type": "code",
   "execution_count": 333,
   "metadata": {},
   "outputs": [],
   "source": [
    "## u_j, le projet j est réalisé\n",
    "u = [0]*nombre_projets\n",
    "u_shape = len(u)\n",
    "\n",
    "## x_i_j_k_n, l'employé k travaille sur le projet j avec la qualif i\n",
    "## au jour n\n",
    "#x = [[[[0]*horizon for _ in range(nombre_employes)] for _ in range(nombre_projets)] for _ in range(nombre_qualif)]\n",
    "x_shape = [(i,j,k, n) for i in range(nombre_qualif) for j in range(nombre_projets) for k in range(nombre_employes) for n in range(horizon)]\n",
    "\n",
    "## t_k_j, l'employé k travaille sur le projet j\n",
    "#t = [[0]*nombre_projets for _ in range(nombre_employes)]\n",
    "t_shape = [(i,j) for i in range(nombre_employes) for j in range(nombre_projets)]\n",
    "\n",
    "## begin_j, la date de début effective\n",
    "begin = [0]*nombre_projets\n",
    "begin_shape = len(begin)\n",
    "\n",
    "## end_j, la date de fin effective = date de livraison du projet j\n",
    "end = [0]*nombre_projets\n",
    "end_shape = len(end)\n",
    "\n",
    "## delay_j, le nombre de jours de retard par projet j\n",
    "delay = [0]*nombre_projets\n",
    "delay_shape = len(delay)\n",
    "\n",
    "## longueur_j, la longueur du projet j\n",
    "longueur = [0]*nombre_projets\n",
    "longueur_shape = len(longueur)\n",
    "\n",
    "## projet_par_employe_k, le nombre de projet par employe\n",
    "projet_par_employe = [0]*nombre_employes\n",
    "projet_par_employe_shape = len(projet_par_employe)\n",
    "\n",
    "# majorant pour la contrainte de couverture\n",
    "maj = horizon * nombre_employes\n",
    "\n",
    "\n",
    "job_in_process_shape = [(j, n) for j in range(nombre_projets) for n in range(horizon)]"
   ]
  },
  {
   "cell_type": "markdown",
   "metadata": {},
   "source": [
    "# Model deployment"
   ]
  },
  {
   "cell_type": "markdown",
   "metadata": {},
   "source": [
    "## Add the variables"
   ]
  },
  {
   "cell_type": "code",
   "execution_count": 334,
   "metadata": {},
   "outputs": [],
   "source": [
    "model = grb.Model(\"Planning\")\n",
    "\n",
    "# L'affectation du planning, la variable clé\n",
    "x = model.addVars(x_shape, vtype=GRB.BINARY, name=\"x\")\n",
    "\n",
    "## Les dates de fin des projets\n",
    "dateFin = model.addVars(end_shape, lb = 0, ub = horizon, name = \"dateFin\")\n",
    "\n",
    "## Les dates de début des projets\n",
    "dateDebut = model.addVars(begin_shape, lb = 0, ub = horizon, name = \"dateDebut\")\n",
    "\n",
    "## Le nombre de jours de delai\n",
    "delay = model.addVars(delay_shape, lb = 0, ub = horizon, name = \"delay\")\n",
    "\n",
    "## Les longueurs des projets\n",
    "# -- Correction -- début --\n",
    "# Rq : il y a déjà une variable (pas une variable de décision, une variable au sens programmation) qui s'appelle longueur, bien veiller à ce que cela ne soit pas un pb\n",
    "longueur = model.addVars(longueur_shape, lb = 0, ub = horizon, name = \"longueur\")\n",
    "# -- Correction -- fin --\n",
    "\n",
    "## Nombre de projet par employé\n",
    "projet_par_employe = model.addVars(projet_par_employe_shape, lb = 0, ub = nombre_projets, name = \"projet_par_employe\")\n",
    "\n",
    "## L'affectation sur un projet d'un employé\n",
    "affectation = model.addVars(t_shape, vtype = GRB.BINARY, name = \"affectation\")\n",
    "\n",
    "## La réalisation ou non d'un projet\n",
    "u = model.addVars(u_shape, vtype = GRB.BINARY, name=\"u\")\n",
    "\n",
    "## Verification du projet\n",
    "job_in_process = model.addVars(job_in_process_shape, vtype = GRB.BINARY, name = \"job_in_process\")"
   ]
  },
  {
   "cell_type": "code",
   "execution_count": 335,
   "metadata": {},
   "outputs": [],
   "source": [
    "# Update le modele pour confirmer la création des variables\n",
    "model.update()\n"
   ]
  },
  {
   "cell_type": "markdown",
   "metadata": {},
   "source": [
    "## Add constraints"
   ]
  },
  {
   "cell_type": "code",
   "execution_count": 336,
   "metadata": {},
   "outputs": [],
   "source": [
    "for i in range(nombre_qualif):\n",
    "    for j in range(nombre_projets):\n",
    "        for k in range(nombre_employes):\n",
    "            for n in range(horizon):\n",
    "                ## La qualification du personne\n",
    "                model.addConstr( x[i,j,k,n] <= qualif[i][k], name=\"QualificationPersonnel[{0}{1}{2}{3}]\".format(i,j,k,n))\n",
    "                model.addConstr( x[i,j,k,n] <= (besoin[i][j] >=1), name = \"BesoinQualifPersonnel[{0}{1}{2}{3}]\".format(i,j,k,n))\n",
    "                ## Contraintes des congés\n",
    "                model.addConstr( x[i,j,k,n] <= conge[k][n], name=f\"CongesPersonnel[{i}{j}{k}{n}]\")\n",
    "        \n",
    "        ## Contrainte d'unicité de réalisation d'un projet\n",
    "        # -- Correction -- début --\n",
    "        # Rq : pour éviter que des employés ne soient staffés sur des projets qui finalement ne seront pas réalisés pcq toutes les qualifications ne sont pas couvertes,\n",
    "        # il vaut mieux mettre une contrainte d'égalité plutôt que des inégalités\n",
    "        # model.addConstr(grb.quicksum(grb.quicksum(x[i,j,k,n] for n in range(horizon)) for k in range(nombre_employes)) >= besoin[i][j]*u[j], name=f\"UniciteRealisationMin[{i}{j}]\")\n",
    "        # model.addConstr(grb.quicksum(grb.quicksum(x[i,j,k,n] for n in range(horizon)) for k in range(nombre_employes)) <= besoin[i][j], name=f\"UniciteRealisation[{i}{j}]\")\n",
    "        model.addConstr(grb.quicksum(grb.quicksum(x[i,j,k,n] for n in range(horizon)) for k in range(nombre_employes)) == besoin[i][j]*u[j], name=f\"UniciteRealisation[{i}{j}]\")\n",
    "        # -- Correction -- fin --\n",
    "\n",
    "        ## Couverture des qualifications\n",
    "        # -- Correction -- début --\n",
    "        # Rq : les contraintes ci-dessous (avec le reste des contraintes) engendrent l'infaisabilité du modèle\n",
    "        # Pour la première contrainte, si la tâche j n'est pas faite, comme maj vaut (horizon x nb employés), la contrainte oblige à ce que les x[i,j,k,n] (à i, j fixés) valent tous 1\n",
    "        # ce qui, d'une part, n'a pas vraiment de sens et, d'autre part, est incompatible avec d'autres contraintes sur les x[i,j,k,n] telles que les contraintes de congés\n",
    "        # Pour la deuxième contrainte, si la tâche j n'est pas faite, la contrainte oblige à ce que la somme des x[i,j,k,n] (à i, j fixés) soient négatives,\n",
    "        # ce qui, d'une part, n'a pas vraiment de sens et, d'autre part, est incompatible avec le fait que les les x[i,j,k,n] soient des variables binaires (donc positives)\n",
    "        # model.addConstr( grb.quicksum(grb.quicksum(x[i,j,k,n] for n in range(horizon)) for k in range(nombre_employes)) >= maj*(1-u[j]), name=f\"CouvertureQualificationsInf[{i}{j}]\") \n",
    "        # model.addConstr( grb.quicksum(grb.quicksum(x[i,j,k,n] for n in range(horizon)) for k in range(nombre_employes)) <= maj*u[j] -10**-4, name=f\"CouvertureQualificationsSup[{i}{j}]\")\n",
    "        # -- Correction -- fin --\n",
    "\n",
    "\n",
    "## Unicité de l'affectation quotidienne\n",
    "for k in range(nombre_employes):\n",
    "    for n in range(horizon):\n",
    "        model.addConstr(grb.quicksum(grb.quicksum(x[i,j,k,n] for j in range(nombre_projets)) for i in range(nombre_qualif)) <= 1, name=f\"UniciteAffectation[{k}{n}]\")\n",
    "\n",
    "        \n",
    "for j in range(nombre_projets):\n",
    "    for n in range(horizon):\n",
    "        model.addConstrs(((job_in_process[j,n] >= x[i,j,k,n]) for i in range(nombre_qualif) for k in range(nombre_employes)), name=f\"ContrainteJobInProcess[{j}{n}]\")\n",
    "    # start date\n",
    "    # -- Correction -- début --\n",
    "    # Rq : avec la contraite ci-dessous, dateDebut[j] n'a pas le sens désiré (cf. valeurs affichées après résolution lorsque vous ferez du multi-objectif),\n",
    "    # une petite modification doit être apportée\n",
    "    model.addConstrs(((dateDebut[j] <= job_in_process[j,n]) for n in range(horizon)), name = f\"ContrainteDateDebut[{j}]\")\n",
    "    # -- Correction -- fin --\n",
    "    ## end date\n",
    "    # -- Correction -- début --\n",
    "    # Rq : avec la contraite ci-dessous, dateFin[j] n'a pas le sens désiré (cf. valeurs affichées après résolution lorsque vous ferez du multi-objectif)\n",
    "    # une petite modification doit être apportée\n",
    "    model.addConstrs(((job_in_process[j,n] <= dateFin[j]) for n in range(horizon)), name=f\"FinProjet[{j}]\")\n",
    "    # -- Correction -- fin --\n",
    "    ## longueur\n",
    "    model.addConstr(longueur[j] == dateFin[j] - dateDebut[j], name=f\"LongueurProjet[{j}]\")\n",
    "    ## end date\n",
    "    #model.addConstrs(((x[i,j,k,n] * n <= dateFin[j]) for i in range(nombre_qualif) for k in range(nombre_employes) for n in range(horizon)), name=f\"FinProjet[{j}]\")\n",
    "    ## delay\n",
    "    # -- Correction -- début --\n",
    "    # Rq : contrainte pas nécessaire comme delay sont des variables entières positives\n",
    "    # model.addConstr(delay[j] >= 0, name=f\"DelaiProjet_positif[{j}]\")\n",
    "    # -- Correction -- fin --\n",
    "    model.addConstr(delay[j] >= dateFin[j] - (d[j] - 1), name=f\"DelaiProjet_difference[{j}]\")\n",
    "    #model.addConstr(delay[j]== grb.max_(0,dateFin[j] - d[j]), name=f\"DelaiProjet[{j}]\")\n",
    "    \n",
    "\n",
    "## projet_par_employe\n",
    "for k in range(nombre_employes):\n",
    "    model.addConstr(projet_par_employe[k] == grb.quicksum( affectation[k,j] for j in range(nombre_projets)), name=f\"FinProjet[{j}]\")\n",
    "    \n",
    "    \n",
    "## Contrainte de l'affectation à un projet selon les jours de travail\n",
    "for k in range(nombre_employes):\n",
    "    for j in range(nombre_projets):\n",
    "        # -- Correction -- début --\n",
    "        # Rq : contrainte pas nécessaire comme affectation sont des variables binaires\n",
    "        # model.addConstr(affectation[k,j] <=1, name=f\"AffectationProjet_1[{k}{j}]\")\n",
    "        # -- Correction -- fin --\n",
    "        model.addConstr(affectation[k,j] <= grb.quicksum(grb.quicksum(x[i,j,k,n] for i in range(nombre_qualif)) for n in range(horizon)), name=f\"AffectationProjetQuicksum[{k}{j}]\")\n",
    "        #model.addConstr(affectation[k,j] == grb.min_(1,grb.quicksum(grb.quicksum(x[i,j,k,n] for i in range(nombre_qualif)) for n in range(horizon))), name=f\"AffectationProjet[{j}]\")\n",
    "\n",
    "        \n",
    "    "
   ]
  },
  {
   "cell_type": "markdown",
   "metadata": {},
   "source": [
    "## Fonctions objectif"
   ]
  },
  {
   "cell_type": "code",
   "execution_count": 337,
   "metadata": {},
   "outputs": [],
   "source": [
    "## bénéfice total\n",
    "benefice_tot = grb.quicksum( (b[j]*u[j] - delay[j]*p[j]) for j in range(nombre_projets) )\n",
    "\n",
    "# -- Correction -- début --\n",
    "# Rq : je commente ces lignes pour me focaliser juste sur le premier objectif à savoir le bénéfice total\n",
    "## Nombre de projet maximum par personne\n",
    "# projet_max = model.addVar(name=\"projet_max\")\n",
    "# model.addConstrs(projet_max>=projet_par_employe[k] for k in range(nombre_employes))\n",
    "# model.update()\n",
    "\n",
    "## Compacité\n",
    "# longueur_max = grb.max_(longueur)\n",
    "\n",
    "# model.ModelSense = GRB.MINIMIZE\n",
    "# model.setObjectiveN(benefice_tot,0,2)\n",
    "#model.setObjectiveN(projet_max, 1, 1)\n",
    "#model.setObjectiveN(longueur_max, 2, 0)\n",
    "# -- Correction -- fin --\n",
    "\n",
    "# -- Correction -- début --\n",
    "# Rq : j'ajoute ces lignes pour me focaliser juste sur le premier objectif à savoir le bénéfice total\n",
    "model.ModelSense = GRB.MAXIMIZE\n",
    "model.setObjective(benefice_tot)\n",
    "model.ModelSense = GRB.MAXIMIZE\n",
    "# -- Correction -- fin --"
   ]
  },
  {
   "cell_type": "code",
   "execution_count": 338,
   "metadata": {},
   "outputs": [],
   "source": [
    "### Corriger les fonctions obj 2 et 3 qui plantent\n",
    "### Comprendre pq on passe jamais nos x à 1"
   ]
  },
  {
   "cell_type": "markdown",
   "metadata": {},
   "source": [
    "# Model optimisation"
   ]
  },
  {
   "cell_type": "code",
   "execution_count": 339,
   "metadata": {},
   "outputs": [
    {
     "name": "stdout",
     "output_type": "stream",
     "text": [
      "Warning: linear constraint 995 and linear constraint 996 have the same name \"FinProjet[4]\"\n",
      "Gurobi Optimizer version 9.1.0 build v9.1.0rc0 (mac64)\n",
      "Thread count: 4 physical cores, 8 logical processors, using up to 8 threads\n",
      "Optimize a model with 1013 rows, 294 columns and 1973 nonzeros\n",
      "Model fingerprint: 0x35c78fb6\n",
      "Variable types: 23 continuous, 271 integer (270 binary)\n",
      "Coefficient statistics:\n",
      "  Matrix range     [1e+00, 5e+00]\n",
      "  Objective range  [1e+00, 2e+01]\n",
      "  Bounds range     [1e+00, 5e+00]\n",
      "  RHS range        [1e+00, 5e+00]\n",
      "\n",
      "---------------------------------------------------------------------------\n",
      "Multi-objectives: starting optimization with 3 objectives ... \n",
      "---------------------------------------------------------------------------\n",
      "\n",
      "Multi-objectives: applying initial presolve ...\n",
      "---------------------------------------------------------------------------\n",
      "\n",
      "Presolve removed 855 rows and 140 columns\n",
      "Presolve time: 0.00s\n",
      "Presolved: 158 rows and 154 columns\n",
      "---------------------------------------------------------------------------\n",
      "\n",
      "Multi-objectives: optimize objective 1 () ...\n",
      "---------------------------------------------------------------------------\n",
      "\n",
      "Found heuristic solution: objective -0.0000000\n",
      "Presolve removed 108 rows and 49 columns\n",
      "Presolve time: 0.00s\n",
      "Presolved: 50 rows, 105 columns, 262 nonzeros\n",
      "Variable types: 0 continuous, 105 integer (102 binary)\n",
      "\n",
      "Root relaxation: objective 7.200000e+01, 83 iterations, 0.00 seconds\n",
      "\n",
      "    Nodes    |    Current Node    |     Objective Bounds      |     Work\n",
      " Expl Unexpl |  Obj  Depth IntInf | Incumbent    BestBd   Gap | It/Node Time\n",
      "\n",
      "     0     0   72.00000    0   14   -0.00000   72.00000      -     -    0s\n",
      "H    0     0                      56.0000000   72.00000  28.6%     -    0s\n",
      "H    0     0                      58.0000000   72.00000  24.1%     -    0s\n",
      "H    0     0                      62.0000000   72.00000  16.1%     -    0s\n",
      "     0     0   67.00001    0   16   62.00000   67.00001  8.06%     -    0s\n",
      "H    0     0                      64.0000000   67.00001  4.69%     -    0s\n",
      "H    0     0                      65.0000000   67.00001  3.08%     -    0s\n",
      "     0     0     cutoff    0        65.00000   65.00000  0.00%     -    0s\n",
      "\n",
      "Cutting planes:\n",
      "  Gomory: 7\n",
      "  Clique: 1\n",
      "  MIR: 2\n",
      "  Zero half: 7\n",
      "  RLT: 2\n",
      "  Relax-and-lift: 2\n",
      "\n",
      "Explored 1 nodes (173 simplex iterations) in 0.04 seconds\n",
      "Thread count was 8 (of 8 available processors)\n",
      "\n",
      "Solution count 6: 65 64 62 ... -0\n",
      "\n",
      "Optimal solution found (tolerance 1.00e-04)\n",
      "Best objective 6.500000000000e+01, best bound 6.500000000000e+01, gap 0.0000%\n",
      "---------------------------------------------------------------------------\n",
      "\n",
      "Multi-objectives: optimize objective 2 () ...\n",
      "---------------------------------------------------------------------------\n",
      "\n",
      "\n",
      "Loaded user MIP start with objective -4\n",
      "\n",
      "Presolve removed 14 rows and 16 columns\n",
      "Presolve time: 0.00s\n",
      "Presolved: 145 rows, 138 columns, 487 nonzeros\n",
      "Variable types: 20 continuous, 118 integer (117 binary)\n",
      "\n",
      "Root relaxation: objective -0.000000e+00, 121 iterations, 0.00 seconds\n",
      "\n",
      "    Nodes    |    Current Node    |     Objective Bounds      |     Work\n",
      " Expl Unexpl |  Obj  Depth IntInf | Incumbent    BestBd   Gap | It/Node Time\n",
      "\n",
      "     0     0   -0.00000    0    2   -4.00000   -0.00000   100%     -    0s\n",
      "H    0     0                      -3.0000000   -0.00000   100%     -    0s\n",
      "     0     0   -0.00000    0   33   -3.00000   -0.00000   100%     -    0s\n",
      "H    0     0                      -1.0000000   -0.00000   100%     -    0s\n",
      "     0     0   -1.00000    0   23   -1.00000   -1.00000  0.00%     -    0s\n",
      "\n",
      "Cutting planes:\n",
      "  Gomory: 15\n",
      "  Cover: 9\n",
      "  Implied bound: 8\n",
      "  Clique: 11\n",
      "  MIR: 4\n",
      "  Zero half: 9\n",
      "  RLT: 4\n",
      "  Relax-and-lift: 5\n",
      "\n",
      "Explored 1 nodes (580 simplex iterations) in 0.08 seconds\n",
      "Thread count was 8 (of 8 available processors)\n",
      "\n",
      "Solution count 3: -1 -3 -4 \n",
      "No other solutions better than -1\n",
      "\n",
      "Optimal solution found (tolerance 1.00e-04)\n",
      "Best objective -1.000000000000e+00, best bound -1.000000000000e+00, gap 0.0000%\n",
      "---------------------------------------------------------------------------\n",
      "\n",
      "Multi-objectives: optimize objective 3 () ...\n",
      "---------------------------------------------------------------------------\n",
      "\n",
      "\n",
      "Loaded user MIP start with objective -5\n",
      "\n",
      "Presolve removed 22 rows and 17 columns\n",
      "Presolve time: 0.00s\n",
      "Presolved: 138 rows, 137 columns, 685 nonzeros\n",
      "Variable types: 20 continuous, 117 integer (117 binary)\n",
      "\n",
      "Root relaxation: objective -0.000000e+00, 151 iterations, 0.00 seconds\n",
      "\n",
      "    Nodes    |    Current Node    |     Objective Bounds      |     Work\n",
      " Expl Unexpl |  Obj  Depth IntInf | Incumbent    BestBd   Gap | It/Node Time\n",
      "\n",
      "     0     0   -0.00000    0   34   -5.00000   -0.00000   100%     -    0s\n",
      "H    0     0                      -1.0000000   -0.00000   100%     -    0s\n",
      "     0     0   -0.00000    0   47   -1.00000   -0.00000   100%     -    0s\n",
      "     0     0   -0.00000    0   11   -1.00000   -0.00000   100%     -    0s\n",
      "     0     0   -0.00000    0   44   -1.00000   -0.00000   100%     -    0s\n",
      "     0     0   -0.78611    0   45   -1.00000   -0.78611  21.4%     -    0s\n",
      "\n",
      "Cutting planes:\n",
      "  Cover: 4\n",
      "  Implied bound: 4\n",
      "  Clique: 5\n",
      "  MIR: 6\n",
      "  Zero half: 3\n",
      "  RLT: 2\n",
      "  Relax-and-lift: 3\n",
      "\n",
      "Explored 1 nodes (664 simplex iterations) in 0.14 seconds\n",
      "Thread count was 8 (of 8 available processors)\n",
      "\n",
      "Solution count 2: -1 -5 \n",
      "No other solutions better than -1\n",
      "\n",
      "Optimal solution found (tolerance 1.00e-04)\n",
      "Best objective -1.000000000000e+00, best bound -1.000000000000e+00, gap 0.0000%\n",
      "\n",
      "---------------------------------------------------------------------------\n",
      "Multi-objectives: solved in 0.15 seconds, solution count 9\n",
      "\n"
     ]
    }
   ],
   "source": [
    "# Verify model formulation\n",
    "\n",
    "model.write('marketSharing.lp')\n",
    "\n",
    "# Run optimization engine\n",
    "\n",
    "model.optimize()"
   ]
  },
  {
   "cell_type": "code",
   "execution_count": 340,
   "metadata": {},
   "outputs": [
    {
     "name": "stdout",
     "output_type": "stream",
     "text": [
      "l'employé 0 fait, à la date 0, la tâche 0 pour la qualif 2\n",
      "l'employé 0 fait, à la date 1, la tâche 3 pour la qualif 2\n",
      "l'employé 0 fait, à la date 3, la tâche 2 pour la qualif 2\n",
      "l'employé 0 fait, à la date 4, la tâche 4 pour la qualif 2\n",
      "l'employé 1 fait, à la date 0, la tâche 0 pour la qualif 0\n",
      "l'employé 1 fait, à la date 2, la tâche 3 pour la qualif 1\n",
      "l'employé 1 fait, à la date 3, la tâche 2 pour la qualif 0\n",
      "l'employé 2 fait, à la date 0, la tâche 0 pour la qualif 1\n",
      "l'employé 2 fait, à la date 1, la tâche 3 pour la qualif 1\n",
      "l'employé 2 fait, à la date 3, la tâche 2 pour la qualif 2\n",
      "l'employé 2 fait, à la date 4, la tâche 4 pour la qualif 2\n",
      "la tâche 0 pour la qualif 0 est faite par 1 à la date 0\n",
      "la tâche 0 pour la qualif 1 est faite par 2 à la date 0\n",
      "la tâche 0 pour la qualif 2 est faite par 0 à la date 0\n",
      "la tâche 2 pour la qualif 0 est faite par 1 à la date 3\n",
      "la tâche 2 pour la qualif 2 est faite par 0 à la date 3\n",
      "la tâche 2 pour la qualif 2 est faite par 2 à la date 3\n",
      "la tâche 3 pour la qualif 1 est faite par 1 à la date 2\n",
      "la tâche 3 pour la qualif 1 est faite par 2 à la date 1\n",
      "la tâche 3 pour la qualif 2 est faite par 0 à la date 1\n",
      "la tâche 4 pour la qualif 2 est faite par 0 à la date 4\n",
      "la tâche 4 pour la qualif 2 est faite par 2 à la date 4\n",
      "la tâche 0 commence à la date 0 et finit à la date 0\n",
      "la tâche 2 commence à la date 3 et finit à la date 3\n",
      "la tâche 3 commence à la date 1 et finit à la date 2\n",
      "la tâche 4 commence à la date 4 et finit à la date 4\n"
     ]
    }
   ],
   "source": [
    "# # Print the values of all variables\n",
    "# for v in model.getVars():\n",
    "#     print(f\"{v.VarName} = {v.X}\")\n",
    "\n",
    "# -- Correction -- début --\n",
    "# Rq : pour voir quels sont les projets faits\n",
    "# for j in range(nombre_projets):\n",
    "#     v = model.getVarByName(f\"u[{j}]\")\n",
    "#     if int(v.x) == 1:\n",
    "#         print(f\"la tâche {j} est faite\")\n",
    "#     else:\n",
    "#         print(f\"la tâche {j} n'est pas faite\")\n",
    "# -- Correction -- fin --\n",
    "\n",
    "# -- Correction -- début --\n",
    "# Rq : pour voir quels sont les edt des employés et le détail de la réalisation de chaque tâche (de façon ordonnée)\n",
    "schedules = []\n",
    "tasks_performances = []\n",
    "for i in range(nombre_qualif):\n",
    "    for j in range(nombre_projets):\n",
    "        for k in range(nombre_employes):\n",
    "            for n in range(horizon):\n",
    "                v = model.getVarByName(f\"x[{i},{j},{k},{n}]\")\n",
    "                if int(v.x) == 1:\n",
    "                    schedules.append((k, n, j, i))\n",
    "                    tasks_performances.append((j, i, k, n))\n",
    "schedules.sort()\n",
    "for (k, n, j, i) in schedules:\n",
    "    print(f\"l'employé {k} fait, à la date {n}, la tâche {j} pour la qualif {i}\")\n",
    "tasks_performances.sort()\n",
    "for (j, i, k, n) in tasks_performances:\n",
    "    print(f\"la tâche {j} pour la qualif {i} est faite par {k} à la date {n}\")\n",
    "# -- Correction -- fin --\n",
    "\n",
    "# -- Correction -- début --\n",
    "# Rq : pour voir quelles sont les dates de début et de fin des tâches réalisees \n",
    "# (à n'étudier que lorsque longueur_max est mis en objectif, sinon les variables dateDebut et dateFin ne sont pas assez contraintes pour prendre exactement le sens souhaité)\n",
    "for j in range(nombre_projets):\n",
    "    v = model.getVarByName(f\"u[{j}]\")\n",
    "    v1 = model.getVarByName(f\"dateDebut[{j}]\")\n",
    "    v2 = model.getVarByName(f\"dateFin[{j}]\")\n",
    "    if int(v.x) == 1:\n",
    "        print(f\"la tâche {j} commence à la date {int(v1.x)} et finit à la date {int(v2.x)}\")\n",
    "# -- Correction -- fin --"
   ]
  },
  {
   "cell_type": "code",
   "execution_count": null,
   "metadata": {},
   "outputs": [],
   "source": [
    "model.computeIIS()"
   ]
  },
  {
   "cell_type": "code",
   "execution_count": 147,
   "metadata": {},
   "outputs": [
    {
     "data": {
      "text/plain": [
       "817.0"
      ]
     },
     "execution_count": 147,
     "metadata": {},
     "output_type": "execute_result"
    }
   ],
   "source": [
    "model.objVal"
   ]
  },
  {
   "cell_type": "code",
   "execution_count": 248,
   "metadata": {},
   "outputs": [
    {
     "ename": "AttributeError",
     "evalue": "Unable to retrieve attribute 'x'",
     "output_type": "error",
     "traceback": [
      "\u001b[0;31m---------------------------------------------------------------------------\u001b[0m",
      "\u001b[0;31mAttributeError\u001b[0m                            Traceback (most recent call last)",
      "\u001b[0;32m<ipython-input-248-0b1ac799972b>\u001b[0m in \u001b[0;36m<module>\u001b[0;34m\u001b[0m\n\u001b[0;32m----> 1\u001b[0;31m \u001b[0mx_values\u001b[0m \u001b[0;34m=\u001b[0m \u001b[0;34m[\u001b[0m\u001b[0mvar\u001b[0m\u001b[0;34m.\u001b[0m\u001b[0mx\u001b[0m \u001b[0;32mfor\u001b[0m \u001b[0mvar\u001b[0m \u001b[0;32min\u001b[0m \u001b[0mmodel\u001b[0m\u001b[0;34m.\u001b[0m\u001b[0mgetVars\u001b[0m\u001b[0;34m(\u001b[0m\u001b[0;34m)\u001b[0m\u001b[0;34m]\u001b[0m\u001b[0;34m\u001b[0m\u001b[0;34m\u001b[0m\u001b[0m\n\u001b[0m\u001b[1;32m      2\u001b[0m \u001b[0mprint\u001b[0m\u001b[0;34m(\u001b[0m\u001b[0mx_values\u001b[0m\u001b[0;34m)\u001b[0m\u001b[0;34m\u001b[0m\u001b[0;34m\u001b[0m\u001b[0m\n\u001b[1;32m      3\u001b[0m \u001b[0mprint\u001b[0m\u001b[0;34m(\u001b[0m\u001b[0mhorizon\u001b[0m\u001b[0;34m*\u001b[0m\u001b[0mnombre_projets\u001b[0m\u001b[0;34m*\u001b[0m\u001b[0mnombre_employes\u001b[0m\u001b[0;34m*\u001b[0m\u001b[0mnombre_qualif\u001b[0m\u001b[0;34m)\u001b[0m\u001b[0;34m\u001b[0m\u001b[0;34m\u001b[0m\u001b[0m\n\u001b[1;32m      4\u001b[0m \u001b[0mprint\u001b[0m\u001b[0;34m(\u001b[0m\u001b[0mnombre_projets\u001b[0m\u001b[0;34m*\u001b[0m\u001b[0;34m(\u001b[0m\u001b[0;36m2\u001b[0m\u001b[0;34m+\u001b[0m\u001b[0mnombre_employes\u001b[0m\u001b[0;34m)\u001b[0m\u001b[0;34m)\u001b[0m\u001b[0;34m\u001b[0m\u001b[0;34m\u001b[0m\u001b[0m\n",
      "\u001b[0;32m<ipython-input-248-0b1ac799972b>\u001b[0m in \u001b[0;36m<listcomp>\u001b[0;34m(.0)\u001b[0m\n\u001b[0;32m----> 1\u001b[0;31m \u001b[0mx_values\u001b[0m \u001b[0;34m=\u001b[0m \u001b[0;34m[\u001b[0m\u001b[0mvar\u001b[0m\u001b[0;34m.\u001b[0m\u001b[0mx\u001b[0m \u001b[0;32mfor\u001b[0m \u001b[0mvar\u001b[0m \u001b[0;32min\u001b[0m \u001b[0mmodel\u001b[0m\u001b[0;34m.\u001b[0m\u001b[0mgetVars\u001b[0m\u001b[0;34m(\u001b[0m\u001b[0;34m)\u001b[0m\u001b[0;34m]\u001b[0m\u001b[0;34m\u001b[0m\u001b[0;34m\u001b[0m\u001b[0m\n\u001b[0m\u001b[1;32m      2\u001b[0m \u001b[0mprint\u001b[0m\u001b[0;34m(\u001b[0m\u001b[0mx_values\u001b[0m\u001b[0;34m)\u001b[0m\u001b[0;34m\u001b[0m\u001b[0;34m\u001b[0m\u001b[0m\n\u001b[1;32m      3\u001b[0m \u001b[0mprint\u001b[0m\u001b[0;34m(\u001b[0m\u001b[0mhorizon\u001b[0m\u001b[0;34m*\u001b[0m\u001b[0mnombre_projets\u001b[0m\u001b[0;34m*\u001b[0m\u001b[0mnombre_employes\u001b[0m\u001b[0;34m*\u001b[0m\u001b[0mnombre_qualif\u001b[0m\u001b[0;34m)\u001b[0m\u001b[0;34m\u001b[0m\u001b[0;34m\u001b[0m\u001b[0m\n\u001b[1;32m      4\u001b[0m \u001b[0mprint\u001b[0m\u001b[0;34m(\u001b[0m\u001b[0mnombre_projets\u001b[0m\u001b[0;34m*\u001b[0m\u001b[0;34m(\u001b[0m\u001b[0;36m2\u001b[0m\u001b[0;34m+\u001b[0m\u001b[0mnombre_employes\u001b[0m\u001b[0;34m)\u001b[0m\u001b[0;34m)\u001b[0m\u001b[0;34m\u001b[0m\u001b[0;34m\u001b[0m\u001b[0m\n",
      "\u001b[0;32msrc/gurobipy/var.pxi\u001b[0m in \u001b[0;36mgurobipy.Var.__getattr__\u001b[0;34m()\u001b[0m\n",
      "\u001b[0;32msrc/gurobipy/var.pxi\u001b[0m in \u001b[0;36mgurobipy.Var.getAttr\u001b[0;34m()\u001b[0m\n",
      "\u001b[0;32msrc/gurobipy/attrutil.pxi\u001b[0m in \u001b[0;36mgurobipy.__getattr\u001b[0;34m()\u001b[0m\n",
      "\u001b[0;31mAttributeError\u001b[0m: Unable to retrieve attribute 'x'"
     ]
    }
   ],
   "source": [
    "x_values = [var.x for var in model.getVars()]\n",
    "print(x_values)\n",
    "print(horizon*nombre_projets*nombre_employes*nombre_qualif)\n",
    "print(nombre_projets*(2+nombre_employes))"
   ]
  },
  {
   "cell_type": "code",
   "execution_count": null,
   "metadata": {},
   "outputs": [],
   "source": []
  },
  {
   "cell_type": "code",
   "execution_count": null,
   "metadata": {},
   "outputs": [],
   "source": []
  }
 ],
 "metadata": {
  "kernelspec": {
   "display_name": "Python 3.8.5 ('base')",
   "language": "python",
   "name": "python3"
  },
  "language_info": {
   "codemirror_mode": {
    "name": "ipython",
    "version": 3
   },
   "file_extension": ".py",
   "mimetype": "text/x-python",
   "name": "python",
   "nbconvert_exporter": "python",
   "pygments_lexer": "ipython3",
   "version": "3.8.5"
  },
  "vscode": {
   "interpreter": {
    "hash": "841f872b124843c3cec9b84aa649cbdc5d28908a0e1b01e34eab5b6f0153b5f1"
   }
  }
 },
 "nbformat": 4,
 "nbformat_minor": 2
}
