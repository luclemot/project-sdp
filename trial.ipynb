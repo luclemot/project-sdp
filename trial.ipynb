{
 "cells": [
  {
   "cell_type": "code",
   "execution_count": 93,
   "metadata": {},
   "outputs": [],
   "source": [
    "import numpy as np\n",
    "import pandas as pd\n",
    "from itertools import product\n",
    "\n",
    "import gurobipy as gp\n",
    "from gurobipy import GRB"
   ]
  },
  {
   "attachments": {},
   "cell_type": "markdown",
   "metadata": {},
   "source": [
    "Input Problem parameters"
   ]
  },
  {
   "cell_type": "code",
   "execution_count": 94,
   "metadata": {},
   "outputs": [
    {
     "name": "stdout",
     "output_type": "stream",
     "text": [
      "I opened  small.json  filed. \n",
      "\n",
      "I loaded  small.json  data in a dict. \n",
      "\n",
      "I stored  small.json  data in res. \n",
      "\n",
      "I opened  medium.json  filed. \n",
      "\n",
      "I loaded  medium.json  data in a dict. \n",
      "\n",
      "I stored  medium.json  data in res. \n",
      "\n",
      "I opened  large.json  filed. \n",
      "\n",
      "I loaded  large.json  data in a dict. \n",
      "\n",
      "I stored  large.json  data in res. \n",
      "\n"
     ]
    }
   ],
   "source": [
    "import json\n",
    "\n",
    "l=[\"small\", \"medium\", \"large\"]\n",
    "res = dict()\n",
    "\n",
    "for taille in l:\n",
    "    nom_fichier = taille+\".json\"\n",
    "    fichier = open(nom_fichier)\n",
    "    print(\"I opened \", nom_fichier, \" filed. \\n\")\n",
    "\n",
    "    data = json.load(fichier)\n",
    "    print(\"I loaded \", nom_fichier, \" data in a dict. \\n\")\n",
    "\n",
    "    res[taille] = data\n",
    "    print(\"I stored \", nom_fichier, \" data in res. \\n\")\n",
    "\n",
    "    fichier.close()"
   ]
  },
  {
   "cell_type": "code",
   "execution_count": 128,
   "metadata": {},
   "outputs": [],
   "source": [
    "## à changer selon le fichier que l'on veut\n",
    "## traiter\n",
    "## l = [\"small\", \"medium\", \"large\"]\n",
    "\n",
    "\n",
    "taille = \"small\""
   ]
  },
  {
   "cell_type": "code",
   "execution_count": 129,
   "metadata": {},
   "outputs": [],
   "source": [
    "horizon = res[taille][\"horizon\"]\n",
    "qualifications = res[taille][\"qualifications\"]\n",
    "staff = res[taille][\"staff\"]\n",
    "jobs = res[taille][\"jobs\"]"
   ]
  },
  {
   "cell_type": "code",
   "execution_count": 130,
   "metadata": {},
   "outputs": [],
   "source": [
    "noms_employes = []\n",
    "for person in staff:\n",
    "    noms_employes.append(person[\"name\"])\n",
    "\n",
    "noms_projet = []\n",
    "for projet in jobs:\n",
    "    noms_projet.append(projet[\"name\"])"
   ]
  },
  {
   "cell_type": "code",
   "execution_count": 131,
   "metadata": {},
   "outputs": [],
   "source": [
    "nombre_projets = len(noms_projet)\n",
    "nombre_qualif = len(qualifications)\n",
    "nombre_employes = len(noms_employes)"
   ]
  },
  {
   "attachments": {},
   "cell_type": "markdown",
   "metadata": {},
   "source": [
    "Définissons les variables"
   ]
  },
  {
   "cell_type": "code",
   "execution_count": 132,
   "metadata": {},
   "outputs": [
    {
     "name": "stdout",
     "output_type": "stream",
     "text": [
      "{'name': 'Olivia', 'qualifications': ['B', 'A', 'C'], 'vacations': [1, 2, 3, 4, 5]}\n",
      "8\n",
      "3\n",
      "4\n",
      "{'name': 'Liam', 'qualifications': ['E', 'A', 'D'], 'vacations': [6, 7, 8, 9, 10]}\n",
      "0\n",
      "3\n",
      "7\n",
      "{'name': 'Emma', 'qualifications': ['B', 'H'], 'vacations': [21, 22, 23, 24, 25]}\n",
      "8\n",
      "5\n",
      "{'name': 'Noah', 'qualifications': ['C', 'H', 'G', 'D'], 'vacations': [26, 27, 28, 29, 30]}\n",
      "4\n",
      "5\n",
      "6\n",
      "7\n",
      "{'name': 'Amelia', 'qualifications': ['E', 'I', 'G', 'J', 'F'], 'vacations': []}\n",
      "0\n",
      "1\n",
      "6\n",
      "2\n",
      "9\n",
      "{'name': 'Oliver', 'qualifications': ['J', 'F', 'G'], 'vacations': [32, 33, 31]}\n",
      "2\n",
      "9\n",
      "6\n"
     ]
    }
   ],
   "source": [
    "## besoin_i_j, le projet j a besoin de la qualif i\n",
    "besoin = [[0]*nombre_projets for _ in range(nombre_qualif)]\n",
    "\n",
    "## conge_k_n, l'employé k est en congés au jours n (1 s'il travaille et 0 s'il est en congés)\n",
    "conge = [[1]*horizon for _ in range(nombre_employes)]\n",
    "\n",
    "## qualif_i_k, l'employé k a la qualif i\n",
    "qualif = [[0]*nombre_employes for _ in range(nombre_qualif)]\n",
    "\n",
    "## d_j, date de livraison selon les projets\n",
    "d = [0]*nombre_projets\n",
    "\n",
    "## p_j, pénalités selon les projets\n",
    "p = [0]*nombre_projets\n",
    "\n",
    "## b_j, bénéfices selon les projets\n",
    "b = [0]*nombre_projets\n",
    "\n",
    "\n",
    "\n",
    "##########################################\n",
    "##########################################\n",
    "\n",
    "\n",
    "\n",
    "for job in jobs:\n",
    "    ## jobs is list of dict\n",
    "    ## job is dict\n",
    "\n",
    "    num_projet = noms_projet.index(job[\"name\"])\n",
    "    b[num_projet] = job[\"gain\"]\n",
    "    d[num_projet] = job[\"due_date\"]\n",
    "    p[num_projet] = job[\"daily_penalty\"]\n",
    "\n",
    "    for qualification, jours in job[\"working_days_per_qualification\"].items():\n",
    "        num_qualif = qualifications.index(qualification)\n",
    "        besoin[num_qualif][num_projet] = jours\n",
    "    \n",
    "\n",
    "for person in staff:\n",
    "    num_person = noms_employes.index(person[\"name\"])\n",
    "\n",
    "    for qual in person[\"qualifications\"]:    \n",
    "        num_qualif = qualifications.index(qual)\n",
    "        qualif[num_qualif][num_person] = 1\n",
    "    \n",
    "    for date in person[\"vacations\"]:\n",
    "        if date is not None:\n",
    "            conge[num_person][date] = 0"
   ]
  },
  {
   "cell_type": "code",
   "execution_count": 133,
   "metadata": {},
   "outputs": [
    {
     "name": "stdout",
     "output_type": "stream",
     "text": [
      "besoin :  [[0, 0, 0, 0, 0, 4, 0, 0, 0, 0, 0, 5, 5, 0, 0, 3, 4, 0, 0, 0, 0, 0, 0, 0, 0], [0, 0, 0, 0, 0, 0, 4, 0, 0, 5, 0, 0, 0, 0, 0, 8, 0, 0, 0, 0, 6, 0, 3, 4, 0], [0, 0, 0, 0, 0, 0, 0, 0, 0, 0, 4, 0, 0, 3, 2, 0, 0, 0, 0, 0, 4, 4, 0, 8, 10], [4, 4, 4, 6, 0, 0, 0, 0, 0, 0, 0, 0, 0, 0, 0, 0, 0, 0, 0, 0, 0, 0, 0, 0, 0], [0, 1, 1, 0, 4, 0, 0, 5, 7, 4, 8, 0, 0, 0, 0, 0, 0, 0, 0, 0, 0, 0, 0, 0, 0], [0, 0, 0, 0, 0, 7, 0, 0, 8, 0, 0, 0, 0, 0, 5, 0, 2, 0, 1, 4, 0, 0, 6, 0, 0], [0, 0, 0, 0, 0, 0, 0, 8, 0, 0, 0, 0, 0, 5, 0, 0, 3, 0, 2, 4, 4, 4, 0, 0, 0], [0, 4, 0, 0, 8, 0, 0, 5, 0, 0, 0, 4, 5, 5, 5, 0, 0, 0, 0, 0, 0, 0, 0, 0, 0], [4, 2, 0, 0, 3, 3, 3, 0, 0, 0, 0, 0, 0, 0, 0, 0, 0, 0, 0, 0, 0, 0, 0, 0, 0], [0, 0, 0, 0, 0, 0, 0, 0, 5, 0, 0, 0, 1, 0, 0, 6, 0, 6, 6, 0, 0, 0, 0, 0, 0]]\n",
      "qualif :  [[0, 1, 0, 0, 1, 0], [0, 0, 0, 0, 1, 0], [0, 0, 0, 0, 1, 1], [1, 1, 0, 0, 0, 0], [1, 0, 0, 1, 0, 0], [0, 0, 1, 1, 0, 0], [0, 0, 0, 1, 1, 1], [0, 1, 0, 1, 0, 0], [1, 0, 1, 0, 0, 0], [0, 0, 0, 0, 1, 1]]\n",
      "conge :  [[1, 0, 0, 0, 0, 0, 1, 1, 1, 1, 1, 1, 1, 1, 1, 1, 1, 1, 1, 1, 1, 1, 1, 1, 1, 1, 1, 1, 1, 1, 1, 1, 1, 1, 1, 1], [1, 1, 1, 1, 1, 1, 0, 0, 0, 0, 0, 1, 1, 1, 1, 1, 1, 1, 1, 1, 1, 1, 1, 1, 1, 1, 1, 1, 1, 1, 1, 1, 1, 1, 1, 1], [1, 1, 1, 1, 1, 1, 1, 1, 1, 1, 1, 1, 1, 1, 1, 1, 1, 1, 1, 1, 1, 0, 0, 0, 0, 0, 1, 1, 1, 1, 1, 1, 1, 1, 1, 1], [1, 1, 1, 1, 1, 1, 1, 1, 1, 1, 1, 1, 1, 1, 1, 1, 1, 1, 1, 1, 1, 1, 1, 1, 1, 1, 0, 0, 0, 0, 0, 1, 1, 1, 1, 1], [1, 1, 1, 1, 1, 1, 1, 1, 1, 1, 1, 1, 1, 1, 1, 1, 1, 1, 1, 1, 1, 1, 1, 1, 1, 1, 1, 1, 1, 1, 1, 1, 1, 1, 1, 1], [1, 1, 1, 1, 1, 1, 1, 1, 1, 1, 1, 1, 1, 1, 1, 1, 1, 1, 1, 1, 1, 1, 1, 1, 1, 1, 1, 1, 1, 1, 1, 0, 0, 0, 1, 1]]\n",
      "d :  [26, 22, 16, 18, 14, 32, 18, 30, 20, 32, 32, 26, 30, 26, 36, 18, 18, 26, 18, 12, 28, 26, 12, 14, 14]\n",
      "p :  [3, 3, 3, 3, 3, 3, 3, 3, 3, 3, 3, 3, 3, 3, 3, 3, 3, 3, 3, 3, 3, 3, 3, 3, 3]\n",
      "b :  [15, 30, 30, 30, 70, 50, 50, 80, 80, 20, 20, 40, 20, 20, 20, 80, 25, 20, 25, 60, 50, 50, 45, 40, 50]\n"
     ]
    }
   ],
   "source": [
    "print(\"besoin : \", besoin)\n",
    "print(\"qualif : \", qualif)\n",
    "print(\"conge : \", conge)\n",
    "print(\"d : \", d)\n",
    "print(\"p : \", p)\n",
    "print(\"b : \", b)"
   ]
  },
  {
   "attachments": {},
   "cell_type": "markdown",
   "metadata": {},
   "source": [
    "Définissons les paramètres"
   ]
  },
  {
   "cell_type": "code",
   "execution_count": 134,
   "metadata": {},
   "outputs": [],
   "source": [
    "## u_j, le projet j est réalisé\n",
    "u = [0]*nombre_projets\n",
    "\n",
    "## x_i_j_k_n, l'employé k travaille sur le projet j avec la qualif i\n",
    "## au jour n\n",
    "x = [[[[0]*horizon for _ in range(nombre_employes)] for _ in range(nombre_projets)] for _ in range(nombre_qualif)]\n",
    "\n",
    "## begin_j, la date de debut effective du projet j\n",
    "begin = [0]*nombre_projets\n",
    "\n",
    "## end_j, la date de fin effective = date de livraison du projet j\n",
    "end = [0]*nombre_projets"
   ]
  },
  {
   "cell_type": "code",
   "execution_count": null,
   "metadata": {},
   "outputs": [],
   "source": []
  }
 ],
 "metadata": {
  "kernelspec": {
   "display_name": "base",
   "language": "python",
   "name": "python3"
  },
  "language_info": {
   "codemirror_mode": {
    "name": "ipython",
    "version": 3
   },
   "file_extension": ".py",
   "mimetype": "text/x-python",
   "name": "python",
   "nbconvert_exporter": "python",
   "pygments_lexer": "ipython3",
   "version": "3.8.5"
  },
  "orig_nbformat": 4,
  "vscode": {
   "interpreter": {
    "hash": "d353b0c5e377b70cf8d68715abfc75cf273a5427d1952db2f540f22618aa254a"
   }
  }
 },
 "nbformat": 4,
 "nbformat_minor": 2
}
