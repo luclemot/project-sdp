{
 "cells": [
  {
   "cell_type": "code",
   "execution_count": 7,
   "metadata": {},
   "outputs": [],
   "source": [
    "import numpy as np\n",
    "import pandas as pd\n",
    "from itertools import product\n",
    "\n",
    "import gurobipy as gp\n",
    "from gurobipy import GRB"
   ]
  },
  {
   "attachments": {},
   "cell_type": "markdown",
   "metadata": {},
   "source": [
    "Input Problem parameters"
   ]
  },
  {
   "cell_type": "code",
   "execution_count": 35,
   "metadata": {},
   "outputs": [
    {
     "name": "stdout",
     "output_type": "stream",
     "text": [
      "I opened  small.json  filed. \n",
      "\n",
      "I loaded  small.json  data in a dict. \n",
      "\n",
      "I stored  small.json  data in res. \n",
      "\n",
      "I opened  medium.json  filed. \n",
      "\n",
      "I loaded  medium.json  data in a dict. \n",
      "\n",
      "I stored  medium.json  data in res. \n",
      "\n",
      "I opened  large.json  filed. \n",
      "\n",
      "I loaded  large.json  data in a dict. \n",
      "\n",
      "I stored  large.json  data in res. \n",
      "\n"
     ]
    }
   ],
   "source": [
    "import json\n",
    "\n",
    "l=[\"small\", \"medium\", \"large\"]\n",
    "res = dict()\n",
    "\n",
    "for taille in l:\n",
    "    nom_fichier = taille+\".json\"\n",
    "    fichier = open(nom_fichier)\n",
    "    print(\"I opened \", nom_fichier, \" filed. \\n\")\n",
    "\n",
    "    data = json.load(fichier)\n",
    "    print(\"I loaded \", nom_fichier, \" data in a dict. \\n\")\n",
    "\n",
    "    res[taille] = data\n",
    "    print(\"I stored \", nom_fichier, \" data in res. \\n\")\n",
    "\n",
    "    fichier.close()"
   ]
  },
  {
   "cell_type": "code",
   "execution_count": 9,
   "metadata": {},
   "outputs": [
    {
     "data": {
      "text/plain": [
       "{'horizon': 5,\n",
       " 'qualifications': ['A', 'B', 'C'],\n",
       " 'staff': [{'name': 'Olivia',\n",
       "   'qualifications': ['A', 'B', 'C'],\n",
       "   'vacations': []},\n",
       "  {'name': 'Liam', 'qualifications': ['A', 'B'], 'vacations': [1]},\n",
       "  {'name': 'Emma', 'qualifications': ['C'], 'vacations': [2]}],\n",
       " 'jobs': [{'name': 'Job1',\n",
       "   'gain': 20,\n",
       "   'due_date': 3,\n",
       "   'daily_penalty': 3,\n",
       "   'working_days_per_qualification': {'A': 1, 'B': 1, 'C': 1}},\n",
       "  {'name': 'Job2',\n",
       "   'gain': 15,\n",
       "   'due_date': 3,\n",
       "   'daily_penalty': 3,\n",
       "   'working_days_per_qualification': {'A': 1, 'B': 2}},\n",
       "  {'name': 'Job3',\n",
       "   'gain': 15,\n",
       "   'due_date': 4,\n",
       "   'daily_penalty': 3,\n",
       "   'working_days_per_qualification': {'A': 1, 'C': 2}},\n",
       "  {'name': 'Job4',\n",
       "   'gain': 20,\n",
       "   'due_date': 3,\n",
       "   'daily_penalty': 3,\n",
       "   'working_days_per_qualification': {'B': 2, 'C': 1}},\n",
       "  {'name': 'Job5',\n",
       "   'gain': 10,\n",
       "   'due_date': 5,\n",
       "   'daily_penalty': 3,\n",
       "   'working_days_per_qualification': {'C': 2}}]}"
      ]
     },
     "execution_count": 9,
     "metadata": {},
     "output_type": "execute_result"
    }
   ],
   "source": [
    "res[\"small\"]"
   ]
  },
  {
   "cell_type": "code",
   "execution_count": 4,
   "metadata": {},
   "outputs": [
    {
     "data": {
      "text/plain": [
       "{'horizon': 22,\n",
       " 'qualifications': ['F', 'G', 'A', 'D', 'J', 'C', 'H', 'E', 'B', 'I'],\n",
       " 'staff': [{'name': 'Olivia',\n",
       "   'qualifications': ['A', 'B', 'C'],\n",
       "   'vacations': [1, 2]},\n",
       "  {'name': 'Liam', 'qualifications': ['A', 'D', 'E'], 'vacations': [1, 2]},\n",
       "  {'name': 'Emma', 'qualifications': ['B', 'H'], 'vacations': [8, 9]},\n",
       "  {'name': 'Noah',\n",
       "   'qualifications': ['G', 'D', 'J', 'C', 'H', 'I'],\n",
       "   'vacations': []},\n",
       "  {'name': 'Amelia',\n",
       "   'qualifications': ['F', 'G', 'J', 'E'],\n",
       "   'vacations': [16, 15]}],\n",
       " 'jobs': [{'name': 'Job1',\n",
       "   'gain': 15,\n",
       "   'due_date': 20,\n",
       "   'daily_penalty': 3,\n",
       "   'working_days_per_qualification': {'A': 4, 'B': 4}},\n",
       "  {'name': 'Job2',\n",
       "   'gain': 30,\n",
       "   'due_date': 16,\n",
       "   'daily_penalty': 3,\n",
       "   'working_days_per_qualification': {'A': 4, 'B': 2, 'C': 1, 'D': 4}},\n",
       "  {'name': 'Job3',\n",
       "   'gain': 30,\n",
       "   'due_date': 12,\n",
       "   'daily_penalty': 3,\n",
       "   'working_days_per_qualification': {'A': 4, 'C': 1}},\n",
       "  {'name': 'Job4',\n",
       "   'gain': 30,\n",
       "   'due_date': 18,\n",
       "   'daily_penalty': 3,\n",
       "   'working_days_per_qualification': {'A': 6}},\n",
       "  {'name': 'Job5',\n",
       "   'gain': 70,\n",
       "   'due_date': 10,\n",
       "   'daily_penalty': 3,\n",
       "   'working_days_per_qualification': {'B': 3, 'C': 4, 'D': 8}},\n",
       "  {'name': 'Job6',\n",
       "   'gain': 40,\n",
       "   'due_date': 16,\n",
       "   'daily_penalty': 3,\n",
       "   'working_days_per_qualification': {'D': 4, 'E': 5}},\n",
       "  {'name': 'Job7',\n",
       "   'gain': 20,\n",
       "   'due_date': 20,\n",
       "   'daily_penalty': 3,\n",
       "   'working_days_per_qualification': {'D': 5, 'E': 5, 'F': 1}},\n",
       "  {'name': 'Job8',\n",
       "   'gain': 10,\n",
       "   'due_date': 22,\n",
       "   'daily_penalty': 3,\n",
       "   'working_days_per_qualification': {'E': 3, 'F': 6}},\n",
       "  {'name': 'Job9',\n",
       "   'gain': 25,\n",
       "   'due_date': 18,\n",
       "   'daily_penalty': 3,\n",
       "   'working_days_per_qualification': {'E': 4, 'G': 3, 'H': 2}},\n",
       "  {'name': 'Job10',\n",
       "   'gain': 20,\n",
       "   'due_date': 18,\n",
       "   'daily_penalty': 3,\n",
       "   'working_days_per_qualification': {'F': 6}},\n",
       "  {'name': 'Job11',\n",
       "   'gain': 25,\n",
       "   'due_date': 18,\n",
       "   'daily_penalty': 3,\n",
       "   'working_days_per_qualification': {'F': 6, 'G': 2, 'H': 1}},\n",
       "  {'name': 'Job12',\n",
       "   'gain': 45,\n",
       "   'due_date': 12,\n",
       "   'daily_penalty': 3,\n",
       "   'working_days_per_qualification': {'H': 6, 'J': 3}},\n",
       "  {'name': 'Job13',\n",
       "   'gain': 40,\n",
       "   'due_date': 14,\n",
       "   'daily_penalty': 3,\n",
       "   'working_days_per_qualification': {'I': 4, 'J': 8}},\n",
       "  {'name': 'Job14',\n",
       "   'gain': 60,\n",
       "   'due_date': 12,\n",
       "   'daily_penalty': 3,\n",
       "   'working_days_per_qualification': {'G': 4, 'J': 4}},\n",
       "  {'name': 'Job15',\n",
       "   'gain': 50,\n",
       "   'due_date': 16,\n",
       "   'daily_penalty': 3,\n",
       "   'working_days_per_qualification': {'G': 4, 'H': 4}}]}"
      ]
     },
     "execution_count": 4,
     "metadata": {},
     "output_type": "execute_result"
    }
   ],
   "source": [
    "res[\"medium\"]"
   ]
  },
  {
   "cell_type": "code",
   "execution_count": 5,
   "metadata": {},
   "outputs": [
    {
     "data": {
      "text/plain": [
       "{'horizon': 36,\n",
       " 'qualifications': ['E', 'I', 'J', 'A', 'C', 'H', 'G', 'D', 'B', 'F'],\n",
       " 'staff': [{'name': 'Olivia',\n",
       "   'qualifications': ['B', 'A', 'C'],\n",
       "   'vacations': [1, 2, 3, 4, 5]},\n",
       "  {'name': 'Liam',\n",
       "   'qualifications': ['E', 'A', 'D'],\n",
       "   'vacations': [6, 7, 8, 9, 10]},\n",
       "  {'name': 'Emma',\n",
       "   'qualifications': ['B', 'H'],\n",
       "   'vacations': [21, 22, 23, 24, 25]},\n",
       "  {'name': 'Noah',\n",
       "   'qualifications': ['C', 'H', 'G', 'D'],\n",
       "   'vacations': [26, 27, 28, 29, 30]},\n",
       "  {'name': 'Amelia',\n",
       "   'qualifications': ['E', 'I', 'G', 'J', 'F'],\n",
       "   'vacations': []},\n",
       "  {'name': 'Oliver',\n",
       "   'qualifications': ['J', 'F', 'G'],\n",
       "   'vacations': [32, 33, 31]}],\n",
       " 'jobs': [{'name': 'Job1',\n",
       "   'gain': 15,\n",
       "   'due_date': 26,\n",
       "   'daily_penalty': 3,\n",
       "   'working_days_per_qualification': {'A': 4, 'B': 4}},\n",
       "  {'name': 'Job2',\n",
       "   'gain': 30,\n",
       "   'due_date': 22,\n",
       "   'daily_penalty': 3,\n",
       "   'working_days_per_qualification': {'A': 4, 'B': 2, 'C': 1, 'D': 4}},\n",
       "  {'name': 'Job3',\n",
       "   'gain': 30,\n",
       "   'due_date': 16,\n",
       "   'daily_penalty': 3,\n",
       "   'working_days_per_qualification': {'A': 4, 'C': 1}},\n",
       "  {'name': 'Job4',\n",
       "   'gain': 30,\n",
       "   'due_date': 18,\n",
       "   'daily_penalty': 3,\n",
       "   'working_days_per_qualification': {'A': 6}},\n",
       "  {'name': 'Job6',\n",
       "   'gain': 70,\n",
       "   'due_date': 14,\n",
       "   'daily_penalty': 3,\n",
       "   'working_days_per_qualification': {'B': 3, 'C': 4, 'D': 8}},\n",
       "  {'name': 'Job7',\n",
       "   'gain': 50,\n",
       "   'due_date': 32,\n",
       "   'daily_penalty': 3,\n",
       "   'working_days_per_qualification': {'B': 3, 'E': 4, 'H': 7}},\n",
       "  {'name': 'Job8',\n",
       "   'gain': 50,\n",
       "   'due_date': 18,\n",
       "   'daily_penalty': 3,\n",
       "   'working_days_per_qualification': {'B': 3, 'I': 4}},\n",
       "  {'name': 'Job9',\n",
       "   'gain': 80,\n",
       "   'due_date': 30,\n",
       "   'daily_penalty': 3,\n",
       "   'working_days_per_qualification': {'C': 5, 'D': 5, 'G': 8}},\n",
       "  {'name': 'Job10',\n",
       "   'gain': 80,\n",
       "   'due_date': 20,\n",
       "   'daily_penalty': 3,\n",
       "   'working_days_per_qualification': {'C': 7, 'F': 5, 'H': 8}},\n",
       "  {'name': 'Job11',\n",
       "   'gain': 20,\n",
       "   'due_date': 32,\n",
       "   'daily_penalty': 3,\n",
       "   'working_days_per_qualification': {'C': 4, 'I': 5}},\n",
       "  {'name': 'Job12',\n",
       "   'gain': 20,\n",
       "   'due_date': 32,\n",
       "   'daily_penalty': 3,\n",
       "   'working_days_per_qualification': {'C': 8, 'J': 4}},\n",
       "  {'name': 'Job13',\n",
       "   'gain': 40,\n",
       "   'due_date': 26,\n",
       "   'daily_penalty': 3,\n",
       "   'working_days_per_qualification': {'D': 4, 'E': 5}},\n",
       "  {'name': 'Job14',\n",
       "   'gain': 20,\n",
       "   'due_date': 30,\n",
       "   'daily_penalty': 3,\n",
       "   'working_days_per_qualification': {'D': 5, 'E': 5, 'F': 1}},\n",
       "  {'name': 'Job15',\n",
       "   'gain': 20,\n",
       "   'due_date': 26,\n",
       "   'daily_penalty': 3,\n",
       "   'working_days_per_qualification': {'D': 5, 'G': 5, 'J': 3}},\n",
       "  {'name': 'Job16',\n",
       "   'gain': 20,\n",
       "   'due_date': 36,\n",
       "   'daily_penalty': 3,\n",
       "   'working_days_per_qualification': {'D': 5, 'H': 5, 'J': 2}},\n",
       "  {'name': 'Job17',\n",
       "   'gain': 80,\n",
       "   'due_date': 18,\n",
       "   'daily_penalty': 3,\n",
       "   'working_days_per_qualification': {'E': 3, 'F': 6, 'I': 8}},\n",
       "  {'name': 'Job18',\n",
       "   'gain': 25,\n",
       "   'due_date': 18,\n",
       "   'daily_penalty': 3,\n",
       "   'working_days_per_qualification': {'E': 4, 'G': 3, 'H': 2}},\n",
       "  {'name': 'Job20',\n",
       "   'gain': 20,\n",
       "   'due_date': 26,\n",
       "   'daily_penalty': 3,\n",
       "   'working_days_per_qualification': {'F': 6}},\n",
       "  {'name': 'Job21',\n",
       "   'gain': 25,\n",
       "   'due_date': 18,\n",
       "   'daily_penalty': 3,\n",
       "   'working_days_per_qualification': {'F': 6, 'G': 2, 'H': 1}},\n",
       "  {'name': 'Job22',\n",
       "   'gain': 60,\n",
       "   'due_date': 12,\n",
       "   'daily_penalty': 3,\n",
       "   'working_days_per_qualification': {'G': 4, 'H': 4}},\n",
       "  {'name': 'Job23',\n",
       "   'gain': 50,\n",
       "   'due_date': 28,\n",
       "   'daily_penalty': 3,\n",
       "   'working_days_per_qualification': {'G': 4, 'I': 6, 'J': 4}},\n",
       "  {'name': 'Job24',\n",
       "   'gain': 50,\n",
       "   'due_date': 26,\n",
       "   'daily_penalty': 3,\n",
       "   'working_days_per_qualification': {'G': 4, 'J': 4}},\n",
       "  {'name': 'Job25',\n",
       "   'gain': 45,\n",
       "   'due_date': 12,\n",
       "   'daily_penalty': 3,\n",
       "   'working_days_per_qualification': {'H': 6, 'I': 3}},\n",
       "  {'name': 'Job27',\n",
       "   'gain': 40,\n",
       "   'due_date': 14,\n",
       "   'daily_penalty': 3,\n",
       "   'working_days_per_qualification': {'I': 4, 'J': 8}},\n",
       "  {'name': 'Job28',\n",
       "   'gain': 50,\n",
       "   'due_date': 14,\n",
       "   'daily_penalty': 3,\n",
       "   'working_days_per_qualification': {'J': 10}}]}"
      ]
     },
     "execution_count": 5,
     "metadata": {},
     "output_type": "execute_result"
    }
   ],
   "source": [
    "res[\"large\"]"
   ]
  },
  {
   "cell_type": "code",
   "execution_count": 6,
   "metadata": {},
   "outputs": [
    {
     "data": {
      "text/plain": [
       "['small', 'medium', 'large']"
      ]
     },
     "execution_count": 6,
     "metadata": {},
     "output_type": "execute_result"
    }
   ],
   "source": [
    "l"
   ]
  },
  {
   "cell_type": "code",
   "execution_count": 36,
   "metadata": {},
   "outputs": [],
   "source": [
    "## à changer selon le fichier que l'on veut\n",
    "## traiter\n",
    "taille = \"small\""
   ]
  },
  {
   "cell_type": "code",
   "execution_count": 37,
   "metadata": {},
   "outputs": [],
   "source": [
    "horizon = res[taille][\"horizon\"]\n",
    "qualifications = res[taille][\"qualifications\"]\n",
    "staff = res[taille][\"staff\"]\n",
    "jobs = res[taille][\"jobs\"]"
   ]
  },
  {
   "cell_type": "code",
   "execution_count": 38,
   "metadata": {},
   "outputs": [],
   "source": [
    "noms_employes = []\n",
    "for person in staff:\n",
    "    noms_employes.append(person[\"name\"])\n",
    "\n",
    "noms_projet = []\n",
    "for projet in jobs:\n",
    "    noms_projet.append(projet[\"name\"])"
   ]
  },
  {
   "cell_type": "code",
   "execution_count": 39,
   "metadata": {},
   "outputs": [],
   "source": [
    "nombre_projets = len(noms_projet)\n",
    "nombre_qualif = len(qualifications)\n",
    "nombre_employes = len(noms_employes)"
   ]
  },
  {
   "attachments": {},
   "cell_type": "markdown",
   "metadata": {},
   "source": [
    "Définissons les variables"
   ]
  },
  {
   "cell_type": "code",
   "execution_count": 77,
   "metadata": {},
   "outputs": [
    {
     "name": "stdout",
     "output_type": "stream",
     "text": [
      "[[1, 0, 0, 0, 0], [1, 0, 0, 0, 0], [1, 0, 0, 0, 0]]\n",
      "[[1, 1, 0, 0, 0], [1, 1, 0, 0, 0], [1, 1, 0, 0, 0]]\n",
      "[[1, 1, 1, 0, 0], [1, 1, 1, 0, 0], [1, 1, 1, 0, 0]]\n",
      "[[1, 1, 1, 0, 0], [1, 1, 1, 0, 0], [1, 1, 1, 0, 0]]\n",
      "[[1, 2, 1, 0, 0], [1, 2, 1, 0, 0], [1, 2, 1, 0, 0]]\n",
      "[[1, 2, 1, 2, 0], [1, 2, 1, 2, 0], [1, 2, 1, 2, 0]]\n",
      "[[1, 2, 1, 2, 0], [1, 2, 1, 2, 0], [1, 2, 1, 2, 0]]\n",
      "[[1, 2, 2, 2, 0], [1, 2, 2, 2, 0], [1, 2, 2, 2, 0]]\n",
      "[[1, 2, 2, 1, 0], [1, 2, 2, 1, 0], [1, 2, 2, 1, 0]]\n",
      "[[1, 2, 2, 1, 2], [1, 2, 2, 1, 2], [1, 2, 2, 1, 2]]\n"
     ]
    }
   ],
   "source": [
    "## besoin_i_j, le projet j a besoin de la qualif i\n",
    "besoin = [[0]*nombre_projets]*nombre_qualif\n",
    "\n",
    "## conge_k_n, l'employé k est en congés au jours n\n",
    "conge = [[0]*horizon]*nombre_employes\n",
    "\n",
    "## qualif_i_k, l'employé k a la qualif i\n",
    "qualif = [[0]*nombre_employes]*nombre_qualif\n",
    "\n",
    "## d_j, date de livraison selon les projets\n",
    "d = [0]*nombre_projets\n",
    "\n",
    "## p_j, pénalités selon les projets\n",
    "p = [0]*nombre_projets\n",
    "\n",
    "## b_j, bénéfices selon les projets\n",
    "b = [0]*nombre_projets\n",
    "\n",
    "\n",
    "\n",
    "\n",
    "##########################################\n",
    "##########################################\n",
    "\n",
    "\n",
    "\n",
    "for job in jobs:\n",
    "    ## jobs is list of dict\n",
    "    ## job is dict\n",
    "\n",
    "    num_projet = noms_projet.index(job[\"name\"])\n",
    "    b[num_projet] = job[\"gain\"]\n",
    "    d[num_projet] = job[\"due_date\"]\n",
    "    p[num_projet] = job[\"daily_penalty\"]\n",
    "\n",
    "    for qualification, jours in job[\"working_days_per_qualification\"].items():\n",
    "        num_qualif = qualifications.index(qualification)\n",
    "        besoin[num_qualif][num_projet] = jours\n",
    "        print(besoin)\n",
    "\n",
    "# print(\"besoin : \", besoin)\n",
    "# print(\"qualif : \", qualif)\n",
    "# print(\"conge : \", conge)\n",
    "# print(\"d : \", d)\n",
    "# print(\"p : \", p)\n",
    "# print(\"b : \", b)"
   ]
  },
  {
   "cell_type": "code",
   "execution_count": null,
   "metadata": {},
   "outputs": [],
   "source": [
    "for person in staff:\n",
    "    num_person = noms_employes.index(person[\"name\"])\n",
    "\n",
    "    for qual in person[\"qualifications\"]:    \n",
    "        num_qualif = qualifications.index(qual)\n",
    "        qualif[num_person][num_qualif] = 1\n",
    "    \n",
    "    for date in person[\"vacations\"]:\n",
    "        if date is not None:\n",
    "            conge[num_person][date] = 1\n",
    "\n",
    "# print(\"besoin : \", besoin)\n",
    "# print(\"qualif : \", qualif)\n",
    "# print(\"conge : \", conge)\n",
    "# print(\"d : \", d)\n",
    "# print(\"p : \", p)\n",
    "# print(\"b : \", b)"
   ]
  },
  {
   "attachments": {},
   "cell_type": "markdown",
   "metadata": {},
   "source": [
    "Définissons les paramètres"
   ]
  },
  {
   "cell_type": "code",
   "execution_count": null,
   "metadata": {},
   "outputs": [],
   "source": [
    "## u_j, le projet j est réalisé\n",
    "u = [0]*nombre_projets\n",
    "\n",
    "## x_i_j_k_n, l'employé k travaille sur le projet j avec la qualif i\n",
    "## au jour n\n",
    "x = [[[[0]*horizon]*nombre_employes]*nombre_projets]*nombre_qualif"
   ]
  }
 ],
 "metadata": {
  "kernelspec": {
   "display_name": "base",
   "language": "python",
   "name": "python3"
  },
  "language_info": {
   "codemirror_mode": {
    "name": "ipython",
    "version": 3
   },
   "file_extension": ".py",
   "mimetype": "text/x-python",
   "name": "python",
   "nbconvert_exporter": "python",
   "pygments_lexer": "ipython3",
   "version": "3.8.5"
  },
  "orig_nbformat": 4,
  "vscode": {
   "interpreter": {
    "hash": "d353b0c5e377b70cf8d68715abfc75cf273a5427d1952db2f540f22618aa254a"
   }
  }
 },
 "nbformat": 4,
 "nbformat_minor": 2
}
