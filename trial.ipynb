{
 "cells": [
  {
   "cell_type": "code",
   "execution_count": 1,
   "metadata": {},
   "outputs": [
    {
     "name": "stderr",
     "output_type": "stream",
     "text": [
      "c:\\Users\\faust\\Anaconda3\\lib\\site-packages\\pandas\\core\\computation\\expressions.py:20: UserWarning: Pandas requires version '2.7.3' or newer of 'numexpr' (version '2.7.1' currently installed).\n",
      "  from pandas.core.computation.check import NUMEXPR_INSTALLED\n"
     ]
    }
   ],
   "source": [
    "import numpy as np\n",
    "import pandas as pd\n",
    "from itertools import product\n",
    "\n",
    "import gurobipy as grb\n",
    "from gurobipy import GRB"
   ]
  },
  {
   "attachments": {},
   "cell_type": "markdown",
   "metadata": {},
   "source": [
    "Input Problem parameters"
   ]
  },
  {
   "attachments": {},
   "cell_type": "markdown",
   "metadata": {},
   "source": [
    "Définissons les variables"
   ]
  },
  {
   "cell_type": "code",
   "execution_count": 2,
   "metadata": {},
   "outputs": [],
   "source": [
    "from extract_parameters import extract_parameters\n",
    "\n",
    "################################\n",
    "######## TO DO #################\n",
    "################################\n",
    "\n",
    "# choose taille among: \"small\", \"medium\", \"large\"\n",
    "taille = \"small\""
   ]
  },
  {
   "cell_type": "code",
   "execution_count": 3,
   "metadata": {},
   "outputs": [],
   "source": [
    "################################\n",
    "######## DO NOT CHANGE #########\n",
    "################################\n",
    "conge, qualif, d, p, b, besoin = extract_parameters(taille)"
   ]
  },
  {
   "cell_type": "code",
   "execution_count": 4,
   "metadata": {},
   "outputs": [
    {
     "data": {
      "text/plain": [
       "[[1, 1, 0, 1, 1], [1, 0, 1, 1, 1], [1, 1, 1, 1, 1]]"
      ]
     },
     "execution_count": 4,
     "metadata": {},
     "output_type": "execute_result"
    }
   ],
   "source": [
    "conge"
   ]
  },
  {
   "attachments": {},
   "cell_type": "markdown",
   "metadata": {},
   "source": [
    "Définissons les paramètres"
   ]
  },
  {
   "cell_type": "code",
   "execution_count": 5,
   "metadata": {},
   "outputs": [],
   "source": [
    "from define_nums import define_nums\n",
    "\n",
    "nombre_employes, horizon, nombre_qualif, nombre_projets = define_nums(conge, qualif, d, p, b, besoin)"
   ]
  },
  {
   "cell_type": "code",
   "execution_count": 6,
   "metadata": {},
   "outputs": [],
   "source": [
    "## u_j, le projet j est réalisé\n",
    "u = [0]*nombre_projets\n",
    "\n",
    "## x_i_j_k_n, l'employé k travaille sur le projet j avec la qualif i\n",
    "## au jour n\n",
    "x = [[[[0]*horizon for _ in range(nombre_employes)] for _ in range(nombre_projets)] for _ in range(nombre_qualif)]\n",
    "\n",
    "## t_k_j, l'employé k travaille sur le projet j\n",
    "t = [[0]*nombre_projets for _ in range(nombre_employes)]\n",
    "\n",
    "## begin_j, la date de debut effective du projet j\n",
    "begin = [0]*nombre_projets\n",
    "\n",
    "## end_j, la date de fin effective = date de livraison du projet j\n",
    "end = [0]*nombre_projets\n",
    "\n",
    "## delay_j, le nombre de jours de retard par projet j\n",
    "delay = [0]*nombre_projets\n",
    "\n",
    "## longueur_j, la longueur du projet j\n",
    "longueur = [0]*nombre_projets\n",
    "\n",
    "## projet_par_employe_k, le nombre de projet par employe\n",
    "projet_par_employe = [0]*nombre_employes"
   ]
  },
  {
   "attachments": {},
   "cell_type": "markdown",
   "metadata": {},
   "source": [
    "Model deployment"
   ]
  },
  {
   "attachments": {},
   "cell_type": "markdown",
   "metadata": {},
   "source": [
    "Add the variables"
   ]
  },
  {
   "cell_type": "code",
   "execution_count": null,
   "metadata": {},
   "outputs": [],
   "source": [
    "model = grb.Model(\"Planning\")\n",
    "\n",
    "## Les dates de début des projets\n",
    "dateDebut = model.addVar()\n",
    "\n",
    "# Allocation of retailers to Division 1.\n",
    "allocate = model.addVars(retailers, vtype=GRB.BINARY, name=\"allocate\")\n",
    "\n",
    "# Positive and negative deviation of delivery points goal.\n",
    "\n",
    "deliveryPointsPos = model.addVar(ub= deliveryPoints5, name='deliveryPointsPos')\n",
    "deliveryPointsNeg = model.addVar(ub= deliveryPoints5, name='deliveryPointsNeg')"
   ]
  },
  {
   "attachments": {},
   "cell_type": "markdown",
   "metadata": {},
   "source": [
    "Add constraints"
   ]
  },
  {
   "cell_type": "code",
   "execution_count": null,
   "metadata": {},
   "outputs": [],
   "source": [
    "for i in range(nombre_qualif):\n",
    "    for j in range(nombre_projets):\n",
    "        for k in range(nombre_employes):\n",
    "            for n in range(horizon):\n",
    "                    ## La qualification du personnel\n",
    "                model.addConstr( x[i][j][k][n] <= qualif[i][k], name=f\"QualificationPersonnel[{i}{k}]\")\n",
    "\n",
    "                ## Contraintes des congés\n",
    "                model.addConstr( x[i][j][k][n] <= conge[k][n], name=f\"CongesPersonnel[{k}{n}]\")\n",
    "        \n",
    "        ## Contrainte d'unicité de réalisation d'un projet\n",
    "        model.addConstr( grb.quickum(grb.quicksum(x[i][j][k][n] for n in range(horizon)) for k in range(nombre_employes)) <= besoin[i][j], name=f\"UniciteRealisation[{i}{j}]\")\n",
    "\n",
    "        ## Couverture des qualifications\n",
    "        model.addConstr(grb.quickum(grb.quicksum(x[i][j][k][n] for n in range(horizon)) for k in range(nombre_employes)) >= grb.max_(besoin[i][j])*(1-u[j]), name=f\"CouvertureQualificationsInf[{i}{j}]\")\n",
    "        model.addConstr(grb.quickum(grb.quicksum(x[i][j][k][n] for n in range(horizon)) for k in range(nombre_employes)) < grb.max_(besoin[i][j])*u[j], name=f\"CouvertureQualificationsSup[{i}{j}]\")\n",
    "\n",
    "\n",
    "## Unicité de l'affectation quotidienne\n",
    "for k in range(nombre_employes):\n",
    "    for n in range(horizon):\n",
    "        model.addConstr( grb.quickum(grb.quicksum(grb.quicksum(grb.quicksum(x[i][j][kp][np]*(np==n)*(kp==k) for np in range(horizon)) for kp in range(nombre_employes)) for j in range(nombre_projets)) for i in range(nombre_qualif)) <= 1, name=f\"UniciteAffectation[{k}{n}]\" )\n",
    "\n",
    "\n",
    "for j in range(nombre_projets):\n",
    "    ## start date\n",
    "\n",
    "    ## end date\n",
    "\n",
    "    ## longueur\n",
    "    longueur[j] = end[j] - begin[j]\n",
    "\n",
    "    ## delay\n",
    "    delay[j] = grb.max_( [0, longueur[j]])\n",
    "\n",
    "\n",
    "\n",
    "## projet_par_employe\n",
    "for k in range(nombre_employes):\n",
    "    projet_par_employe[k] = grb.quicksum( t[k][j] for j in range(nombre_projets))  \n"
   ]
  },
  {
   "attachments": {},
   "cell_type": "markdown",
   "metadata": {},
   "source": [
    "Fonctions objectif"
   ]
  },
  {
   "cell_type": "code",
   "execution_count": null,
   "metadata": {},
   "outputs": [],
   "source": [
    "## bénéfice total\n",
    "benefice_tot = grb.quicksum( (b[j] - delay[j]*p[j])*u[j] for j in range(nombre_projets) )\n",
    "\n",
    "## Nombre de projet maximum par personne\n",
    "projet_max = grb.max_(projet_par_employe)\n",
    "\n",
    "## Compacité\n",
    "longueur_max = grb.max_(longueur)\n",
    "\n",
    "model.ModelSense = GRB.MINIMIZE\n",
    "model.setObjectiveN(-benefice_tot, 0, 2)\n",
    "model.setObjectiveN(projet_max, 1, 1)\n",
    "model.setObjectiveN(longueur_max, 2, 0)"
   ]
  },
  {
   "attachments": {},
   "cell_type": "markdown",
   "metadata": {},
   "source": [
    "Model optimisation"
   ]
  },
  {
   "cell_type": "code",
   "execution_count": null,
   "metadata": {},
   "outputs": [],
   "source": [
    "# Verify model formulation\n",
    "\n",
    "# model.write('marketSharing.lp')\n",
    "\n",
    "# Run optimization engine\n",
    "\n",
    "model.optimize()"
   ]
  }
 ],
 "metadata": {
  "kernelspec": {
   "display_name": "base",
   "language": "python",
   "name": "python3"
  },
  "language_info": {
   "codemirror_mode": {
    "name": "ipython",
    "version": 3
   },
   "file_extension": ".py",
   "mimetype": "text/x-python",
   "name": "python",
   "nbconvert_exporter": "python",
   "pygments_lexer": "ipython3",
   "version": "3.8.5"
  },
  "orig_nbformat": 4,
  "vscode": {
   "interpreter": {
    "hash": "d353b0c5e377b70cf8d68715abfc75cf273a5427d1952db2f540f22618aa254a"
   }
  }
 },
 "nbformat": 4,
 "nbformat_minor": 2
}
