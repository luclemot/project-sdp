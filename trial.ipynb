{
 "cells": [
  {
   "cell_type": "code",
   "execution_count": 1,
   "metadata": {},
   "outputs": [
    {
     "name": "stderr",
     "output_type": "stream",
     "text": [
      "c:\\Users\\faust\\Anaconda3\\lib\\site-packages\\pandas\\core\\computation\\expressions.py:20: UserWarning: Pandas requires version '2.7.3' or newer of 'numexpr' (version '2.7.1' currently installed).\n",
      "  from pandas.core.computation.check import NUMEXPR_INSTALLED\n"
     ]
    }
   ],
   "source": [
    "import numpy as np\n",
    "import pandas as pd\n",
    "from itertools import product\n",
    "\n",
    "import gurobipy as grb"
   ]
  },
  {
   "attachments": {},
   "cell_type": "markdown",
   "metadata": {},
   "source": [
    "Input Problem parameters"
   ]
  },
  {
   "attachments": {},
   "cell_type": "markdown",
   "metadata": {},
   "source": [
    "Définissons les variables"
   ]
  },
  {
   "cell_type": "code",
   "execution_count": 2,
   "metadata": {},
   "outputs": [],
   "source": [
    "from extract_parameters import extract_parameters\n",
    "\n",
    "################################\n",
    "######## TO DO #################\n",
    "################################\n",
    "\n",
    "# choose taille among: \"small\", \"medium\", \"large\"\n",
    "taille = \"small\""
   ]
  },
  {
   "cell_type": "code",
   "execution_count": 3,
   "metadata": {},
   "outputs": [],
   "source": [
    "################################\n",
    "######## DO NOT CHANGE #########\n",
    "################################\n",
    "conge, qualif, d, p, b, besoin = extract_parameters(taille)"
   ]
  },
  {
   "cell_type": "code",
   "execution_count": 4,
   "metadata": {},
   "outputs": [
    {
     "data": {
      "text/plain": [
       "[[1, 1, 0, 1, 1], [1, 0, 1, 1, 1], [1, 1, 1, 1, 1]]"
      ]
     },
     "execution_count": 4,
     "metadata": {},
     "output_type": "execute_result"
    }
   ],
   "source": [
    "conge"
   ]
  },
  {
   "attachments": {},
   "cell_type": "markdown",
   "metadata": {},
   "source": [
    "Définissons les paramètres"
   ]
  },
  {
   "cell_type": "code",
   "execution_count": 5,
   "metadata": {},
   "outputs": [],
   "source": [
    "from define_nums import define_nums\n",
    "\n",
    "nombre_employes, horizon, nombre_qualif, nombre_projets = define_nums(conge, qualif, d, p, b, besoin)"
   ]
  },
  {
   "cell_type": "code",
   "execution_count": 6,
   "metadata": {},
   "outputs": [],
   "source": [
    "## u_j, le projet j est réalisé\n",
    "u = [0]*nombre_projets\n",
    "\n",
    "## x_i_j_k_n, l'employé k travaille sur le projet j avec la qualif i\n",
    "## au jour n\n",
    "x = [[[[0]*horizon for _ in range(nombre_employes)] for _ in range(nombre_projets)] for _ in range(nombre_qualif)]\n",
    "\n",
    "## begin_j, la date de debut effective du projet j\n",
    "begin = [0]*nombre_projets\n",
    "\n",
    "## end_j, la date de fin effective = date de livraison du projet j\n",
    "end = [0]*nombre_projets"
   ]
  },
  {
   "attachments": {},
   "cell_type": "markdown",
   "metadata": {},
   "source": [
    "Model deployment"
   ]
  },
  {
   "attachments": {},
   "cell_type": "markdown",
   "metadata": {},
   "source": [
    "Add the variables"
   ]
  },
  {
   "cell_type": "code",
   "execution_count": null,
   "metadata": {},
   "outputs": [],
   "source": [
    "model = grb.Model(\"Planning\")\n",
    "\n",
    "## Les dates de début des projets\n",
    "dateDebut = model.addVar()\n",
    "\n",
    "# Allocation of retailers to Division 1.\n",
    "allocate = model.addVars(retailers, vtype=GRB.BINARY, name=\"allocate\")\n",
    "\n",
    "# Positive and negative deviation of delivery points goal.\n",
    "\n",
    "deliveryPointsPos = model.addVar(ub= deliveryPoints5, name='deliveryPointsPos')\n",
    "deliveryPointsNeg = model.addVar(ub= deliveryPoints5, name='deliveryPointsNeg')"
   ]
  },
  {
   "attachments": {},
   "cell_type": "markdown",
   "metadata": {},
   "source": [
    "Add constraints"
   ]
  },
  {
   "cell_type": "code",
   "execution_count": null,
   "metadata": {},
   "outputs": [],
   "source": [
    "for i in range(nombre_qualif):\n",
    "    for j in range(nombre_projets):\n",
    "        for k in range(nombre_employes):\n",
    "            for n in range(horizon):\n",
    "\n",
    "                ## La qualification du personnel\n",
    "                model.addConstr( x[i][j][k][n] <= qualif[i][k], name=f\"QualificationPersonnel[{i}{k}]\")\n",
    "\n",
    "                ## Contraintes des congés\n",
    "                model.addConstr( x[i][j][k][n] <= conge[k][n], name=f\"CongesPersonnel[{k}{n}]\")\n",
    "        \n",
    "        ## Contrainte d'unicité de réalisation d'un projet\n",
    "        model.addConstr( grb.quickum(grb.quicksum(x[i][j][k][n] for n in range(horizon)) for k in range(nombre_employes)) <= besoin[i][j], name=f\"UniciteRealisation[{i}{j}]\")\n",
    "\n",
    "\n",
    "## Unicité de l'affectation quotidienne\n",
    "## WIP  !!!!!!!!!!!!\n",
    "for k in range(nombre_employes):\n",
    "    for n in range(horizon):\n",
    "        y = [ [0]*nombre_projets for _ in range(nombre_qualif)]\n",
    "\n",
    "\n",
    "        model.addConstr( grb.quickum(grb.quicksum(x[i][j][k][n] for j in range(nombre_projets)) for i in range(nombre_qualif)) <= 1, name=f\"UniciteAffectation[{k}{n}]\" )\n",
    "\n",
    "\n",
    "\n",
    "\n",
    "\n",
    "## begin date\n",
    "## TO DO\n",
    "\n",
    "\n",
    "## end date\n",
    "## TO DO\n",
    "\n",
    "## Couverture des qualifications\n",
    "CouvertureQualifications = model.addConstr((a == b), name='CouvertureQualifications')\n",
    "\n"
   ]
  },
  {
   "attachments": {},
   "cell_type": "markdown",
   "metadata": {},
   "source": [
    "Fonctions objectif"
   ]
  },
  {
   "cell_type": "code",
   "execution_count": null,
   "metadata": {},
   "outputs": [],
   "source": [
    "## bénéfice total\n",
    "\n",
    "\n",
    "obj = deliveryPointsPos + deliveryPointsNeg+ spiritMarketPos + spiritMarketNeg + oilMarket1Pos + oilMarket1Neg + oilMarket2Pos + oilMarket2Neg + oilMarket3Pos + oilMarket3Neg + retailerAPos + retailerANeg + retailerBPos + retailerBNeg \n",
    "\n",
    "model.setObjective(obj)"
   ]
  },
  {
   "attachments": {},
   "cell_type": "markdown",
   "metadata": {},
   "source": [
    "Model optimisation"
   ]
  },
  {
   "cell_type": "code",
   "execution_count": null,
   "metadata": {},
   "outputs": [],
   "source": [
    "# Verify model formulation\n",
    "\n",
    "# model.write('marketSharing.lp')\n",
    "\n",
    "# Run optimization engine\n",
    "\n",
    "model.optimize()"
   ]
  }
 ],
 "metadata": {
  "kernelspec": {
   "display_name": "base",
   "language": "python",
   "name": "python3"
  },
  "language_info": {
   "codemirror_mode": {
    "name": "ipython",
    "version": 3
   },
   "file_extension": ".py",
   "mimetype": "text/x-python",
   "name": "python",
   "nbconvert_exporter": "python",
   "pygments_lexer": "ipython3",
   "version": "3.8.5"
  },
  "orig_nbformat": 4,
  "vscode": {
   "interpreter": {
    "hash": "d353b0c5e377b70cf8d68715abfc75cf273a5427d1952db2f540f22618aa254a"
   }
  }
 },
 "nbformat": 4,
 "nbformat_minor": 2
}
