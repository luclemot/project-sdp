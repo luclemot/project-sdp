{
 "cells": [
  {
   "cell_type": "code",
   "execution_count": 207,
   "metadata": {},
   "outputs": [],
   "source": [
    "import numpy as np\n",
    "import pandas as pd\n",
    "from itertools import product\n",
    "\n",
    "import gurobipy as grb\n",
    "from gurobipy import GRB"
   ]
  },
  {
   "cell_type": "markdown",
   "metadata": {},
   "source": [
    "# Input Problem Parameters"
   ]
  },
  {
   "cell_type": "markdown",
   "metadata": {},
   "source": [
    "## Définissons les variables"
   ]
  },
  {
   "cell_type": "code",
   "execution_count": 349,
   "metadata": {},
   "outputs": [],
   "source": [
    "from extract_parameters import extract_parameters\n",
    "\n",
    "################################\n",
    "######## TO DO #################\n",
    "################################\n",
    "\n",
    "# choose taille among: \"small\", \"medium\", \"large\"\n",
    "taille = \"small\""
   ]
  },
  {
   "cell_type": "code",
   "execution_count": 350,
   "metadata": {},
   "outputs": [],
   "source": [
    "################################\n",
    "######## DO NOT CHANGE #########\n",
    "################################\n",
    "conge, qualif, d, p, b, besoin = extract_parameters(taille)"
   ]
  },
  {
   "cell_type": "code",
   "execution_count": 351,
   "metadata": {},
   "outputs": [
    {
     "name": "stdout",
     "output_type": "stream",
     "text": [
      "conge :  [[1, 1, 0, 1, 1], [1, 0, 1, 1, 1], [1, 1, 1, 1, 1]]\n",
      "qualif :  [[0, 1, 1], [0, 1, 1], [1, 0, 1]]\n",
      "date livraison :  [3, 3, 4, 3, 5]\n",
      "pénalité :  [3, 3, 3, 3, 3]\n",
      "bénéfice :  [20, 15, 15, 20, 10]\n",
      "besoin :  [[1, 1, 1, 0, 0], [1, 2, 0, 2, 0], [1, 0, 2, 1, 2]]\n"
     ]
    }
   ],
   "source": [
    "print(\"conge : \",conge)\n",
    "print(\"qualif : \",qualif)\n",
    "print(\"date livraison : \",d)\n",
    "print(\"pénalité : \",p)\n",
    "print(\"bénéfice : \",b)\n",
    "print(\"besoin : \",besoin)"
   ]
  },
  {
   "cell_type": "markdown",
   "metadata": {},
   "source": [
    "## Définissons les paramètres"
   ]
  },
  {
   "cell_type": "code",
   "execution_count": 352,
   "metadata": {},
   "outputs": [],
   "source": [
    "from define_nums import define_nums\n",
    "\n",
    "nombre_employes, horizon, nombre_qualif, nombre_projets = define_nums(conge, qualif, d, p, b, besoin)"
   ]
  },
  {
   "cell_type": "code",
   "execution_count": 353,
   "metadata": {},
   "outputs": [
    {
     "name": "stdout",
     "output_type": "stream",
     "text": [
      "nombre_employes :  3\n",
      "horizon :  5\n",
      "nombre_qualif :  3\n",
      "nombre_projets :  5\n"
     ]
    }
   ],
   "source": [
    "print(\"nombre_employes : \",nombre_employes)\n",
    "print(\"horizon : \",horizon)\n",
    "print(\"nombre_qualif : \",nombre_qualif)\n",
    "print(\"nombre_projets : \",nombre_projets)"
   ]
  },
  {
   "cell_type": "code",
   "execution_count": 354,
   "metadata": {},
   "outputs": [],
   "source": [
    "## u_j, le projet j est réalisé\n",
    "u = [0]*nombre_projets\n",
    "u_shape = len(u)\n",
    "\n",
    "## x_i_j_k_n, l'employé k travaille sur le projet j avec la qualif i\n",
    "## au jour n\n",
    "#x = [[[[0]*horizon for _ in range(nombre_employes)] for _ in range(nombre_projets)] for _ in range(nombre_qualif)]\n",
    "x_shape = [(i,j,k, n) for i in range(nombre_qualif) for j in range(nombre_projets) for k in range(nombre_employes) for n in range(horizon)]\n",
    "\n",
    "## t_k_j, l'employé k travaille sur le projet j\n",
    "#t = [[0]*nombre_projets for _ in range(nombre_employes)]\n",
    "t_shape = [(i,j) for i in range(nombre_employes) for j in range(nombre_projets)]\n",
    "\n",
    "## begin_j, la date de début effective\n",
    "begin = [0]*nombre_projets\n",
    "begin_shape = len(begin)\n",
    "\n",
    "## end_j, la date de fin effective = date de livraison du projet j\n",
    "end = [0]*nombre_projets\n",
    "end_shape = len(end)\n",
    "\n",
    "## delay_j, le nombre de jours de retard par projet j\n",
    "delay = [0]*nombre_projets\n",
    "delay_shape = len(delay)\n",
    "\n",
    "## longueur_j, la longueur du projet j\n",
    "longueur = [0]*nombre_projets\n",
    "longueur_shape = len(longueur)\n",
    "\n",
    "## projet_par_employe_k, le nombre de projet par employe\n",
    "projet_par_employe = [0]*nombre_employes\n",
    "projet_par_employe_shape = len(projet_par_employe)\n",
    "\n",
    "# majorant pour la contrainte de couverture\n",
    "maj = horizon * nombre_employes\n",
    "\n",
    "\n",
    "job_in_process_shape = [(j, n) for j in range(nombre_projets) for n in range(horizon)]"
   ]
  },
  {
   "cell_type": "markdown",
   "metadata": {},
   "source": [
    "# Model deployment"
   ]
  },
  {
   "cell_type": "markdown",
   "metadata": {},
   "source": [
    "## Add the variables"
   ]
  },
  {
   "cell_type": "code",
   "execution_count": 355,
   "metadata": {},
   "outputs": [],
   "source": [
    "model = grb.Model(\"Planning\")\n",
    "\n",
    "# L'affectation du planning, la variable clé\n",
    "x = model.addVars(x_shape, vtype=GRB.BINARY, name=\"x\")\n",
    "\n",
    "## Les dates de fin des projets\n",
    "dateFin = model.addVars(end_shape, lb = 0, ub = horizon, name = \"dateFin\")\n",
    "\n",
    "## Les dates de début des projets\n",
    "dateDebut = model.addVars(begin_shape, lb = 0, ub = horizon, name = \"dateDebut\")\n",
    "\n",
    "## Le nombre de jours de delai\n",
    "delay = model.addVars(delay_shape, lb = 0, ub = horizon, name = \"delay\")\n",
    "\n",
    "## Les longueurs des projets\n",
    "longueur = model.addVars(longueur_shape, lb = 0, ub = horizon, name = \"longueur\")\n",
    "\n",
    "## Nombre de projet par employé\n",
    "projet_par_employe = model.addVars(projet_par_employe_shape, lb = 0, ub = nombre_projets, name = \"projet_par_employe\")\n",
    "\n",
    "## L'affectation sur un projet d'un employé\n",
    "affectation = model.addVars(t_shape, vtype = GRB.BINARY, name = \"affectation\")\n",
    "\n",
    "## La réalisation ou non d'un projet\n",
    "u = model.addVars(u_shape, vtype = GRB.BINARY, name=\"u\")\n",
    "\n",
    "## Verification du projet\n",
    "job_in_process = model.addVars(job_in_process_shape, vtype = GRB.BINARY, name = \"job_in_process\")"
   ]
  },
  {
   "cell_type": "code",
   "execution_count": 356,
   "metadata": {},
   "outputs": [],
   "source": [
    "# Update le modele pour confirmer la création des variables\n",
    "model.update()\n"
   ]
  },
  {
   "cell_type": "markdown",
   "metadata": {},
   "source": [
    "## Add constraints"
   ]
  },
  {
   "cell_type": "code",
   "execution_count": 357,
   "metadata": {},
   "outputs": [
    {
     "name": "stdout",
     "output_type": "stream",
     "text": [
      "0 0 0 0\n",
      "0 0 0 1\n",
      "0 0 0 2\n",
      "0 0 0 3\n",
      "0 0 0 4\n",
      "0 0 1 0\n",
      "0 0 1 1\n",
      "0 0 1 2\n",
      "0 0 1 3\n",
      "0 0 1 4\n",
      "0 0 2 0\n",
      "0 0 2 1\n",
      "0 0 2 2\n",
      "0 0 2 3\n",
      "0 0 2 4\n",
      "0 1 0 0\n",
      "0 1 0 1\n",
      "0 1 0 2\n",
      "0 1 0 3\n",
      "0 1 0 4\n",
      "0 1 1 0\n",
      "0 1 1 1\n",
      "0 1 1 2\n",
      "0 1 1 3\n",
      "0 1 1 4\n",
      "0 1 2 0\n",
      "0 1 2 1\n",
      "0 1 2 2\n",
      "0 1 2 3\n",
      "0 1 2 4\n",
      "0 2 0 0\n",
      "0 2 0 1\n",
      "0 2 0 2\n",
      "0 2 0 3\n",
      "0 2 0 4\n",
      "0 2 1 0\n",
      "0 2 1 1\n",
      "0 2 1 2\n",
      "0 2 1 3\n",
      "0 2 1 4\n",
      "0 2 2 0\n",
      "0 2 2 1\n",
      "0 2 2 2\n",
      "0 2 2 3\n",
      "0 2 2 4\n",
      "0 3 0 0\n",
      "0 3 0 1\n",
      "0 3 0 2\n",
      "0 3 0 3\n",
      "0 3 0 4\n",
      "0 3 1 0\n",
      "0 3 1 1\n",
      "0 3 1 2\n",
      "0 3 1 3\n",
      "0 3 1 4\n",
      "0 3 2 0\n",
      "0 3 2 1\n",
      "0 3 2 2\n",
      "0 3 2 3\n",
      "0 3 2 4\n",
      "0 4 0 0\n",
      "0 4 0 1\n",
      "0 4 0 2\n",
      "0 4 0 3\n",
      "0 4 0 4\n",
      "0 4 1 0\n",
      "0 4 1 1\n",
      "0 4 1 2\n",
      "0 4 1 3\n",
      "0 4 1 4\n",
      "0 4 2 0\n",
      "0 4 2 1\n",
      "0 4 2 2\n",
      "0 4 2 3\n",
      "0 4 2 4\n",
      "1 0 0 0\n",
      "1 0 0 1\n",
      "1 0 0 2\n",
      "1 0 0 3\n",
      "1 0 0 4\n",
      "1 0 1 0\n",
      "1 0 1 1\n",
      "1 0 1 2\n",
      "1 0 1 3\n",
      "1 0 1 4\n",
      "1 0 2 0\n",
      "1 0 2 1\n",
      "1 0 2 2\n",
      "1 0 2 3\n",
      "1 0 2 4\n",
      "1 1 0 0\n",
      "1 1 0 1\n",
      "1 1 0 2\n",
      "1 1 0 3\n",
      "1 1 0 4\n",
      "1 1 1 0\n",
      "1 1 1 1\n",
      "1 1 1 2\n",
      "1 1 1 3\n",
      "1 1 1 4\n",
      "1 1 2 0\n",
      "1 1 2 1\n",
      "1 1 2 2\n",
      "1 1 2 3\n",
      "1 1 2 4\n",
      "1 2 0 0\n",
      "1 2 0 1\n",
      "1 2 0 2\n",
      "1 2 0 3\n",
      "1 2 0 4\n",
      "1 2 1 0\n",
      "1 2 1 1\n",
      "1 2 1 2\n",
      "1 2 1 3\n",
      "1 2 1 4\n",
      "1 2 2 0\n",
      "1 2 2 1\n",
      "1 2 2 2\n",
      "1 2 2 3\n",
      "1 2 2 4\n",
      "1 3 0 0\n",
      "1 3 0 1\n",
      "1 3 0 2\n",
      "1 3 0 3\n",
      "1 3 0 4\n",
      "1 3 1 0\n",
      "1 3 1 1\n",
      "1 3 1 2\n",
      "1 3 1 3\n",
      "1 3 1 4\n",
      "1 3 2 0\n",
      "1 3 2 1\n",
      "1 3 2 2\n",
      "1 3 2 3\n",
      "1 3 2 4\n",
      "1 4 0 0\n",
      "1 4 0 1\n",
      "1 4 0 2\n",
      "1 4 0 3\n",
      "1 4 0 4\n",
      "1 4 1 0\n",
      "1 4 1 1\n",
      "1 4 1 2\n",
      "1 4 1 3\n",
      "1 4 1 4\n",
      "1 4 2 0\n",
      "1 4 2 1\n",
      "1 4 2 2\n",
      "1 4 2 3\n",
      "1 4 2 4\n",
      "2 0 0 0\n",
      "2 0 0 1\n",
      "2 0 0 2\n",
      "2 0 0 3\n",
      "2 0 0 4\n",
      "2 0 1 0\n",
      "2 0 1 1\n",
      "2 0 1 2\n",
      "2 0 1 3\n",
      "2 0 1 4\n",
      "2 0 2 0\n",
      "2 0 2 1\n",
      "2 0 2 2\n",
      "2 0 2 3\n",
      "2 0 2 4\n",
      "2 1 0 0\n",
      "2 1 0 1\n",
      "2 1 0 2\n",
      "2 1 0 3\n",
      "2 1 0 4\n",
      "2 1 1 0\n",
      "2 1 1 1\n",
      "2 1 1 2\n",
      "2 1 1 3\n",
      "2 1 1 4\n",
      "2 1 2 0\n",
      "2 1 2 1\n",
      "2 1 2 2\n",
      "2 1 2 3\n",
      "2 1 2 4\n",
      "2 2 0 0\n",
      "2 2 0 1\n",
      "2 2 0 2\n",
      "2 2 0 3\n",
      "2 2 0 4\n",
      "2 2 1 0\n",
      "2 2 1 1\n",
      "2 2 1 2\n",
      "2 2 1 3\n",
      "2 2 1 4\n",
      "2 2 2 0\n",
      "2 2 2 1\n",
      "2 2 2 2\n",
      "2 2 2 3\n",
      "2 2 2 4\n",
      "2 3 0 0\n",
      "2 3 0 1\n",
      "2 3 0 2\n",
      "2 3 0 3\n",
      "2 3 0 4\n",
      "2 3 1 0\n",
      "2 3 1 1\n",
      "2 3 1 2\n",
      "2 3 1 3\n",
      "2 3 1 4\n",
      "2 3 2 0\n",
      "2 3 2 1\n",
      "2 3 2 2\n",
      "2 3 2 3\n",
      "2 3 2 4\n",
      "2 4 0 0\n",
      "2 4 0 1\n",
      "2 4 0 2\n",
      "2 4 0 3\n",
      "2 4 0 4\n",
      "2 4 1 0\n",
      "2 4 1 1\n",
      "2 4 1 2\n",
      "2 4 1 3\n",
      "2 4 1 4\n",
      "2 4 2 0\n",
      "2 4 2 1\n",
      "2 4 2 2\n",
      "2 4 2 3\n",
      "2 4 2 4\n"
     ]
    }
   ],
   "source": [
    "for i in range(nombre_qualif):\n",
    "    for j in range(nombre_projets):\n",
    "        for k in range(nombre_employes):\n",
    "            for n in range(horizon):\n",
    "                ## La qualification du personnel\n",
    "                print(i,j,k,n)\n",
    "                model.addConstr( x[i,j,k,n] <= qualif[i][k], name=\"QualificationPersonnel[{0}{1}{2}{3}]\".format(i,j,k,n))\n",
    "                model.addConstr( x[i,j,k,n] <= (besoin[i][j] >=1), name = \"BesoinQualifPersonnel[{0}{1}{2}{3}]\".format(i,j,k,n))\n",
    "                ## Contraintes des congés\n",
    "                model.addConstr( x[i,j,k,n] <= conge[k][n], name=f\"CongesPersonnel[{i}{j}{k}{n}]\")\n",
    "        \n",
    "        ## Contrainte d'unicité de réalisation d'un projet\n",
    "        model.addConstr( grb.quicksum(grb.quicksum(x[i,j,k,n] for n in range(horizon)) for k in range(nombre_employes)) >= besoin[i][j]*u[j], name=f\"UniciteRealisationMin[{i}{j}]\")\n",
    "        model.addConstr( grb.quicksum(grb.quicksum(x[i,j,k,n] for n in range(horizon)) for k in range(nombre_employes)) <= besoin[i][j], name=f\"UniciteRealisation[{i}{j}]\")\n",
    "\n",
    "        ## Couverture des qualifications\n",
    "        model.addConstr( grb.quicksum(grb.quicksum(x[i,j,k,n] for n in range(horizon)) for k in range(nombre_employes)) >= maj*(1-u[j]), name=f\"CouvertureQualificationsInf[{i}{j}]\")\n",
    "        model.addConstr( grb.quicksum(grb.quicksum(x[i,j,k,n] for n in range(horizon)) for k in range(nombre_employes)) <= maj*u[j] -10**-4, name=f\"CouvertureQualificationsSup[{i}{j}]\")\n",
    "\n",
    "\n",
    "## Unicité de l'affectation quotidienne\n",
    "for k in range(nombre_employes):\n",
    "    for n in range(horizon):\n",
    "        model.addConstr(grb.quicksum(grb.quicksum(x[i,j,k,n] for j in range(nombre_projets)) for i in range(nombre_qualif)) <= 1, name=f\"UniciteAffectation[{k}{n}]\")\n",
    "\n",
    "        \n",
    "for j in range(nombre_projets):\n",
    "    for n in range(horizon):\n",
    "        model.addConstrs(((job_in_process[j,n] >= x[i,j,k,n]) for i in range(nombre_qualif) for k in range(nombre_employes)), name=f\"ContrainteJobInProcess[{j}{n}]\")\n",
    "    model.addConstrs(((dateDebut[j] <= job_in_process[j,n]) for n in range(horizon)), name = f\"ContrainteDateDebut[{j}]\")\n",
    "    ## end date\n",
    "    model.addConstrs(((job_in_process[j,n] <= dateFin[j]) for n in range(horizon)), name=f\"FinProjet[{j}]\")\n",
    "    ## longueur\n",
    "    model.addConstr(longueur[j] == dateFin[j] - dateDebut[j], name=f\"LongueurProjet[{j}]\")\n",
    "    ## end date\n",
    "    #model.addConstrs(((x[i,j,k,n] * n <= dateFin[j]) for i in range(nombre_qualif) for k in range(nombre_employes) for n in range(horizon)), name=f\"FinProjet[{j}]\")\n",
    "    ## delay\n",
    "    model.addConstr(delay[j] >=0, name=f\"DelaiProjet_positif[{j}]\")\n",
    "    model.addConstr(delay[j] >=(dateFin[j] - d[j]), name=f\"DelaiProjet_difference[{j}]\")\n",
    "    #model.addConstr(delay[j]== grb.max_(0,dateFin[j] - d[j]), name=f\"DelaiProjet[{j}]\")\n",
    "    \n",
    "\n",
    "## projet_par_employe\n",
    "for k in range(nombre_employes):\n",
    "    model.addConstr(projet_par_employe[k] == grb.quicksum( affectation[k,j] for j in range(nombre_projets)), name=f\"FinProjet[{j}]\")\n",
    "    \n",
    "    \n",
    "## Contrainte de l'affectation à un projet selon les jours de travail\n",
    "for k in range(nombre_employes):\n",
    "    for j in range(nombre_projets):\n",
    "        model.addConstr(affectation[k,j] <=1, name=f\"AffectationProjet_1[{k}{j}]\")\n",
    "        model.addConstr(affectation[k,j] <=grb.quicksum(grb.quicksum(x[i,j,k,n] for i in range(nombre_qualif)) for n in range(horizon)), name=f\"AffectationProjetQuicksum[{k}{j}]\")\n",
    "        #model.addConstr(affectation[k,j] == grb.min_(1,grb.quicksum(grb.quicksum(x[i,j,k,n] for i in range(nombre_qualif)) for n in range(horizon))), name=f\"AffectationProjet[{j}]\")\n",
    "\n",
    "        \n",
    "    "
   ]
  },
  {
   "cell_type": "markdown",
   "metadata": {},
   "source": [
    "## Fonctions objectif"
   ]
  },
  {
   "cell_type": "code",
   "execution_count": 358,
   "metadata": {},
   "outputs": [],
   "source": [
    "## bénéfice total\n",
    "benefice_tot = grb.quicksum( (b[j]*u[j] - delay[j]*p[j]) for j in range(nombre_projets) )\n",
    "\n",
    "## Nombre de projet maximum par personne\n",
    "projet_max = model.addVar(name=\"projet_max\")\n",
    "model.addConstrs(projet_max>=projet_par_employe[k] for k in range(nombre_employes))\n",
    "model.update()\n",
    "\n",
    "## Compacité\n",
    "longueur_max = grb.max_(longueur)\n",
    "\n",
    "model.ModelSense = GRB.MINIMIZE\n",
    "model.setObjectiveN(benefice_tot,0,2)\n",
    "#model.setObjectiveN(projet_max, 1, 1)\n",
    "#model.setObjectiveN(longueur_max, 2, 0)"
   ]
  },
  {
   "cell_type": "code",
   "execution_count": 359,
   "metadata": {},
   "outputs": [],
   "source": [
    "### Corriger les fonctions obj 2 et 3 qui plantent\n",
    "### Comprendre pq on passe jamais nos x à 1"
   ]
  },
  {
   "cell_type": "markdown",
   "metadata": {},
   "source": [
    "# Model optimisation"
   ]
  },
  {
   "cell_type": "code",
   "execution_count": 360,
   "metadata": {},
   "outputs": [
    {
     "name": "stdout",
     "output_type": "stream",
     "text": [
      "Warning: linear constraint 1040 and linear constraint 1041 have the same name \"FinProjet[4]\"\n",
      "Gurobi Optimizer version 10.0.0 build v10.0.0rc2 (mac64[x86])\n",
      "\n",
      "CPU model: Intel(R) Core(TM) i5-5350U CPU @ 1.80GHz\n",
      "Thread count: 2 physical cores, 4 logical processors, using up to 4 threads\n",
      "\n",
      "Optimize a model with 1076 rows, 294 columns and 2699 nonzeros\n",
      "Model fingerprint: 0x09e8b5ad\n",
      "Variable types: 24 continuous, 270 integer (270 binary)\n",
      "Coefficient statistics:\n",
      "  Matrix range     [1e+00, 2e+01]\n",
      "  Objective range  [3e+00, 2e+01]\n",
      "  Bounds range     [1e+00, 5e+00]\n",
      "  RHS range        [1e-04, 2e+01]\n",
      "\n",
      "---------------------------------------------------------------------------\n",
      "Multi-objectives: starting optimization with 1 objectives ... \n",
      "---------------------------------------------------------------------------\n",
      "---------------------------------------------------------------------------\n",
      "\n",
      "Multi-objectives: optimize objective 1 () ...\n",
      "---------------------------------------------------------------------------\n",
      "\n",
      "Optimize a model with 1076 rows, 294 columns and 2699 nonzeros\n",
      "Model fingerprint: 0xdd7040a3\n",
      "Variable types: 24 continuous, 270 integer (270 binary)\n",
      "Coefficient statistics:\n",
      "  Matrix range     [1e+00, 2e+01]\n",
      "  Objective range  [3e+00, 2e+01]\n",
      "  Bounds range     [1e+00, 5e+00]\n",
      "  RHS range        [1e-04, 2e+01]\n",
      "Presolve removed 1053 rows and 204 columns\n",
      "Presolve time: 0.00s\n",
      "Presolved: 23 rows, 90 columns, 180 nonzeros\n",
      "Variable types: 0 continuous, 90 integer (90 binary)\n",
      "\n",
      "Root relaxation: infeasible, 34 iterations, 0.00 seconds (0.00 work units)\n",
      "\n",
      "    Nodes    |    Current Node    |     Objective Bounds      |     Work\n",
      " Expl Unexpl |  Obj  Depth IntInf | Incumbent    BestBd   Gap | It/Node Time\n",
      "\n",
      "     0     0 infeasible    0               - infeasible      -     -    0s\n",
      "\n",
      "Explored 1 nodes (34 simplex iterations) in 0.16 seconds (0.00 work units)\n",
      "Thread count was 4 (of 4 available processors)\n",
      "\n",
      "Solution count 0\n",
      "\n",
      "Model is infeasible\n",
      "Best objective -, best bound -, gap -\n",
      "\n",
      "---------------------------------------------------------------------------\n",
      "Multi-objectives: solved in 0.18 seconds (0.00 work units)\n",
      "Model is infeasible\n",
      "\n"
     ]
    },
    {
     "ename": "AttributeError",
     "evalue": "Unable to retrieve attribute 'X'",
     "output_type": "error",
     "traceback": [
      "\u001b[0;31m---------------------------------------------------------------------------\u001b[0m",
      "\u001b[0;31mAttributeError\u001b[0m                            Traceback (most recent call last)",
      "\u001b[0;32m<ipython-input-360-198bb222680b>\u001b[0m in \u001b[0;36m<module>\u001b[0;34m\u001b[0m\n\u001b[1;32m      9\u001b[0m \u001b[0;31m# Print the values of all variables\u001b[0m\u001b[0;34m\u001b[0m\u001b[0;34m\u001b[0m\u001b[0;34m\u001b[0m\u001b[0m\n\u001b[1;32m     10\u001b[0m \u001b[0;32mfor\u001b[0m \u001b[0mv\u001b[0m \u001b[0;32min\u001b[0m \u001b[0mmodel\u001b[0m\u001b[0;34m.\u001b[0m\u001b[0mgetVars\u001b[0m\u001b[0;34m(\u001b[0m\u001b[0;34m)\u001b[0m\u001b[0;34m:\u001b[0m\u001b[0;34m\u001b[0m\u001b[0;34m\u001b[0m\u001b[0m\n\u001b[0;32m---> 11\u001b[0;31m     \u001b[0mprint\u001b[0m\u001b[0;34m(\u001b[0m\u001b[0;34mf\"{v.VarName} = {v.X}\"\u001b[0m\u001b[0;34m)\u001b[0m\u001b[0;34m\u001b[0m\u001b[0;34m\u001b[0m\u001b[0m\n\u001b[0m",
      "\u001b[0;32msrc/gurobipy/var.pxi\u001b[0m in \u001b[0;36mgurobipy.Var.__getattr__\u001b[0;34m()\u001b[0m\n",
      "\u001b[0;32msrc/gurobipy/var.pxi\u001b[0m in \u001b[0;36mgurobipy.Var.getAttr\u001b[0;34m()\u001b[0m\n",
      "\u001b[0;32msrc/gurobipy/attrutil.pxi\u001b[0m in \u001b[0;36mgurobipy.__getattr\u001b[0;34m()\u001b[0m\n",
      "\u001b[0;31mAttributeError\u001b[0m: Unable to retrieve attribute 'X'"
     ]
    }
   ],
   "source": [
    "# Verify model formulation\n",
    "\n",
    "model.write('marketSharing.lp')\n",
    "\n",
    "# Run optimization engine\n",
    "\n",
    "model.optimize()\n",
    "\n",
    "# Print the values of all variables\n",
    "for v in model.getVars():\n",
    "    print(f\"{v.VarName} = {v.X}\")"
   ]
  },
  {
   "cell_type": "code",
   "execution_count": 361,
   "metadata": {},
   "outputs": [
    {
     "name": "stdout",
     "output_type": "stream",
     "text": [
      "\n",
      "Computing Irreducible Inconsistent Subsystem (IIS)...\n",
      "\n",
      "           Constraints          |            Bounds           |  Runtime\n",
      "      Min       Max     Guess   |   Min       Max     Guess   |\n",
      "--------------------------------------------------------------------------\n",
      "        0       374         -         0        47         -           0s\n",
      "       48        48        48         0         0         0           0s\n",
      "\n",
      "IIS computed: 48 constraints, 0 bounds\n",
      "IIS runtime: 0.13 seconds (0.03 work units)\n"
     ]
    }
   ],
   "source": [
    "model.computeIIS()"
   ]
  },
  {
   "cell_type": "code",
   "execution_count": 362,
   "metadata": {},
   "outputs": [
    {
     "ename": "AttributeError",
     "evalue": "Unable to retrieve attribute 'objVal'",
     "output_type": "error",
     "traceback": [
      "\u001b[0;31m---------------------------------------------------------------------------\u001b[0m",
      "\u001b[0;31mAttributeError\u001b[0m                            Traceback (most recent call last)",
      "\u001b[0;32m<ipython-input-362-69e24f69866e>\u001b[0m in \u001b[0;36m<module>\u001b[0;34m\u001b[0m\n\u001b[0;32m----> 1\u001b[0;31m \u001b[0mmodel\u001b[0m\u001b[0;34m.\u001b[0m\u001b[0mobjVal\u001b[0m\u001b[0;34m\u001b[0m\u001b[0;34m\u001b[0m\u001b[0m\n\u001b[0m",
      "\u001b[0;32msrc/gurobipy/model.pxi\u001b[0m in \u001b[0;36mgurobipy.Model.__getattr__\u001b[0;34m()\u001b[0m\n",
      "\u001b[0;32msrc/gurobipy/model.pxi\u001b[0m in \u001b[0;36mgurobipy.Model.getAttr\u001b[0;34m()\u001b[0m\n",
      "\u001b[0;32msrc/gurobipy/attrutil.pxi\u001b[0m in \u001b[0;36mgurobipy.__getattr\u001b[0;34m()\u001b[0m\n",
      "\u001b[0;31mAttributeError\u001b[0m: Unable to retrieve attribute 'objVal'"
     ]
    }
   ],
   "source": [
    "model.objVal"
   ]
  },
  {
   "cell_type": "code",
   "execution_count": 248,
   "metadata": {},
   "outputs": [
    {
     "ename": "AttributeError",
     "evalue": "Unable to retrieve attribute 'x'",
     "output_type": "error",
     "traceback": [
      "\u001b[0;31m---------------------------------------------------------------------------\u001b[0m",
      "\u001b[0;31mAttributeError\u001b[0m                            Traceback (most recent call last)",
      "\u001b[0;32m<ipython-input-248-0b1ac799972b>\u001b[0m in \u001b[0;36m<module>\u001b[0;34m\u001b[0m\n\u001b[0;32m----> 1\u001b[0;31m \u001b[0mx_values\u001b[0m \u001b[0;34m=\u001b[0m \u001b[0;34m[\u001b[0m\u001b[0mvar\u001b[0m\u001b[0;34m.\u001b[0m\u001b[0mx\u001b[0m \u001b[0;32mfor\u001b[0m \u001b[0mvar\u001b[0m \u001b[0;32min\u001b[0m \u001b[0mmodel\u001b[0m\u001b[0;34m.\u001b[0m\u001b[0mgetVars\u001b[0m\u001b[0;34m(\u001b[0m\u001b[0;34m)\u001b[0m\u001b[0;34m]\u001b[0m\u001b[0;34m\u001b[0m\u001b[0;34m\u001b[0m\u001b[0m\n\u001b[0m\u001b[1;32m      2\u001b[0m \u001b[0mprint\u001b[0m\u001b[0;34m(\u001b[0m\u001b[0mx_values\u001b[0m\u001b[0;34m)\u001b[0m\u001b[0;34m\u001b[0m\u001b[0;34m\u001b[0m\u001b[0m\n\u001b[1;32m      3\u001b[0m \u001b[0mprint\u001b[0m\u001b[0;34m(\u001b[0m\u001b[0mhorizon\u001b[0m\u001b[0;34m*\u001b[0m\u001b[0mnombre_projets\u001b[0m\u001b[0;34m*\u001b[0m\u001b[0mnombre_employes\u001b[0m\u001b[0;34m*\u001b[0m\u001b[0mnombre_qualif\u001b[0m\u001b[0;34m)\u001b[0m\u001b[0;34m\u001b[0m\u001b[0;34m\u001b[0m\u001b[0m\n\u001b[1;32m      4\u001b[0m \u001b[0mprint\u001b[0m\u001b[0;34m(\u001b[0m\u001b[0mnombre_projets\u001b[0m\u001b[0;34m*\u001b[0m\u001b[0;34m(\u001b[0m\u001b[0;36m2\u001b[0m\u001b[0;34m+\u001b[0m\u001b[0mnombre_employes\u001b[0m\u001b[0;34m)\u001b[0m\u001b[0;34m)\u001b[0m\u001b[0;34m\u001b[0m\u001b[0;34m\u001b[0m\u001b[0m\n",
      "\u001b[0;32m<ipython-input-248-0b1ac799972b>\u001b[0m in \u001b[0;36m<listcomp>\u001b[0;34m(.0)\u001b[0m\n\u001b[0;32m----> 1\u001b[0;31m \u001b[0mx_values\u001b[0m \u001b[0;34m=\u001b[0m \u001b[0;34m[\u001b[0m\u001b[0mvar\u001b[0m\u001b[0;34m.\u001b[0m\u001b[0mx\u001b[0m \u001b[0;32mfor\u001b[0m \u001b[0mvar\u001b[0m \u001b[0;32min\u001b[0m \u001b[0mmodel\u001b[0m\u001b[0;34m.\u001b[0m\u001b[0mgetVars\u001b[0m\u001b[0;34m(\u001b[0m\u001b[0;34m)\u001b[0m\u001b[0;34m]\u001b[0m\u001b[0;34m\u001b[0m\u001b[0;34m\u001b[0m\u001b[0m\n\u001b[0m\u001b[1;32m      2\u001b[0m \u001b[0mprint\u001b[0m\u001b[0;34m(\u001b[0m\u001b[0mx_values\u001b[0m\u001b[0;34m)\u001b[0m\u001b[0;34m\u001b[0m\u001b[0;34m\u001b[0m\u001b[0m\n\u001b[1;32m      3\u001b[0m \u001b[0mprint\u001b[0m\u001b[0;34m(\u001b[0m\u001b[0mhorizon\u001b[0m\u001b[0;34m*\u001b[0m\u001b[0mnombre_projets\u001b[0m\u001b[0;34m*\u001b[0m\u001b[0mnombre_employes\u001b[0m\u001b[0;34m*\u001b[0m\u001b[0mnombre_qualif\u001b[0m\u001b[0;34m)\u001b[0m\u001b[0;34m\u001b[0m\u001b[0;34m\u001b[0m\u001b[0m\n\u001b[1;32m      4\u001b[0m \u001b[0mprint\u001b[0m\u001b[0;34m(\u001b[0m\u001b[0mnombre_projets\u001b[0m\u001b[0;34m*\u001b[0m\u001b[0;34m(\u001b[0m\u001b[0;36m2\u001b[0m\u001b[0;34m+\u001b[0m\u001b[0mnombre_employes\u001b[0m\u001b[0;34m)\u001b[0m\u001b[0;34m)\u001b[0m\u001b[0;34m\u001b[0m\u001b[0;34m\u001b[0m\u001b[0m\n",
      "\u001b[0;32msrc/gurobipy/var.pxi\u001b[0m in \u001b[0;36mgurobipy.Var.__getattr__\u001b[0;34m()\u001b[0m\n",
      "\u001b[0;32msrc/gurobipy/var.pxi\u001b[0m in \u001b[0;36mgurobipy.Var.getAttr\u001b[0;34m()\u001b[0m\n",
      "\u001b[0;32msrc/gurobipy/attrutil.pxi\u001b[0m in \u001b[0;36mgurobipy.__getattr\u001b[0;34m()\u001b[0m\n",
      "\u001b[0;31mAttributeError\u001b[0m: Unable to retrieve attribute 'x'"
     ]
    }
   ],
   "source": [
    "x_values = [var.x for var in model.getVars()]\n",
    "print(x_values)\n",
    "print(horizon*nombre_projets*nombre_employes*nombre_qualif)\n",
    "print(nombre_projets*(2+nombre_employes))"
   ]
  },
  {
   "cell_type": "code",
   "execution_count": null,
   "metadata": {},
   "outputs": [],
   "source": []
  },
  {
   "cell_type": "code",
   "execution_count": null,
   "metadata": {},
   "outputs": [],
   "source": []
  }
 ],
 "metadata": {
  "kernelspec": {
   "display_name": "Python 3",
   "language": "python",
   "name": "python3"
  },
  "language_info": {
   "codemirror_mode": {
    "name": "ipython",
    "version": 3
   },
   "file_extension": ".py",
   "mimetype": "text/x-python",
   "name": "python",
   "nbconvert_exporter": "python",
   "pygments_lexer": "ipython3",
   "version": "3.8.5"
  },
  "vscode": {
   "interpreter": {
    "hash": "aee8b7b246df8f9039afb4144a1f6fd8d2ca17a180786b69acc140d282b71a49"
   }
  }
 },
 "nbformat": 4,
 "nbformat_minor": 2
}
