{
 "cells": [
  {
   "cell_type": "code",
   "execution_count": 52,
   "metadata": {},
   "outputs": [],
   "source": [
    "import numpy as np\n",
    "import pandas as pd\n",
    "from itertools import product\n",
    "\n",
    "import gurobipy as grb\n",
    "from gurobipy import GRB"
   ]
  },
  {
   "cell_type": "markdown",
   "metadata": {},
   "source": [
    "Input Problem parameters"
   ]
  },
  {
   "cell_type": "markdown",
   "metadata": {},
   "source": [
    "Définissons les variables"
   ]
  },
  {
   "cell_type": "code",
   "execution_count": 53,
   "metadata": {},
   "outputs": [],
   "source": [
    "from extract_parameters import extract_parameters\n",
    "\n",
    "################################\n",
    "######## TO DO #################\n",
    "################################\n",
    "\n",
    "# choose taille among: \"small\", \"medium\", \"large\"\n",
    "taille = \"small\""
   ]
  },
  {
   "cell_type": "code",
   "execution_count": 54,
   "metadata": {},
   "outputs": [],
   "source": [
    "################################\n",
    "######## DO NOT CHANGE #########\n",
    "################################\n",
    "conge, qualif, d, p, b, besoin = extract_parameters(taille)"
   ]
  },
  {
   "cell_type": "code",
   "execution_count": 55,
   "metadata": {},
   "outputs": [
    {
     "name": "stdout",
     "output_type": "stream",
     "text": [
      "conge :  [[1, 1, 0, 1, 1], [1, 0, 1, 1, 1], [1, 1, 1, 1, 1]]\n",
      "qualif :  [[0, 1, 1], [0, 1, 1], [1, 0, 1]]\n",
      "date livraison :  [3, 3, 4, 3, 5]\n",
      "pénalité :  [3, 3, 3, 3, 3]\n",
      "besoin :  [[1, 1, 1, 0, 0], [1, 2, 0, 2, 0], [1, 0, 2, 1, 2]]\n"
     ]
    }
   ],
   "source": [
    "print(\"conge : \",conge)\n",
    "print(\"qualif : \",qualif)\n",
    "print(\"date livraison : \",d)\n",
    "print(\"pénalité : \",p)\n",
    "print(\"besoin : \",besoin)"
   ]
  },
  {
   "cell_type": "markdown",
   "metadata": {},
   "source": [
    "Définissons les paramètres"
   ]
  },
  {
   "cell_type": "code",
   "execution_count": 56,
   "metadata": {},
   "outputs": [],
   "source": [
    "from define_nums import define_nums\n",
    "\n",
    "nombre_employes, horizon, nombre_qualif, nombre_projets = define_nums(conge, qualif, d, p, b, besoin)"
   ]
  },
  {
   "cell_type": "code",
   "execution_count": 57,
   "metadata": {},
   "outputs": [
    {
     "name": "stdout",
     "output_type": "stream",
     "text": [
      "nombre_employes :  3\n",
      "horizon :  5\n",
      "nombre_qualif :  3\n",
      "nombre_projets :  5\n"
     ]
    }
   ],
   "source": [
    "print(\"nombre_employes : \",nombre_employes)\n",
    "print(\"horizon : \",horizon)\n",
    "print(\"nombre_qualif : \",nombre_qualif)\n",
    "print(\"nombre_projets : \",nombre_projets)"
   ]
  },
  {
   "cell_type": "code",
   "execution_count": 58,
   "metadata": {},
   "outputs": [],
   "source": [
    "## u_j, le projet j est réalisé\n",
    "u = [0]*nombre_projets\n",
    "u_shape = len(u)\n",
    "\n",
    "## x_i_j_k_n, l'employé k travaille sur le projet j avec la qualif i\n",
    "## au jour n\n",
    "x = [[[[0]*horizon for _ in range(nombre_employes)] for _ in range(nombre_projets)] for _ in range(nombre_qualif)]\n",
    "x_shape = [(i,j,k, n) for i in range(nombre_qualif) for j in range(nombre_projets) for k in range(nombre_employes) for n in range(horizon)]\n",
    "\n",
    "## t_k_j, l'employé k travaille sur le projet j\n",
    "t = [[0]*nombre_projets for _ in range(nombre_employes)]\n",
    "t_shape = [(i,j) for i in range(nombre_employes) for j in range(nombre_projets)]\n",
    "\n",
    "## begin_j, la date de début effective\n",
    "begin = [0]*nombre_projets\n",
    "begin_shape = len(begin)\n",
    "\n",
    "## end_j, la date de fin effective = date de livraison du projet j\n",
    "end = [0]*nombre_projets\n",
    "end_shape = len(end)\n",
    "\n",
    "## delay_j, le nombre de jours de retard par projet j\n",
    "delay = [0]*nombre_projets\n",
    "\n",
    "## longueur_j, la longueur du projet j\n",
    "longueur = [0]*nombre_projets\n",
    "\n",
    "## projet_par_employe_k, le nombre de projet par employe\n",
    "projet_par_employe = [0]*nombre_employes\n",
    "\n",
    "# majorant pour la contrainte de couverture\n",
    "maj = horizon * nombre_employes"
   ]
  },
  {
   "cell_type": "markdown",
   "metadata": {},
   "source": [
    "Model deployment"
   ]
  },
  {
   "cell_type": "markdown",
   "metadata": {},
   "source": [
    "Add the variables"
   ]
  },
  {
   "cell_type": "code",
   "execution_count": 59,
   "metadata": {},
   "outputs": [],
   "source": [
    "model = grb.Model(\"Planning\")\n",
    "\n",
    "# L'affectation du planning, la variable clé\n",
    "x = model.addVars(x_shape, vtype=GRB.BINARY, name=\"x\")\n",
    "\n",
    "## Les dates de fin des projets\n",
    "dateFin = model.addVars(end_shape, lb = 0, ub = horizon, name = \"dateFin\")\n",
    "\n",
    "## L'affectation sur un projet d'un employé\n",
    "affectation = model.addVars(t_shape, vtype = GRB.BINARY, name = \"affectation\")\n",
    "\n",
    "## La réalisation ou non d'un projet\n",
    "u = model.addVars(u_shape, vtype = GRB.BINARY, name=\"u\")"
   ]
  },
  {
   "cell_type": "code",
   "execution_count": 60,
   "metadata": {},
   "outputs": [],
   "source": [
    "# Update le modele pour confirmer la création des variables\n",
    "model.update()"
   ]
  },
  {
   "cell_type": "markdown",
   "metadata": {},
   "source": [
    "Add constraints"
   ]
  },
  {
   "cell_type": "code",
   "execution_count": 61,
   "metadata": {},
   "outputs": [
    {
     "data": {
      "text/plain": [
       "'bonjour5'"
      ]
     },
     "execution_count": 61,
     "metadata": {},
     "output_type": "execute_result"
    }
   ],
   "source": [
    "bou = 5\n",
    "coucou = \"bonjour{}\".format(bou)\n",
    "coucou"
   ]
  },
  {
   "cell_type": "code",
   "execution_count": 62,
   "metadata": {},
   "outputs": [
    {
     "name": "stdout",
     "output_type": "stream",
     "text": [
      "0 0 0 0\n",
      "0 0 0 1\n",
      "0 0 0 2\n",
      "0 0 0 3\n",
      "0 0 0 4\n",
      "0 0 1 0\n",
      "0 0 1 1\n",
      "0 0 1 2\n",
      "0 0 1 3\n",
      "0 0 1 4\n",
      "0 0 2 0\n",
      "0 0 2 1\n",
      "0 0 2 2\n",
      "0 0 2 3\n",
      "0 0 2 4\n",
      "0 1 0 0\n",
      "0 1 0 1\n",
      "0 1 0 2\n",
      "0 1 0 3\n",
      "0 1 0 4\n",
      "0 1 1 0\n",
      "0 1 1 1\n",
      "0 1 1 2\n",
      "0 1 1 3\n",
      "0 1 1 4\n",
      "0 1 2 0\n",
      "0 1 2 1\n",
      "0 1 2 2\n",
      "0 1 2 3\n",
      "0 1 2 4\n",
      "0 2 0 0\n",
      "0 2 0 1\n",
      "0 2 0 2\n",
      "0 2 0 3\n",
      "0 2 0 4\n",
      "0 2 1 0\n",
      "0 2 1 1\n",
      "0 2 1 2\n",
      "0 2 1 3\n",
      "0 2 1 4\n",
      "0 2 2 0\n",
      "0 2 2 1\n",
      "0 2 2 2\n",
      "0 2 2 3\n",
      "0 2 2 4\n",
      "0 3 0 0\n",
      "0 3 0 1\n",
      "0 3 0 2\n",
      "0 3 0 3\n",
      "0 3 0 4\n",
      "0 3 1 0\n",
      "0 3 1 1\n",
      "0 3 1 2\n",
      "0 3 1 3\n",
      "0 3 1 4\n",
      "0 3 2 0\n",
      "0 3 2 1\n",
      "0 3 2 2\n",
      "0 3 2 3\n",
      "0 3 2 4\n",
      "0 4 0 0\n",
      "0 4 0 1\n",
      "0 4 0 2\n",
      "0 4 0 3\n",
      "0 4 0 4\n",
      "0 4 1 0\n",
      "0 4 1 1\n",
      "0 4 1 2\n",
      "0 4 1 3\n",
      "0 4 1 4\n",
      "0 4 2 0\n",
      "0 4 2 1\n",
      "0 4 2 2\n",
      "0 4 2 3\n",
      "0 4 2 4\n",
      "1 0 0 0\n",
      "1 0 0 1\n",
      "1 0 0 2\n",
      "1 0 0 3\n",
      "1 0 0 4\n",
      "1 0 1 0\n",
      "1 0 1 1\n",
      "1 0 1 2\n",
      "1 0 1 3\n",
      "1 0 1 4\n",
      "1 0 2 0\n",
      "1 0 2 1\n",
      "1 0 2 2\n",
      "1 0 2 3\n",
      "1 0 2 4\n",
      "1 1 0 0\n",
      "1 1 0 1\n",
      "1 1 0 2\n",
      "1 1 0 3\n",
      "1 1 0 4\n",
      "1 1 1 0\n",
      "1 1 1 1\n",
      "1 1 1 2\n",
      "1 1 1 3\n",
      "1 1 1 4\n",
      "1 1 2 0\n",
      "1 1 2 1\n",
      "1 1 2 2\n",
      "1 1 2 3\n",
      "1 1 2 4\n",
      "1 2 0 0\n",
      "1 2 0 1\n",
      "1 2 0 2\n",
      "1 2 0 3\n",
      "1 2 0 4\n",
      "1 2 1 0\n",
      "1 2 1 1\n",
      "1 2 1 2\n",
      "1 2 1 3\n",
      "1 2 1 4\n",
      "1 2 2 0\n",
      "1 2 2 1\n",
      "1 2 2 2\n",
      "1 2 2 3\n",
      "1 2 2 4\n",
      "1 3 0 0\n",
      "1 3 0 1\n",
      "1 3 0 2\n",
      "1 3 0 3\n",
      "1 3 0 4\n",
      "1 3 1 0\n",
      "1 3 1 1\n",
      "1 3 1 2\n",
      "1 3 1 3\n",
      "1 3 1 4\n",
      "1 3 2 0\n",
      "1 3 2 1\n",
      "1 3 2 2\n",
      "1 3 2 3\n",
      "1 3 2 4\n",
      "1 4 0 0\n",
      "1 4 0 1\n",
      "1 4 0 2\n",
      "1 4 0 3\n",
      "1 4 0 4\n",
      "1 4 1 0\n",
      "1 4 1 1\n",
      "1 4 1 2\n",
      "1 4 1 3\n",
      "1 4 1 4\n",
      "1 4 2 0\n",
      "1 4 2 1\n",
      "1 4 2 2\n",
      "1 4 2 3\n",
      "1 4 2 4\n",
      "2 0 0 0\n",
      "2 0 0 1\n",
      "2 0 0 2\n",
      "2 0 0 3\n",
      "2 0 0 4\n",
      "2 0 1 0\n",
      "2 0 1 1\n",
      "2 0 1 2\n",
      "2 0 1 3\n",
      "2 0 1 4\n",
      "2 0 2 0\n",
      "2 0 2 1\n",
      "2 0 2 2\n",
      "2 0 2 3\n",
      "2 0 2 4\n",
      "2 1 0 0\n",
      "2 1 0 1\n",
      "2 1 0 2\n",
      "2 1 0 3\n",
      "2 1 0 4\n",
      "2 1 1 0\n",
      "2 1 1 1\n",
      "2 1 1 2\n",
      "2 1 1 3\n",
      "2 1 1 4\n",
      "2 1 2 0\n",
      "2 1 2 1\n",
      "2 1 2 2\n",
      "2 1 2 3\n",
      "2 1 2 4\n",
      "2 2 0 0\n",
      "2 2 0 1\n",
      "2 2 0 2\n",
      "2 2 0 3\n",
      "2 2 0 4\n",
      "2 2 1 0\n",
      "2 2 1 1\n",
      "2 2 1 2\n",
      "2 2 1 3\n",
      "2 2 1 4\n",
      "2 2 2 0\n",
      "2 2 2 1\n",
      "2 2 2 2\n",
      "2 2 2 3\n",
      "2 2 2 4\n",
      "2 3 0 0\n",
      "2 3 0 1\n",
      "2 3 0 2\n",
      "2 3 0 3\n",
      "2 3 0 4\n",
      "2 3 1 0\n",
      "2 3 1 1\n",
      "2 3 1 2\n",
      "2 3 1 3\n",
      "2 3 1 4\n",
      "2 3 2 0\n",
      "2 3 2 1\n",
      "2 3 2 2\n",
      "2 3 2 3\n",
      "2 3 2 4\n",
      "2 4 0 0\n",
      "2 4 0 1\n",
      "2 4 0 2\n",
      "2 4 0 3\n",
      "2 4 0 4\n",
      "2 4 1 0\n",
      "2 4 1 1\n",
      "2 4 1 2\n",
      "2 4 1 3\n",
      "2 4 1 4\n",
      "2 4 2 0\n",
      "2 4 2 1\n",
      "2 4 2 2\n",
      "2 4 2 3\n",
      "2 4 2 4\n"
     ]
    }
   ],
   "source": [
    "for i in range(nombre_qualif):\n",
    "    for j in range(nombre_projets):\n",
    "        for k in range(nombre_employes):\n",
    "            for n in range(horizon):\n",
    "                ## La qualification du personnel\n",
    "                print(i,j,k,n)\n",
    "                model.addConstr( x[i,j,k,n] <= qualif[i][k], name=\"QualificationPersonnel[{0}{1}{2}{3}]\".format(i,j,k,n))\n",
    "\n",
    "                ## Contraintes des congés\n",
    "                model.addConstr( x[i,j,k,n] <= conge[k][n], name=f\"CongesPersonnel[{i}{j}{k}{n}]\")\n",
    "        \n",
    "        ## Contrainte d'unicité de réalisation d'un projet\n",
    "        #model.addConstr( grb.quicksum(grb.quicksum(x[i,j,k,n] for n in range(horizon)) for k in range(nombre_employes)) >= besoin[i][j]*u[j], name=f\"UniciteRealisationMin[{i}{j}]\")\n",
    "        model.addConstr( grb.quicksum(grb.quicksum(x[i,j,k,n] for n in range(horizon)) for k in range(nombre_employes)) <= besoin[i][j], name=f\"UniciteRealisation[{i}{j}]\")\n",
    "\n",
    "        ## Couverture des qualifications\n",
    "        model.addConstr( grb.quicksum(grb.quicksum(x[i,j,k,n] for n in range(horizon)) for k in range(nombre_employes)) >= maj*(1-u[j]), name=f\"CouvertureQualificationsInf[{i}{j}]\")\n",
    "        model.addConstr( grb.quicksum(grb.quicksum(x[i,j,k,n] for n in range(horizon)) for k in range(nombre_employes)) <= maj*u[j] -10**-4, name=f\"CouvertureQualificationsSup[{i}{j}]\")\n",
    "\n",
    "\n",
    "## Unicité de l'affectation quotidienne\n",
    "for k in range(nombre_employes):\n",
    "    for n in range(horizon):\n",
    "        model.addConstr( grb.quicksum(grb.quicksum(grb.quicksum(grb.quicksum(x[i,j,kp,np]*(np==n)*(kp==k) for np in range(horizon)) for kp in range(nombre_employes)) for j in range(nombre_projets)) for i in range(nombre_qualif)) <= 1, name=f\"UniciteAffectation[{k}{n}]\" )\n",
    "\n",
    "\n",
    "for j in range(nombre_projets):\n",
    "    ## end date\n",
    "    model.addConstrs(((x[i,j,k,n] * n <= dateFin[j]) for i in range(nombre_qualif) for k in range(nombre_employes) for n in range(horizon)), name=f\"FinProjet[{j}]\")\n",
    "\n",
    "    ## longueur\n",
    "    longueur[j] = end[j] - begin[j]\n",
    "\n",
    "    ## delay\n",
    "    delay[j] = max(0, end[j] - d[j])\n",
    "\n",
    "\n",
    "\n",
    "## projet_par_employe\n",
    "for k in range(nombre_employes):\n",
    "    projet_par_employe[k] = grb.quicksum( affectation[k,j] for j in range(nombre_projets))"
   ]
  },
  {
   "cell_type": "markdown",
   "metadata": {},
   "source": [
    "Fonctions objectif"
   ]
  },
  {
   "cell_type": "code",
   "execution_count": 63,
   "metadata": {},
   "outputs": [],
   "source": [
    "## bénéfice total\n",
    "benefice_tot = grb.quicksum( (b[j] - delay[j]*p[j])*u[j] for j in range(nombre_projets) )\n",
    "\n",
    "## Nombre de projet maximum par personne\n",
    "projet_max = model.addVar(name=\"projet_max\")\n",
    "model.addConstrs(projet_max>=projet_par_employe[k] for k in range(nombre_employes))\n",
    "model.update()\n",
    "\n",
    "## Compacité\n",
    "longueur_max = grb.max_(longueur)\n",
    "\n",
    "model.ModelSense = GRB.MINIMIZE\n",
    "model.setObjectiveN(-benefice_tot, 0, 2)\n",
    "#model.setObjectiveN(projet_max, 1, 1)\n",
    "#model.setObjectiveN(longueur_max, 2, 0)"
   ]
  },
  {
   "cell_type": "code",
   "execution_count": 64,
   "metadata": {},
   "outputs": [],
   "source": [
    "### Corriger les fonctions obj 2 et 3 qui plantent\n",
    "### Comprendre pq on passe jamais nos x à 1"
   ]
  },
  {
   "cell_type": "markdown",
   "metadata": {},
   "source": [
    "Model optimisation"
   ]
  },
  {
   "cell_type": "code",
   "execution_count": 65,
   "metadata": {},
   "outputs": [
    {
     "name": "stdout",
     "output_type": "stream",
     "text": [
      "Gurobi Optimizer version 10.0.0 build v10.0.0rc2 (mac64[x86])\n",
      "\n",
      "CPU model: Intel(R) Core(TM) i5-5350U CPU @ 1.80GHz\n",
      "Thread count: 2 physical cores, 4 logical processors, using up to 4 threads\n",
      "\n",
      "Optimize a model with 738 rows, 251 columns and 1803 nonzeros\n",
      "Model fingerprint: 0xabd38000\n",
      "Variable types: 6 continuous, 245 integer (245 binary)\n",
      "Coefficient statistics:\n",
      "  Matrix range     [1e+00, 2e+01]\n",
      "  Objective range  [1e+01, 2e+01]\n",
      "  Bounds range     [1e+00, 5e+00]\n",
      "  RHS range        [1e-04, 2e+01]\n",
      "\n",
      "---------------------------------------------------------------------------\n",
      "Multi-objectives: starting optimization with 1 objectives ... \n",
      "---------------------------------------------------------------------------\n",
      "---------------------------------------------------------------------------\n",
      "\n",
      "Multi-objectives: optimize objective 1 () ...\n",
      "---------------------------------------------------------------------------\n",
      "\n",
      "Optimize a model with 738 rows, 251 columns and 1803 nonzeros\n",
      "Model fingerprint: 0xcdd9da3e\n",
      "Variable types: 6 continuous, 245 integer (245 binary)\n",
      "Coefficient statistics:\n",
      "  Matrix range     [1e+00, 2e+01]\n",
      "  Objective range  [1e+01, 2e+01]\n",
      "  Bounds range     [1e+00, 5e+00]\n",
      "  RHS range        [1e-04, 2e+01]\n",
      "Found heuristic solution: objective -80.0000000\n",
      "\n",
      "Explored 0 nodes (0 simplex iterations) in 0.06 seconds (0.00 work units)\n",
      "Thread count was 1 (of 4 available processors)\n",
      "\n",
      "Solution count 1: -80 \n",
      "No other solutions better than -80\n",
      "\n",
      "Optimal solution found (tolerance 1.00e-04)\n",
      "Best objective -8.000000000000e+01, best bound -8.000000000000e+01, gap 0.0000%\n",
      "\n",
      "---------------------------------------------------------------------------\n",
      "Multi-objectives: solved in 0.07 seconds (0.00 work units), solution count 1\n",
      "\n"
     ]
    }
   ],
   "source": [
    "# Verify model formulation\n",
    "\n",
    "model.write('marketSharing.lp')\n",
    "\n",
    "# Run optimization engine\n",
    "\n",
    "model.optimize()"
   ]
  },
  {
   "cell_type": "code",
   "execution_count": 66,
   "metadata": {},
   "outputs": [
    {
     "data": {
      "text/plain": [
       "-80.0"
      ]
     },
     "execution_count": 66,
     "metadata": {},
     "output_type": "execute_result"
    }
   ],
   "source": [
    "model.objVal"
   ]
  },
  {
   "cell_type": "code",
   "execution_count": 67,
   "metadata": {},
   "outputs": [
    {
     "name": "stdout",
     "output_type": "stream",
     "text": [
      "[0.0, 0.0, 0.0, 0.0, 0.0, 0.0, 0.0, 0.0, 0.0, 0.0, 0.0, 0.0, 0.0, 0.0, 0.0, 0.0, 0.0, 0.0, 0.0, 0.0, 0.0, 0.0, 0.0, 0.0, 0.0, 0.0, 0.0, 0.0, 0.0, 0.0, 0.0, 0.0, 0.0, 0.0, 0.0, 0.0, 0.0, 0.0, 0.0, 0.0, 0.0, 0.0, 0.0, 0.0, 0.0, 0.0, 0.0, 0.0, 0.0, 0.0, 0.0, 0.0, 0.0, 0.0, 0.0, 0.0, 0.0, 0.0, 0.0, 0.0, 0.0, 0.0, 0.0, 0.0, 0.0, 0.0, 0.0, 0.0, 0.0, 0.0, 0.0, 0.0, 0.0, 0.0, 0.0, 0.0, 0.0, 0.0, 0.0, 0.0, 0.0, 0.0, 0.0, 0.0, 0.0, 0.0, 0.0, 0.0, 0.0, 0.0, 0.0, 0.0, 0.0, 0.0, 0.0, 0.0, 0.0, 0.0, 0.0, 0.0, 0.0, 0.0, 0.0, 0.0, 0.0, 0.0, 0.0, 0.0, 0.0, 0.0, 0.0, 0.0, 0.0, 0.0, 0.0, 0.0, 0.0, 0.0, 0.0, 0.0, 0.0, 0.0, 0.0, 0.0, 0.0, 0.0, 0.0, 0.0, 0.0, 0.0, 0.0, 0.0, 0.0, 0.0, 0.0, 0.0, 0.0, 0.0, 0.0, 0.0, 0.0, 0.0, 0.0, 0.0, 0.0, 0.0, 0.0, 0.0, 0.0, 0.0, 0.0, 0.0, 0.0, 0.0, 0.0, 0.0, 0.0, 0.0, 0.0, 0.0, 0.0, 0.0, 0.0, 0.0, 0.0, 0.0, 0.0, 0.0, 0.0, 0.0, 0.0, 0.0, 0.0, 0.0, 0.0, 0.0, 0.0, 0.0, 0.0, 0.0, 0.0, 0.0, 0.0, 0.0, 0.0, 0.0, 0.0, 0.0, 0.0, 0.0, 0.0, 0.0, 0.0, 0.0, 0.0, 0.0, 0.0, 0.0, 0.0, 0.0, 0.0, 0.0, 0.0, 0.0, 0.0, 0.0, 0.0, 0.0, 0.0, 0.0, 0.0, 0.0, 0.0, 0.0, 0.0, 0.0, 0.0, 0.0, 0.0, 0.0, 0.0, 0.0, 0.0, 0.0, 0.0, 5.0, 5.0, 5.0, 5.0, 5.0, 0.0, 0.0, 0.0, 0.0, 0.0, 0.0, 0.0, 0.0, 0.0, 0.0, 0.0, 0.0, 0.0, 0.0, 0.0, 1.0, 1.0, 1.0, 1.0, 1.0, 2000000000.0]\n",
      "225\n",
      "25\n"
     ]
    }
   ],
   "source": [
    "x_values = [var.x for var in model.getVars()]\n",
    "print(x_values)\n",
    "print(horizon*nombre_projets*nombre_employes*nombre_qualif)\n",
    "print(nombre_projets*(2+nombre_employes))"
   ]
  },
  {
   "cell_type": "code",
   "execution_count": null,
   "metadata": {},
   "outputs": [],
   "source": []
  }
 ],
 "metadata": {
  "kernelspec": {
   "display_name": "Python 3",
   "language": "python",
   "name": "python3"
  },
  "language_info": {
   "codemirror_mode": {
    "name": "ipython",
    "version": 3
   },
   "file_extension": ".py",
   "mimetype": "text/x-python",
   "name": "python",
   "nbconvert_exporter": "python",
   "pygments_lexer": "ipython3",
   "version": "3.8.5"
  },
  "vscode": {
   "interpreter": {
    "hash": "aee8b7b246df8f9039afb4144a1f6fd8d2ca17a180786b69acc140d282b71a49"
   }
  }
 },
 "nbformat": 4,
 "nbformat_minor": 2
}
